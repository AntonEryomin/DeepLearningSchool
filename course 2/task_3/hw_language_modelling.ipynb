{
 "cells": [
  {
   "cell_type": "markdown",
   "metadata": {
    "id": "d0ADTojbpfLt"
   },
   "source": [
    "<p style=\"align: center;\"><img src=\"https://static.tildacdn.com/tild6636-3531-4239-b465-376364646465/Deep_Learning_School.png\" width=\"400\"></p>\n",
    "\n",
    "# Домашнее задание. Обучение языковой модели с помощью LSTM (10 баллов)"
   ]
  },
  {
   "cell_type": "markdown",
   "metadata": {
    "id": "ldHSmYY6p_mZ"
   },
   "source": [
    "Э\n",
    "В этом задании Вам предстоит обучить языковую модель с помощью рекуррентной нейронной сети. В отличие от семинарского занятия, Вам необходимо будет работать с отдельными словами, а не буквами.\n",
    "\n",
    "\n",
    "Установим модуль ```datasets```, чтобы нам проще было работать с данными."
   ]
  },
  {
   "cell_type": "code",
   "execution_count": 1,
   "metadata": {
    "id": "3yvNdv6cp_0P"
   },
   "outputs": [],
   "source": [
    "# !pip install datasets"
   ]
  },
  {
   "cell_type": "markdown",
   "metadata": {
    "id": "rh9ZXSeCpng9"
   },
   "source": [
    "Импорт необходимых библиотек"
   ]
  },
  {
   "cell_type": "code",
   "execution_count": 1,
   "metadata": {
    "id": "XOJi16bLpd_O"
   },
   "outputs": [
    {
     "name": "stderr",
     "output_type": "stream",
     "text": [
      "/Users/antoneremin/Documents/JupyterLab/python_dir/lib/python3.11/site-packages/tqdm/auto.py:21: TqdmWarning: IProgress not found. Please update jupyter and ipywidgets. See https://ipywidgets.readthedocs.io/en/stable/user_install.html\n",
      "  from .autonotebook import tqdm as notebook_tqdm\n"
     ]
    }
   ],
   "source": [
    "import torch\n",
    "import torch.nn as nn\n",
    "from torch.utils.data import Dataset, DataLoader\n",
    "\n",
    "import numpy as np\n",
    "import matplotlib.pyplot as plt\n",
    "\n",
    "from tqdm.auto import tqdm\n",
    "from datasets import load_dataset\n",
    "from nltk.tokenize import sent_tokenize, word_tokenize\n",
    "from sklearn.model_selection import train_test_split\n",
    "import nltk\n",
    "\n",
    "from collections import Counter\n",
    "from typing import List\n",
    "\n",
    "import seaborn\n",
    "seaborn.set(palette='summer')"
   ]
  },
  {
   "cell_type": "code",
   "execution_count": 2,
   "metadata": {
    "id": "91JuM0SQvXud"
   },
   "outputs": [
    {
     "name": "stderr",
     "output_type": "stream",
     "text": [
      "[nltk_data] Downloading package punkt to\n",
      "[nltk_data]     /Users/antoneremin/nltk_data...\n",
      "[nltk_data]   Package punkt is already up-to-date!\n"
     ]
    },
    {
     "data": {
      "text/plain": [
       "True"
      ]
     },
     "execution_count": 2,
     "metadata": {},
     "output_type": "execute_result"
    }
   ],
   "source": [
    "nltk.download('punkt')"
   ]
  },
  {
   "cell_type": "code",
   "execution_count": 4,
   "metadata": {
    "id": "adJC8ShFq9HM"
   },
   "outputs": [
    {
     "data": {
      "text/plain": [
       "'mps'"
      ]
     },
     "execution_count": 4,
     "metadata": {},
     "output_type": "execute_result"
    }
   ],
   "source": [
    "if torch.backends.mps.is_available():\n",
    "    device = 'mps'  # MPS (Metal Performance Shaders) для Apple Silicon\n",
    "elif torch.cuda.is_available():\n",
    "    device = 'cuda'  # Для CUDA\n",
    "else:\n",
    "    device = 'cpu'  # CPU fallback\n",
    "\n",
    "device"
   ]
  },
  {
   "cell_type": "markdown",
   "metadata": {
    "id": "pwsfS1ENq5ig"
   },
   "source": [
    "## Подготовка данных\n",
    "\n",
    "Воспользуемся датасетом imdb. В нем хранятся отзывы о фильмах с сайта imdb. Загрузим данные с помощью функции ```load_dataset```"
   ]
  },
  {
   "cell_type": "code",
   "execution_count": 5,
   "metadata": {
    "id": "qHLNWOfJqSfc"
   },
   "outputs": [],
   "source": [
    "# Загрузим датасет\n",
    "dataset = load_dataset('imdb')"
   ]
  },
  {
   "cell_type": "code",
   "execution_count": 34,
   "metadata": {},
   "outputs": [
    {
     "data": {
      "text/plain": [
       "DatasetDict({\n",
       "    train: Dataset({\n",
       "        features: ['text', 'label'],\n",
       "        num_rows: 25000\n",
       "    })\n",
       "    test: Dataset({\n",
       "        features: ['text', 'label'],\n",
       "        num_rows: 25000\n",
       "    })\n",
       "    unsupervised: Dataset({\n",
       "        features: ['text', 'label'],\n",
       "        num_rows: 50000\n",
       "    })\n",
       "})"
      ]
     },
     "execution_count": 34,
     "metadata": {},
     "output_type": "execute_result"
    }
   ],
   "source": [
    "dataset"
   ]
  },
  {
   "cell_type": "markdown",
   "metadata": {
    "id": "24gn7CuZ9agP"
   },
   "source": [
    "### Препроцессинг данных и создание словаря (1 балл)\n",
    "\n",
    "Далее вам необходмо самостоятельно произвести препроцессинг данных и получить словарь или же просто ```set``` строк. Что необходимо сделать:\n",
    "\n",
    "1. Разделить отдельные тренировочные примеры на отдельные предложения с помощью функции ```sent_tokenize``` из бибилиотеки ```nltk```. Каждое отдельное предложение будет одним тренировочным примером.\n",
    "2. Оставить только те предложения, в которых меньше ```word_threshold``` слов.\n",
    "3. Посчитать частоту вхождения каждого слова в оставшихся предложениях. Для деления предложения на отдельные слова удобно использовать функцию ```word_tokenize```.\n",
    "4. Создать объект ```vocab``` класса ```set```, положить в него служебные токены '\\<unk\\>', '\\<bos\\>', '\\<eos\\>', '\\<pad\\>' и vocab_size самых частовстречающихся слов.   "
   ]
  },
  {
   "cell_type": "code",
   "execution_count": 35,
   "metadata": {
    "id": "Ins2tVCdsS47"
   },
   "outputs": [
    {
     "name": "stderr",
     "output_type": "stream",
     "text": [
      "100%|██████████████████████████████████████████████████████████████████████████████████████████████████████████████████████████| 50000/50000 [00:03<00:00, 12922.76it/s]\n"
     ]
    }
   ],
   "source": [
    "sentences = []\n",
    "word_threshold = 32\n",
    "\n",
    "# Получить отдельные предложения и поместить их в sentences\n",
    "for sentence in tqdm(dataset['unsupervised']['text']):\n",
    "    sentences.extend(\n",
    "        [x.lower() for x in sent_tokenize(sentence, language='english') if len(x) < word_threshold]\n",
    "        )"
   ]
  },
  {
   "cell_type": "code",
   "execution_count": 36,
   "metadata": {},
   "outputs": [
    {
     "name": "stdout",
     "output_type": "stream",
     "text": [
      "you cannot go.\n",
      "he will be missed!\n",
      "beautiful.\n",
      "there power is too great.\n",
      "got the ending figured out yet?\n"
     ]
    }
   ],
   "source": [
    "# Посмотрим на случайные примеры предложений из датасета\n",
    "import random\n",
    "\n",
    "for snt in random.sample(sentences, 5):\n",
    "    print(snt)"
   ]
  },
  {
   "cell_type": "code",
   "execution_count": 38,
   "metadata": {
    "id": "bxeBxP3J1Rj3"
   },
   "outputs": [
    {
     "name": "stdout",
     "output_type": "stream",
     "text": [
      "Всего предложений: 55345\n"
     ]
    }
   ],
   "source": [
    "print(\"Всего предложений:\", len(sentences))"
   ]
  },
  {
   "cell_type": "markdown",
   "metadata": {
    "id": "iT82XkT6ULA_"
   },
   "source": [
    "Посчитаем для каждого слова его встречаемость."
   ]
  },
  {
   "cell_type": "code",
   "execution_count": 39,
   "metadata": {
    "id": "nEvCN0Y1w1yH"
   },
   "outputs": [
    {
     "name": "stderr",
     "output_type": "stream",
     "text": [
      "100%|██████████████████████████████████████████████████████████████████████████████████████████████████████████████████████████| 55345/55345 [00:01<00:00, 37932.76it/s]\n"
     ]
    }
   ],
   "source": [
    "from nltk.tokenize import word_tokenize\n",
    "\n",
    "words = Counter()\n",
    "\n",
    "# Расчет встречаемости слов\n",
    "for sentence in tqdm(sentences):\n",
    "    for word in word_tokenize(sentence):\n",
    "        words[word] += 1"
   ]
  },
  {
   "cell_type": "code",
   "execution_count": 40,
   "metadata": {},
   "outputs": [
    {
     "data": {
      "text/plain": [
       "14257"
      ]
     },
     "execution_count": 40,
     "metadata": {},
     "output_type": "execute_result"
    }
   ],
   "source": [
    "len(words)"
   ]
  },
  {
   "cell_type": "markdown",
   "metadata": {
    "id": "B4k4uSoHUSI0"
   },
   "source": [
    "Добавим в словарь ```vocab_size``` самых встречающихся слов."
   ]
  },
  {
   "cell_type": "code",
   "execution_count": 44,
   "metadata": {
    "id": "oUBNwsK9xLIu"
   },
   "outputs": [],
   "source": [
    "vocab = set()\n",
    "vocab_size = 10000\n",
    "\n",
    "# Наполнение словаря\n",
    "vocab = set(['<unk>', '<bos>', '<eos>', '<pad>'])\n",
    "\n",
    "for word, cnt in words.most_common(vocab_size):\n",
    "    vocab.add(word)"
   ]
  },
  {
   "cell_type": "code",
   "execution_count": 45,
   "metadata": {
    "id": "ieT0DFUpXnV2"
   },
   "outputs": [],
   "source": [
    "assert '<unk>' in vocab\n",
    "assert '<bos>' in vocab\n",
    "assert '<eos>' in vocab\n",
    "assert '<pad>' in vocab\n",
    "assert len(vocab) == vocab_size + 4"
   ]
  },
  {
   "cell_type": "code",
   "execution_count": 46,
   "metadata": {
    "id": "JhACW2CQyck5"
   },
   "outputs": [
    {
     "name": "stdout",
     "output_type": "stream",
     "text": [
      "Всего слов в словаре: 10004\n"
     ]
    }
   ],
   "source": [
    "print(\"Всего слов в словаре:\", len(vocab))"
   ]
  },
  {
   "cell_type": "markdown",
   "metadata": {
    "id": "UmeRYKSIUcdE"
   },
   "source": [
    "### Подготовка датасета (1 балл)\n",
    "\n",
    "Далее, как и в семинарском занятии, подготовим датасеты и даталоадеры.\n",
    "\n",
    "В классе ```WordDataset``` вам необходимо реализовать метод ```__getitem__```, который будет возвращать сэмпл данных по входному idx, то есть список целых чисел (индексов слов).\n",
    "\n",
    "Внутри этого метода необходимо добавить служебные токены начала и конца последовательности, а также токенизировать соответствующее предложение с помощью ```word_tokenize``` и сопоставить ему индексы из ```word2ind```."
   ]
  },
  {
   "cell_type": "code",
   "execution_count": 47,
   "metadata": {
    "id": "iD7SmSy3v2dl"
   },
   "outputs": [],
   "source": [
    "word2ind = {char: i for i, char in enumerate(vocab)}\n",
    "ind2word = {i: char for char, i in word2ind.items()}"
   ]
  },
  {
   "cell_type": "code",
   "execution_count": 70,
   "metadata": {
    "id": "FVzXL17PzC7K"
   },
   "outputs": [],
   "source": [
    "class WordDataset:\n",
    "    def __init__(self, sentences):\n",
    "        self.data = sentences\n",
    "        self.unk_id = word2ind['<unk>']\n",
    "        self.bos_id = word2ind['<bos>']\n",
    "        self.eos_id = word2ind['<eos>']\n",
    "        self.pad_id = word2ind['<pad>']\n",
    "\n",
    "    def __getitem__(self, idx: int) -> List[int]:\n",
    "        tokenized_sentence = [self.bos_id]\n",
    "        \n",
    "        # Допишите код здесь\n",
    "        for word in self.data[idx]:\n",
    "            tokenized_sentence.append(word2ind.get(word, self.unk_id))\n",
    "        tokenized_sentence.append(self.eos_id)\n",
    "        \n",
    "        return tokenized_sentence\n",
    "\n",
    "    def __len__(self) -> int:\n",
    "        return len(self.data)"
   ]
  },
  {
   "cell_type": "code",
   "execution_count": 71,
   "metadata": {
    "id": "I6CtYNMp2_g0"
   },
   "outputs": [],
   "source": [
    "def collate_fn_with_padding(\n",
    "    input_batch: List[List[int]], pad_id=word2ind['<pad>']) -> torch.Tensor:\n",
    "    seq_lens = [len(x) for x in input_batch]\n",
    "    max_seq_len = max(seq_lens)\n",
    "\n",
    "    new_batch = []\n",
    "    for sequence in input_batch:\n",
    "        for _ in range(max_seq_len - len(sequence)):\n",
    "            sequence.append(pad_id)\n",
    "        new_batch.append(sequence)\n",
    "\n",
    "    sequences = torch.LongTensor(new_batch).to(device)\n",
    "\n",
    "    new_batch = {\n",
    "        'input_ids': sequences[:,:-1],\n",
    "        'target_ids': sequences[:,1:]\n",
    "    }\n",
    "\n",
    "    return new_batch"
   ]
  },
  {
   "cell_type": "code",
   "execution_count": 72,
   "metadata": {
    "id": "6xmeK9Ys1BIG"
   },
   "outputs": [],
   "source": [
    "train_sentences, eval_sentences = train_test_split(sentences, test_size=0.2)\n",
    "eval_sentences, test_sentences = train_test_split(sentences, test_size=0.5)\n",
    "\n",
    "train_dataset = WordDataset(train_sentences)\n",
    "eval_dataset = WordDataset(eval_sentences)\n",
    "test_dataset = WordDataset(test_sentences)\n",
    "\n",
    "batch_size = 128\n",
    "\n",
    "train_dataloader = DataLoader(\n",
    "    train_dataset, collate_fn=collate_fn_with_padding, batch_size=batch_size)\n",
    "\n",
    "eval_dataloader = DataLoader(\n",
    "    eval_dataset, collate_fn=collate_fn_with_padding, batch_size=batch_size)\n",
    "\n",
    "test_dataloader = DataLoader(\n",
    "    test_dataset, collate_fn=collate_fn_with_padding, batch_size=batch_size)"
   ]
  },
  {
   "cell_type": "markdown",
   "metadata": {
    "id": "KP1cO-3bmDv9"
   },
   "source": [
    "### Функция evaluate (1 балл)\n",
    "\n",
    "Заполните функцию ```evaluate```"
   ]
  },
  {
   "cell_type": "code",
   "execution_count": 73,
   "metadata": {
    "id": "XUlMUVJ3mL4r"
   },
   "outputs": [],
   "source": [
    "def evaluate(model, criterion, dataloader) -> float:\n",
    "    model.eval()\n",
    "    perplexity = []\n",
    "    with torch.no_grad():\n",
    "        for batch in dataloader:\n",
    "            # logits = # Посчитайте логиты предсказаний следующих слов\n",
    "            logits = model(batch['input_ids']).flatten(start_dim=0, end_dim=1)\n",
    "            loss = criterion(logits, batch['target_ids'].flatten())\n",
    "            perplexity.append(torch.exp(loss).item())\n",
    "\n",
    "    perplexity = sum(perplexity) / len(perplexity)\n",
    "\n",
    "    return perplexity"
   ]
  },
  {
   "cell_type": "markdown",
   "metadata": {
    "id": "bLV63Vsk7loy"
   },
   "source": [
    "### Train loop (1 балл)\n",
    "\n",
    "Напишите функцию для обучения модели."
   ]
  },
  {
   "cell_type": "code",
   "execution_count": 115,
   "metadata": {
    "id": "bSZmUC3YmocP"
   },
   "outputs": [],
   "source": [
    "def train_model(model, optimizer, criterion, train_dataloader, eval_dataloader, num_epoch=20):\n",
    "    # Напишите код здесь\n",
    "\n",
    "    losses = []\n",
    "    perplexities = []\n",
    "    \n",
    "    for epoch in range(num_epoch):\n",
    "        epoch_losses = []\n",
    "        model.train()\n",
    "        for batch in tqdm(train_dataloader, desc=f'Training epoch {epoch}:'):\n",
    "            optimizer.zero_grad()\n",
    "            logits = model(batch['input_ids']).flatten(start_dim=0, end_dim=1)\n",
    "            loss = criterion(\n",
    "                logits, batch['target_ids'].flatten())\n",
    "            loss.backward()\n",
    "            optimizer.step()\n",
    "    \n",
    "            epoch_losses.append(loss.item())\n",
    "        \n",
    "        losses.append(sum(epoch_losses) / len(epoch_losses))\n",
    "        perplexities.append(evaluate(model, criterion, eval_dataloader))\n",
    "\n",
    "    return {'losses': losses, 'perplexities': perplexities, 'model': model}"
   ]
  },
  {
   "cell_type": "markdown",
   "metadata": {
    "id": "hXmeyhBQmuq4"
   },
   "source": [
    "### Первый эксперимент (2 балла)\n",
    "\n",
    "В качестве самой базовой архитектуры возьмем архитектуру на GRU слое. В качестве регуляризации будем использовать только Dropout с вероятностью\n",
    "0.1. После каждого эксперимента будем оценивать только по 1 параметру это значение метрики перплексии на последней эпохи."
   ]
  },
  {
   "cell_type": "code",
   "execution_count": 117,
   "metadata": {
    "id": "qaWvqNJom0ij"
   },
   "outputs": [],
   "source": [
    "class BaseGRU(nn.Module):\n",
    "\n",
    "    def __init__(self, hidden_dim: int, vocab_size: int):\n",
    "        super().__init__()\n",
    "        self.embedding = nn.Embedding(vocab_size, hidden_dim)\n",
    "        self.rnn = nn.GRU(hidden_dim, hidden_dim, batch_first=True)\n",
    "        self.linear = nn.Linear(hidden_dim, hidden_dim)\n",
    "        self.projection = nn.Linear(hidden_dim, vocab_size)\n",
    "\n",
    "        self.non_lin = nn.Tanh()\n",
    "        self.dropout = nn.Dropout(p=0.1)\n",
    "\n",
    "    def forward(self, input_batch) -> torch.Tensor:\n",
    "        embeddings = self.embedding(input_batch)  # [batch_size, seq_len, hidden_dim]\n",
    "        output, _ = self.rnn(embeddings)  # [batch_size, seq_len, hidden_dim]\n",
    "        output = self.dropout(self.linear(self.non_lin(output)))  # [batch_size, seq_len, hidden_dim]\n",
    "        projection = self.projection(self.non_lin(output))  # [batch_size, seq_len, vocab_size]\n",
    "\n",
    "        return projection"
   ]
  },
  {
   "cell_type": "code",
   "execution_count": 118,
   "metadata": {
    "id": "TxbEzn5fnBOY"
   },
   "outputs": [
    {
     "name": "stderr",
     "output_type": "stream",
     "text": [
      "Training epoch 0:: 100%|██████████████████████████████████████████████████████████████████████████████████████████████████████████████| 346/346 [00:23<00:00, 14.82it/s]\n",
      "Training epoch 1:: 100%|██████████████████████████████████████████████████████████████████████████████████████████████████████████████| 346/346 [00:23<00:00, 14.92it/s]\n",
      "Training epoch 2:: 100%|██████████████████████████████████████████████████████████████████████████████████████████████████████████████| 346/346 [00:23<00:00, 15.00it/s]\n",
      "Training epoch 3:: 100%|██████████████████████████████████████████████████████████████████████████████████████████████████████████████| 346/346 [00:25<00:00, 13.63it/s]\n",
      "Training epoch 4:: 100%|██████████████████████████████████████████████████████████████████████████████████████████████████████████████| 346/346 [00:25<00:00, 13.78it/s]\n",
      "Training epoch 5:: 100%|██████████████████████████████████████████████████████████████████████████████████████████████████████████████| 346/346 [00:23<00:00, 14.50it/s]\n",
      "Training epoch 6:: 100%|██████████████████████████████████████████████████████████████████████████████████████████████████████████████| 346/346 [00:23<00:00, 14.97it/s]\n",
      "Training epoch 7:: 100%|██████████████████████████████████████████████████████████████████████████████████████████████████████████████| 346/346 [00:24<00:00, 13.94it/s]\n",
      "Training epoch 8:: 100%|██████████████████████████████████████████████████████████████████████████████████████████████████████████████| 346/346 [00:23<00:00, 14.85it/s]\n",
      "Training epoch 9:: 100%|██████████████████████████████████████████████████████████████████████████████████████████████████████████████| 346/346 [00:24<00:00, 14.19it/s]\n",
      "Training epoch 10:: 100%|█████████████████████████████████████████████████████████████████████████████████████████████████████████████| 346/346 [00:23<00:00, 14.88it/s]\n",
      "Training epoch 11:: 100%|█████████████████████████████████████████████████████████████████████████████████████████████████████████████| 346/346 [00:24<00:00, 14.07it/s]\n",
      "Training epoch 12:: 100%|█████████████████████████████████████████████████████████████████████████████████████████████████████████████| 346/346 [00:23<00:00, 14.51it/s]\n",
      "Training epoch 13:: 100%|█████████████████████████████████████████████████████████████████████████████████████████████████████████████| 346/346 [00:23<00:00, 14.71it/s]\n",
      "Training epoch 14:: 100%|█████████████████████████████████████████████████████████████████████████████████████████████████████████████| 346/346 [00:22<00:00, 15.06it/s]\n",
      "Training epoch 15:: 100%|█████████████████████████████████████████████████████████████████████████████████████████████████████████████| 346/346 [00:23<00:00, 14.91it/s]\n",
      "Training epoch 16:: 100%|█████████████████████████████████████████████████████████████████████████████████████████████████████████████| 346/346 [00:23<00:00, 14.84it/s]\n",
      "Training epoch 17:: 100%|█████████████████████████████████████████████████████████████████████████████████████████████████████████████| 346/346 [00:25<00:00, 13.76it/s]\n",
      "Training epoch 18:: 100%|█████████████████████████████████████████████████████████████████████████████████████████████████████████████| 346/346 [00:24<00:00, 14.02it/s]\n",
      "Training epoch 19:: 100%|█████████████████████████████████████████████████████████████████████████████████████████████████████████████| 346/346 [00:24<00:00, 13.97it/s]\n"
     ]
    }
   ],
   "source": [
    "model = BaseGRU(hidden_dim=256, vocab_size=len(vocab)).to(device)\n",
    "criterion = nn.CrossEntropyLoss(ignore_index=word2ind['<pad>'])\n",
    "optimizer = torch.optim.Adam(model.parameters())\n",
    "\n",
    "train_results = train_model(model=model, \n",
    "                            optimizer=optimizer, \n",
    "                            criterion=criterion, \n",
    "                            train_dataloader=train_dataloader, \n",
    "                            eval_dataloader=eval_dataloader)"
   ]
  },
  {
   "cell_type": "code",
   "execution_count": 119,
   "metadata": {},
   "outputs": [
    {
     "name": "stdout",
     "output_type": "stream",
     "text": [
      "3.663148244954474\n"
     ]
    }
   ],
   "source": [
    "# Итоговое значение перплексии для первого эксперимента:\n",
    "experiment_1 = evaluate(train_results[\"model\"], criterion=criterion, dataloader=test_dataloader)\n",
    "print(experiment_1)"
   ]
  },
  {
   "cell_type": "markdown",
   "metadata": {
    "id": "X1EW4faIm0tl"
   },
   "source": [
    "### Второй эксперимент (2 балла)\n",
    "\n",
    "Поменяем только слой с GRU на LSTM и сравним значение метрики. Дальше будем пробовать улучшать именно ту модель, которая покажет лучшую метрику."
   ]
  },
  {
   "cell_type": "code",
   "execution_count": 120,
   "metadata": {
    "id": "wkSE4jR1XzTg"
   },
   "outputs": [],
   "source": [
    "class BaseLSTM(nn.Module):\n",
    "\n",
    "    def __init__(self, hidden_dim: int, vocab_size: int):\n",
    "        super().__init__()\n",
    "        self.embedding = nn.Embedding(vocab_size, hidden_dim)\n",
    "        self.rnn = nn.LSTM(hidden_dim, hidden_dim, batch_first=True)\n",
    "        self.linear = nn.Linear(hidden_dim, hidden_dim)\n",
    "        self.projection = nn.Linear(hidden_dim, vocab_size)\n",
    "\n",
    "        self.non_lin = nn.Tanh()\n",
    "        self.dropout = nn.Dropout(p=0.1)\n",
    "\n",
    "    def forward(self, input_batch) -> torch.Tensor:\n",
    "        embeddings = self.embedding(input_batch)  # [batch_size, seq_len, hidden_dim]\n",
    "        output, _ = self.rnn(embeddings)  # [batch_size, seq_len, hidden_dim]\n",
    "        output = self.dropout(self.linear(self.non_lin(output)))  # [batch_size, seq_len, hidden_dim]\n",
    "        projection = self.projection(self.non_lin(output))  # [batch_size, seq_len, vocab_size]\n",
    "\n",
    "        return projection"
   ]
  },
  {
   "cell_type": "code",
   "execution_count": 121,
   "metadata": {},
   "outputs": [
    {
     "name": "stderr",
     "output_type": "stream",
     "text": [
      "Training epoch 0:: 100%|██████████████████████████████████████████████████████████████████████████████████████████████████████████████| 346/346 [00:17<00:00, 19.91it/s]\n",
      "Training epoch 1:: 100%|██████████████████████████████████████████████████████████████████████████████████████████████████████████████| 346/346 [00:18<00:00, 18.64it/s]\n",
      "Training epoch 2:: 100%|██████████████████████████████████████████████████████████████████████████████████████████████████████████████| 346/346 [00:18<00:00, 18.69it/s]\n",
      "Training epoch 3:: 100%|██████████████████████████████████████████████████████████████████████████████████████████████████████████████| 346/346 [00:17<00:00, 19.86it/s]\n",
      "Training epoch 4:: 100%|██████████████████████████████████████████████████████████████████████████████████████████████████████████████| 346/346 [00:17<00:00, 19.95it/s]\n",
      "Training epoch 5:: 100%|██████████████████████████████████████████████████████████████████████████████████████████████████████████████| 346/346 [00:17<00:00, 19.61it/s]\n",
      "Training epoch 6:: 100%|██████████████████████████████████████████████████████████████████████████████████████████████████████████████| 346/346 [00:17<00:00, 20.08it/s]\n",
      "Training epoch 7:: 100%|██████████████████████████████████████████████████████████████████████████████████████████████████████████████| 346/346 [00:17<00:00, 19.38it/s]\n",
      "Training epoch 8:: 100%|██████████████████████████████████████████████████████████████████████████████████████████████████████████████| 346/346 [00:18<00:00, 19.04it/s]\n",
      "Training epoch 9:: 100%|██████████████████████████████████████████████████████████████████████████████████████████████████████████████| 346/346 [00:17<00:00, 19.95it/s]\n",
      "Training epoch 10:: 100%|█████████████████████████████████████████████████████████████████████████████████████████████████████████████| 346/346 [00:17<00:00, 19.34it/s]\n",
      "Training epoch 11:: 100%|█████████████████████████████████████████████████████████████████████████████████████████████████████████████| 346/346 [00:17<00:00, 19.50it/s]\n",
      "Training epoch 12:: 100%|█████████████████████████████████████████████████████████████████████████████████████████████████████████████| 346/346 [00:18<00:00, 19.16it/s]\n",
      "Training epoch 13:: 100%|█████████████████████████████████████████████████████████████████████████████████████████████████████████████| 346/346 [00:17<00:00, 19.34it/s]\n",
      "Training epoch 14:: 100%|█████████████████████████████████████████████████████████████████████████████████████████████████████████████| 346/346 [00:17<00:00, 19.95it/s]\n",
      "Training epoch 15:: 100%|█████████████████████████████████████████████████████████████████████████████████████████████████████████████| 346/346 [00:17<00:00, 19.50it/s]\n",
      "Training epoch 16:: 100%|█████████████████████████████████████████████████████████████████████████████████████████████████████████████| 346/346 [00:18<00:00, 18.90it/s]\n",
      "Training epoch 17:: 100%|█████████████████████████████████████████████████████████████████████████████████████████████████████████████| 346/346 [00:17<00:00, 19.29it/s]\n",
      "Training epoch 18:: 100%|█████████████████████████████████████████████████████████████████████████████████████████████████████████████| 346/346 [00:17<00:00, 19.74it/s]\n",
      "Training epoch 19:: 100%|█████████████████████████████████████████████████████████████████████████████████████████████████████████████| 346/346 [00:17<00:00, 19.95it/s]\n"
     ]
    }
   ],
   "source": [
    "model = BaseLSTM(hidden_dim=256, vocab_size=len(vocab)).to(device)\n",
    "criterion = nn.CrossEntropyLoss(ignore_index=word2ind['<pad>'])\n",
    "optimizer = torch.optim.Adam(model.parameters())\n",
    "\n",
    "train_results = train_model(model=model, \n",
    "                            optimizer=optimizer, \n",
    "                            criterion=criterion, \n",
    "                            train_dataloader=train_dataloader, \n",
    "                            eval_dataloader=eval_dataloader)"
   ]
  },
  {
   "cell_type": "code",
   "execution_count": 122,
   "metadata": {},
   "outputs": [
    {
     "name": "stdout",
     "output_type": "stream",
     "text": [
      "3.772892312520111\n"
     ]
    }
   ],
   "source": [
    "# Итоговое значение перплексии для второго эксперимента:\n",
    "experiment_2 = evaluate(train_results[\"model\"], criterion=criterion, dataloader=test_dataloader)\n",
    "print(experiment_2)"
   ]
  },
  {
   "cell_type": "markdown",
   "metadata": {},
   "source": [
    "# Итог по базовой модели LSTM\n",
    "\n",
    "Как мы видим, но просто замена слоя с GRU на LSTM не дала никакого прироста, более того, данная модель стала дольше обучаться (что в целом логично, так как сам слой LSTM сложнее слоя GRU)."
   ]
  },
  {
   "cell_type": "markdown",
   "metadata": {},
   "source": [
    "# Эксперимент 3\n",
    "\n",
    "Попробуем увеличить модель LSTM, установив для неё кол-во слоев равное 3."
   ]
  },
  {
   "cell_type": "code",
   "execution_count": 123,
   "metadata": {},
   "outputs": [],
   "source": [
    "class BaseLSTM_more_layers(nn.Module):\n",
    "\n",
    "    def __init__(self, hidden_dim: int, vocab_size: int):\n",
    "        super().__init__()\n",
    "        self.embedding = nn.Embedding(vocab_size, hidden_dim)\n",
    "        self.rnn = nn.LSTM(hidden_dim, hidden_dim, num_layers = 3,  batch_first=True)\n",
    "        self.linear = nn.Linear(hidden_dim, hidden_dim)\n",
    "        self.projection = nn.Linear(hidden_dim, vocab_size)\n",
    "\n",
    "        self.non_lin = nn.Tanh()\n",
    "        self.dropout = nn.Dropout(p=0.1)\n",
    "\n",
    "    def forward(self, input_batch) -> torch.Tensor:\n",
    "        embeddings = self.embedding(input_batch)  # [batch_size, seq_len, hidden_dim]\n",
    "        output, _ = self.rnn(embeddings)  # [batch_size, seq_len, hidden_dim]\n",
    "        output = self.dropout(self.linear(self.non_lin(output)))  # [batch_size, seq_len, hidden_dim]\n",
    "        projection = self.projection(self.non_lin(output))  # [batch_size, seq_len, vocab_size]\n",
    "\n",
    "        return projection"
   ]
  },
  {
   "cell_type": "code",
   "execution_count": 124,
   "metadata": {},
   "outputs": [
    {
     "name": "stderr",
     "output_type": "stream",
     "text": [
      "Training epoch 0:: 100%|██████████████████████████████████████████████████████████████████████████████████████████████████████████████| 346/346 [00:23<00:00, 15.04it/s]\n",
      "Training epoch 1:: 100%|██████████████████████████████████████████████████████████████████████████████████████████████████████████████| 346/346 [00:23<00:00, 14.54it/s]\n",
      "Training epoch 2:: 100%|██████████████████████████████████████████████████████████████████████████████████████████████████████████████| 346/346 [00:21<00:00, 15.88it/s]\n",
      "Training epoch 3:: 100%|██████████████████████████████████████████████████████████████████████████████████████████████████████████████| 346/346 [00:21<00:00, 15.89it/s]\n",
      "Training epoch 4:: 100%|██████████████████████████████████████████████████████████████████████████████████████████████████████████████| 346/346 [00:23<00:00, 14.77it/s]\n",
      "Training epoch 5:: 100%|██████████████████████████████████████████████████████████████████████████████████████████████████████████████| 346/346 [00:22<00:00, 15.68it/s]\n",
      "Training epoch 6:: 100%|██████████████████████████████████████████████████████████████████████████████████████████████████████████████| 346/346 [00:22<00:00, 15.33it/s]\n",
      "Training epoch 7:: 100%|██████████████████████████████████████████████████████████████████████████████████████████████████████████████| 346/346 [00:21<00:00, 15.84it/s]\n",
      "Training epoch 8:: 100%|██████████████████████████████████████████████████████████████████████████████████████████████████████████████| 346/346 [00:23<00:00, 14.51it/s]\n",
      "Training epoch 9:: 100%|██████████████████████████████████████████████████████████████████████████████████████████████████████████████| 346/346 [00:22<00:00, 15.42it/s]\n",
      "Training epoch 10:: 100%|█████████████████████████████████████████████████████████████████████████████████████████████████████████████| 346/346 [00:23<00:00, 14.93it/s]\n",
      "Training epoch 11:: 100%|█████████████████████████████████████████████████████████████████████████████████████████████████████████████| 346/346 [00:23<00:00, 14.64it/s]\n",
      "Training epoch 12:: 100%|█████████████████████████████████████████████████████████████████████████████████████████████████████████████| 346/346 [00:23<00:00, 15.03it/s]\n",
      "Training epoch 13:: 100%|█████████████████████████████████████████████████████████████████████████████████████████████████████████████| 346/346 [00:23<00:00, 14.94it/s]\n",
      "Training epoch 14:: 100%|█████████████████████████████████████████████████████████████████████████████████████████████████████████████| 346/346 [00:24<00:00, 14.26it/s]\n",
      "Training epoch 15:: 100%|█████████████████████████████████████████████████████████████████████████████████████████████████████████████| 346/346 [00:23<00:00, 14.74it/s]\n",
      "Training epoch 16:: 100%|█████████████████████████████████████████████████████████████████████████████████████████████████████████████| 346/346 [00:23<00:00, 14.54it/s]\n",
      "Training epoch 17:: 100%|█████████████████████████████████████████████████████████████████████████████████████████████████████████████| 346/346 [00:22<00:00, 15.22it/s]\n",
      "Training epoch 18:: 100%|█████████████████████████████████████████████████████████████████████████████████████████████████████████████| 346/346 [00:22<00:00, 15.23it/s]\n",
      "Training epoch 19:: 100%|█████████████████████████████████████████████████████████████████████████████████████████████████████████████| 346/346 [00:22<00:00, 15.05it/s]\n"
     ]
    }
   ],
   "source": [
    "model = BaseLSTM_more_layers(hidden_dim=256, vocab_size=len(vocab)).to(device)\n",
    "criterion = nn.CrossEntropyLoss(ignore_index=word2ind['<pad>'])\n",
    "optimizer = torch.optim.Adam(model.parameters())\n",
    "\n",
    "train_results = train_model(model=model, \n",
    "                            optimizer=optimizer, \n",
    "                            criterion=criterion, \n",
    "                            train_dataloader=train_dataloader, \n",
    "                            eval_dataloader=eval_dataloader)"
   ]
  },
  {
   "cell_type": "code",
   "execution_count": 125,
   "metadata": {},
   "outputs": [
    {
     "name": "stdout",
     "output_type": "stream",
     "text": [
      "3.8253247265442174\n"
     ]
    }
   ],
   "source": [
    "# Итоговое значение перплексии для третьего эксперимента:\n",
    "experiment_3 = evaluate(train_results[\"model\"], criterion=criterion, dataloader=test_dataloader)\n",
    "print(experiment_3)"
   ]
  },
  {
   "cell_type": "markdown",
   "metadata": {},
   "source": [
    "# Итог по модели LSTM с параметром num_layers = 3\n",
    "\n",
    "Как мы видим, значение перплексии оказалось чуть хуже чем в предыдущем примере, поэтому оставляем версию со слоем GRU и пробуем в следующих экспериментах только её улучшать"
   ]
  },
  {
   "cell_type": "markdown",
   "metadata": {},
   "source": [
    "# Эксперимент 4\n",
    "\n",
    "Для сети со слоем GRU изменяем значение Dropout с 0.1 до 0.3."
   ]
  },
  {
   "cell_type": "code",
   "execution_count": 126,
   "metadata": {},
   "outputs": [],
   "source": [
    "class BaseGRU_inrease_dropout(nn.Module):\n",
    "\n",
    "    def __init__(self, hidden_dim: int, vocab_size: int):\n",
    "        super().__init__()\n",
    "        self.embedding = nn.Embedding(vocab_size, hidden_dim)\n",
    "        self.rnn = nn.GRU(hidden_dim, hidden_dim, batch_first=True)\n",
    "        self.linear = nn.Linear(hidden_dim, hidden_dim)\n",
    "        self.projection = nn.Linear(hidden_dim, vocab_size)\n",
    "\n",
    "        self.non_lin = nn.Tanh()\n",
    "        self.dropout = nn.Dropout(p=0.3)\n",
    "\n",
    "    def forward(self, input_batch) -> torch.Tensor:\n",
    "        embeddings = self.embedding(input_batch)  # [batch_size, seq_len, hidden_dim]\n",
    "        output, _ = self.rnn(embeddings)  # [batch_size, seq_len, hidden_dim]\n",
    "        output = self.dropout(self.linear(self.non_lin(output)))  # [batch_size, seq_len, hidden_dim]\n",
    "        projection = self.projection(self.non_lin(output))  # [batch_size, seq_len, vocab_size]\n",
    "\n",
    "        return projection"
   ]
  },
  {
   "cell_type": "code",
   "execution_count": 127,
   "metadata": {},
   "outputs": [
    {
     "name": "stderr",
     "output_type": "stream",
     "text": [
      "Training epoch 0:: 100%|██████████████████████████████████████████████████████████████████████████████████████████████████████████████| 346/346 [00:23<00:00, 14.82it/s]\n",
      "Training epoch 1:: 100%|██████████████████████████████████████████████████████████████████████████████████████████████████████████████| 346/346 [00:24<00:00, 13.93it/s]\n",
      "Training epoch 2:: 100%|██████████████████████████████████████████████████████████████████████████████████████████████████████████████| 346/346 [00:23<00:00, 14.81it/s]\n",
      "Training epoch 3:: 100%|██████████████████████████████████████████████████████████████████████████████████████████████████████████████| 346/346 [00:24<00:00, 14.07it/s]\n",
      "Training epoch 4:: 100%|██████████████████████████████████████████████████████████████████████████████████████████████████████████████| 346/346 [00:22<00:00, 15.52it/s]\n",
      "Training epoch 5:: 100%|██████████████████████████████████████████████████████████████████████████████████████████████████████████████| 346/346 [00:22<00:00, 15.41it/s]\n",
      "Training epoch 6:: 100%|██████████████████████████████████████████████████████████████████████████████████████████████████████████████| 346/346 [00:22<00:00, 15.51it/s]\n",
      "Training epoch 7:: 100%|██████████████████████████████████████████████████████████████████████████████████████████████████████████████| 346/346 [00:24<00:00, 13.90it/s]\n",
      "Training epoch 8:: 100%|██████████████████████████████████████████████████████████████████████████████████████████████████████████████| 346/346 [00:24<00:00, 14.38it/s]\n",
      "Training epoch 9:: 100%|██████████████████████████████████████████████████████████████████████████████████████████████████████████████| 346/346 [00:23<00:00, 14.73it/s]\n",
      "Training epoch 10:: 100%|█████████████████████████████████████████████████████████████████████████████████████████████████████████████| 346/346 [00:24<00:00, 14.03it/s]\n",
      "Training epoch 11:: 100%|█████████████████████████████████████████████████████████████████████████████████████████████████████████████| 346/346 [00:24<00:00, 14.23it/s]\n",
      "Training epoch 12:: 100%|█████████████████████████████████████████████████████████████████████████████████████████████████████████████| 346/346 [00:23<00:00, 14.82it/s]\n",
      "Training epoch 13:: 100%|█████████████████████████████████████████████████████████████████████████████████████████████████████████████| 346/346 [00:25<00:00, 13.75it/s]\n",
      "Training epoch 14:: 100%|█████████████████████████████████████████████████████████████████████████████████████████████████████████████| 346/346 [00:24<00:00, 14.19it/s]\n",
      "Training epoch 15:: 100%|█████████████████████████████████████████████████████████████████████████████████████████████████████████████| 346/346 [00:24<00:00, 14.15it/s]\n",
      "Training epoch 16:: 100%|█████████████████████████████████████████████████████████████████████████████████████████████████████████████| 346/346 [00:24<00:00, 14.08it/s]\n",
      "Training epoch 17:: 100%|█████████████████████████████████████████████████████████████████████████████████████████████████████████████| 346/346 [00:24<00:00, 14.35it/s]\n",
      "Training epoch 18:: 100%|█████████████████████████████████████████████████████████████████████████████████████████████████████████████| 346/346 [00:24<00:00, 14.27it/s]\n",
      "Training epoch 19:: 100%|█████████████████████████████████████████████████████████████████████████████████████████████████████████████| 346/346 [00:25<00:00, 13.48it/s]\n"
     ]
    }
   ],
   "source": [
    "model = BaseGRU_inrease_dropout(hidden_dim=256, vocab_size=len(vocab)).to(device)\n",
    "criterion = nn.CrossEntropyLoss(ignore_index=word2ind['<pad>'])\n",
    "optimizer = torch.optim.Adam(model.parameters())\n",
    "\n",
    "train_results = train_model(model=model, \n",
    "                            optimizer=optimizer, \n",
    "                            criterion=criterion, \n",
    "                            train_dataloader=train_dataloader, \n",
    "                            eval_dataloader=eval_dataloader)"
   ]
  },
  {
   "cell_type": "code",
   "execution_count": 128,
   "metadata": {},
   "outputs": [
    {
     "name": "stdout",
     "output_type": "stream",
     "text": [
      "3.8055019389649143\n"
     ]
    }
   ],
   "source": [
    "# Итоговое значение перплексии для четвертого эксперимента:\n",
    "experiment_4 = evaluate(train_results[\"model\"], criterion=criterion, dataloader=test_dataloader)\n",
    "print(experiment_4)"
   ]
  },
  {
   "cell_type": "markdown",
   "metadata": {},
   "source": [
    "# Эксперимент 5\n",
    "\n",
    "Добавляем слой BatchNorm"
   ]
  },
  {
   "cell_type": "code",
   "execution_count": 129,
   "metadata": {},
   "outputs": [],
   "source": [
    "class BaseGRU_with_batchnorm(nn.Module):\n",
    "\n",
    "    def __init__(self, hidden_dim: int, vocab_size: int):\n",
    "        super().__init__()\n",
    "        self.embedding = nn.Embedding(vocab_size, hidden_dim)\n",
    "        self.rnn = nn.GRU(hidden_dim, hidden_dim, batch_first=True)\n",
    "        self.linear = nn.Linear(hidden_dim, hidden_dim)\n",
    "        self.batch_norm = nn.BatchNorm1d(hidden_dim)\n",
    "        self.projection = nn.Linear(hidden_dim, vocab_size)\n",
    "\n",
    "        self.non_lin = nn.Tanh()\n",
    "        self.dropout = nn.Dropout(p=0.1)\n",
    "\n",
    "    def forward(self, input_batch) -> torch.Tensor:\n",
    "        embeddings = self.embedding(input_batch)  # [batch_size, seq_len, hidden_dim]\n",
    "        output, _ = self.rnn(embeddings)  # [batch_size, seq_len, hidden_dim]\n",
    "        \n",
    "        batch_size, seq_len, hidden_dim = output.size()\n",
    "        output = output.contiguous().view(-1, hidden_dim)\n",
    "        output = self.batch_norm(output)\n",
    "        output = output.view(batch_size, seq_len, hidden_dim)\n",
    "        \n",
    "        output = self.dropout(self.linear(self.non_lin(output)))  # [batch_size, seq_len, hidden_dim]\n",
    "        projection = self.projection(self.non_lin(output))  # [batch_size, seq_len, vocab_size]\n",
    "\n",
    "        return projection"
   ]
  },
  {
   "cell_type": "code",
   "execution_count": 130,
   "metadata": {},
   "outputs": [
    {
     "name": "stderr",
     "output_type": "stream",
     "text": [
      "Training epoch 0:: 100%|██████████████████████████████████████████████████████████████████████████████████████████████████████████████| 346/346 [00:26<00:00, 13.17it/s]\n",
      "Training epoch 1:: 100%|██████████████████████████████████████████████████████████████████████████████████████████████████████████████| 346/346 [00:26<00:00, 13.22it/s]\n",
      "Training epoch 2:: 100%|██████████████████████████████████████████████████████████████████████████████████████████████████████████████| 346/346 [00:26<00:00, 12.92it/s]\n",
      "Training epoch 3:: 100%|██████████████████████████████████████████████████████████████████████████████████████████████████████████████| 346/346 [00:26<00:00, 13.05it/s]\n",
      "Training epoch 4:: 100%|██████████████████████████████████████████████████████████████████████████████████████████████████████████████| 346/346 [00:28<00:00, 12.30it/s]\n",
      "Training epoch 5:: 100%|██████████████████████████████████████████████████████████████████████████████████████████████████████████████| 346/346 [00:25<00:00, 13.56it/s]\n",
      "Training epoch 6:: 100%|██████████████████████████████████████████████████████████████████████████████████████████████████████████████| 346/346 [00:25<00:00, 13.53it/s]\n",
      "Training epoch 7:: 100%|██████████████████████████████████████████████████████████████████████████████████████████████████████████████| 346/346 [00:25<00:00, 13.44it/s]\n",
      "Training epoch 8:: 100%|██████████████████████████████████████████████████████████████████████████████████████████████████████████████| 346/346 [00:27<00:00, 12.79it/s]\n",
      "Training epoch 9:: 100%|██████████████████████████████████████████████████████████████████████████████████████████████████████████████| 346/346 [00:25<00:00, 13.35it/s]\n",
      "Training epoch 10:: 100%|█████████████████████████████████████████████████████████████████████████████████████████████████████████████| 346/346 [00:27<00:00, 12.77it/s]\n",
      "Training epoch 11:: 100%|█████████████████████████████████████████████████████████████████████████████████████████████████████████████| 346/346 [00:26<00:00, 12.86it/s]\n",
      "Training epoch 12:: 100%|█████████████████████████████████████████████████████████████████████████████████████████████████████████████| 346/346 [00:25<00:00, 13.40it/s]\n",
      "Training epoch 13:: 100%|█████████████████████████████████████████████████████████████████████████████████████████████████████████████| 346/346 [00:27<00:00, 12.64it/s]\n",
      "Training epoch 14:: 100%|█████████████████████████████████████████████████████████████████████████████████████████████████████████████| 346/346 [00:27<00:00, 12.77it/s]\n",
      "Training epoch 15:: 100%|█████████████████████████████████████████████████████████████████████████████████████████████████████████████| 346/346 [00:25<00:00, 13.41it/s]\n",
      "Training epoch 16:: 100%|█████████████████████████████████████████████████████████████████████████████████████████████████████████████| 346/346 [00:26<00:00, 12.94it/s]\n",
      "Training epoch 17:: 100%|█████████████████████████████████████████████████████████████████████████████████████████████████████████████| 346/346 [00:25<00:00, 13.41it/s]\n",
      "Training epoch 18:: 100%|█████████████████████████████████████████████████████████████████████████████████████████████████████████████| 346/346 [00:26<00:00, 13.09it/s]\n",
      "Training epoch 19:: 100%|█████████████████████████████████████████████████████████████████████████████████████████████████████████████| 346/346 [00:26<00:00, 13.20it/s]\n"
     ]
    }
   ],
   "source": [
    "model = BaseGRU_with_batchnorm(hidden_dim=256, vocab_size=len(vocab)).to(device)\n",
    "criterion = nn.CrossEntropyLoss(ignore_index=word2ind['<pad>'])\n",
    "optimizer = torch.optim.Adam(model.parameters())\n",
    "\n",
    "train_results = train_model(model=model, \n",
    "                            optimizer=optimizer, \n",
    "                            criterion=criterion, \n",
    "                            train_dataloader=train_dataloader, \n",
    "                            eval_dataloader=eval_dataloader)"
   ]
  },
  {
   "cell_type": "code",
   "execution_count": 131,
   "metadata": {},
   "outputs": [
    {
     "name": "stdout",
     "output_type": "stream",
     "text": [
      "3.4351404020863194\n"
     ]
    }
   ],
   "source": [
    "# Итоговое значение перплексии для пятого эксперимента:\n",
    "experiment_5 = evaluate(train_results[\"model\"], criterion=criterion, dataloader=test_dataloader)\n",
    "print(experiment_5)"
   ]
  },
  {
   "cell_type": "markdown",
   "metadata": {},
   "source": [
    "# Эксперимент 6\n",
    "\n",
    "Добавляем слой LayerNorm"
   ]
  },
  {
   "cell_type": "code",
   "execution_count": 132,
   "metadata": {},
   "outputs": [],
   "source": [
    "class BaseGRU_with_layer_norm(nn.Module):\n",
    "\n",
    "    def __init__(self, hidden_dim: int, vocab_size: int):\n",
    "        super().__init__()\n",
    "        self.embedding = nn.Embedding(vocab_size, hidden_dim)\n",
    "        self.rnn = nn.GRU(hidden_dim, hidden_dim, batch_first=True)\n",
    "        self.linear = nn.Linear(hidden_dim, hidden_dim)\n",
    "        self.layer_norm = nn.LayerNorm(hidden_dim)\n",
    "        self.projection = nn.Linear(hidden_dim, vocab_size)\n",
    "\n",
    "        self.non_lin = nn.Tanh()\n",
    "        self.dropout = nn.Dropout(p=0.1)\n",
    "\n",
    "    def forward(self, input_batch) -> torch.Tensor:\n",
    "        embeddings = self.embedding(input_batch)  # [batch_size, seq_len, hidden_dim]\n",
    "        output, _ = self.rnn(embeddings)  # [batch_size, seq_len, hidden_dim]\n",
    "\n",
    "        output = self.linear(output)  # Применяем линейный слой\n",
    "        output = self.layer_norm(output)  # Применяем LayerNorm\n",
    "        \n",
    "        output = self.dropout(self.linear(self.non_lin(output)))  # [batch_size, seq_len, hidden_dim]\n",
    "        projection = self.projection(self.non_lin(output))  # [batch_size, seq_len, vocab_size]\n",
    "\n",
    "        return projection"
   ]
  },
  {
   "cell_type": "code",
   "execution_count": 133,
   "metadata": {},
   "outputs": [
    {
     "name": "stderr",
     "output_type": "stream",
     "text": [
      "Training epoch 0:: 100%|██████████████████████████████████████████████████████████████████████████████████████████████████████████████| 346/346 [00:23<00:00, 14.61it/s]\n",
      "Training epoch 1:: 100%|██████████████████████████████████████████████████████████████████████████████████████████████████████████████| 346/346 [00:23<00:00, 14.52it/s]\n",
      "Training epoch 2:: 100%|██████████████████████████████████████████████████████████████████████████████████████████████████████████████| 346/346 [00:23<00:00, 14.62it/s]\n",
      "Training epoch 3:: 100%|██████████████████████████████████████████████████████████████████████████████████████████████████████████████| 346/346 [00:23<00:00, 14.62it/s]\n",
      "Training epoch 4:: 100%|██████████████████████████████████████████████████████████████████████████████████████████████████████████████| 346/346 [00:23<00:00, 14.48it/s]\n",
      "Training epoch 5:: 100%|██████████████████████████████████████████████████████████████████████████████████████████████████████████████| 346/346 [00:23<00:00, 14.47it/s]\n",
      "Training epoch 6:: 100%|██████████████████████████████████████████████████████████████████████████████████████████████████████████████| 346/346 [00:25<00:00, 13.81it/s]\n",
      "Training epoch 7:: 100%|██████████████████████████████████████████████████████████████████████████████████████████████████████████████| 346/346 [00:24<00:00, 14.20it/s]\n",
      "Training epoch 8:: 100%|██████████████████████████████████████████████████████████████████████████████████████████████████████████████| 346/346 [00:24<00:00, 14.35it/s]\n",
      "Training epoch 9:: 100%|██████████████████████████████████████████████████████████████████████████████████████████████████████████████| 346/346 [00:23<00:00, 14.43it/s]\n",
      "Training epoch 10:: 100%|█████████████████████████████████████████████████████████████████████████████████████████████████████████████| 346/346 [00:23<00:00, 14.58it/s]\n",
      "Training epoch 11:: 100%|█████████████████████████████████████████████████████████████████████████████████████████████████████████████| 346/346 [00:24<00:00, 13.98it/s]\n",
      "Training epoch 12:: 100%|█████████████████████████████████████████████████████████████████████████████████████████████████████████████| 346/346 [00:23<00:00, 14.59it/s]\n",
      "Training epoch 13:: 100%|█████████████████████████████████████████████████████████████████████████████████████████████████████████████| 346/346 [00:23<00:00, 14.61it/s]\n",
      "Training epoch 14:: 100%|█████████████████████████████████████████████████████████████████████████████████████████████████████████████| 346/346 [00:23<00:00, 14.69it/s]\n",
      "Training epoch 15:: 100%|█████████████████████████████████████████████████████████████████████████████████████████████████████████████| 346/346 [00:25<00:00, 13.56it/s]\n",
      "Training epoch 16:: 100%|█████████████████████████████████████████████████████████████████████████████████████████████████████████████| 346/346 [00:24<00:00, 14.37it/s]\n",
      "Training epoch 17:: 100%|█████████████████████████████████████████████████████████████████████████████████████████████████████████████| 346/346 [00:23<00:00, 14.58it/s]\n",
      "Training epoch 18:: 100%|█████████████████████████████████████████████████████████████████████████████████████████████████████████████| 346/346 [00:23<00:00, 14.83it/s]\n",
      "Training epoch 19:: 100%|█████████████████████████████████████████████████████████████████████████████████████████████████████████████| 346/346 [00:24<00:00, 14.33it/s]\n"
     ]
    }
   ],
   "source": [
    "model = BaseGRU_with_layer_norm(hidden_dim=256, vocab_size=len(vocab)).to(device)\n",
    "criterion = nn.CrossEntropyLoss(ignore_index=word2ind['<pad>'])\n",
    "optimizer = torch.optim.Adam(model.parameters())\n",
    "\n",
    "train_results = train_model(model=model, \n",
    "                            optimizer=optimizer, \n",
    "                            criterion=criterion, \n",
    "                            train_dataloader=train_dataloader, \n",
    "                            eval_dataloader=eval_dataloader)"
   ]
  },
  {
   "cell_type": "code",
   "execution_count": 134,
   "metadata": {},
   "outputs": [
    {
     "name": "stdout",
     "output_type": "stream",
     "text": [
      "3.3857570903092484\n"
     ]
    }
   ],
   "source": [
    "# Итоговое значение перплексии для шестого эксперимента:\n",
    "experiment_6 = evaluate(train_results[\"model\"], criterion=criterion, dataloader=test_dataloader)\n",
    "print(experiment_6)"
   ]
  },
  {
   "cell_type": "markdown",
   "metadata": {},
   "source": [
    "# Эксперимент 7\n",
    "\n",
    "Пробуем SGQ вместо Adam"
   ]
  },
  {
   "cell_type": "code",
   "execution_count": 135,
   "metadata": {},
   "outputs": [
    {
     "name": "stderr",
     "output_type": "stream",
     "text": [
      "Training epoch 0:: 100%|██████████████████████████████████████████████████████████████████████████████████████████████████████████████| 346/346 [00:25<00:00, 13.40it/s]\n",
      "Training epoch 1:: 100%|██████████████████████████████████████████████████████████████████████████████████████████████████████████████| 346/346 [00:23<00:00, 15.02it/s]\n",
      "Training epoch 2:: 100%|██████████████████████████████████████████████████████████████████████████████████████████████████████████████| 346/346 [00:23<00:00, 14.77it/s]\n",
      "Training epoch 3:: 100%|██████████████████████████████████████████████████████████████████████████████████████████████████████████████| 346/346 [00:23<00:00, 14.90it/s]\n",
      "Training epoch 4:: 100%|██████████████████████████████████████████████████████████████████████████████████████████████████████████████| 346/346 [00:22<00:00, 15.11it/s]\n",
      "Training epoch 5:: 100%|██████████████████████████████████████████████████████████████████████████████████████████████████████████████| 346/346 [00:22<00:00, 15.10it/s]\n",
      "Training epoch 6:: 100%|██████████████████████████████████████████████████████████████████████████████████████████████████████████████| 346/346 [00:22<00:00, 15.54it/s]\n",
      "Training epoch 7:: 100%|██████████████████████████████████████████████████████████████████████████████████████████████████████████████| 346/346 [00:22<00:00, 15.71it/s]\n",
      "Training epoch 8:: 100%|██████████████████████████████████████████████████████████████████████████████████████████████████████████████| 346/346 [00:23<00:00, 14.67it/s]\n",
      "Training epoch 9:: 100%|██████████████████████████████████████████████████████████████████████████████████████████████████████████████| 346/346 [00:23<00:00, 14.56it/s]\n",
      "Training epoch 10:: 100%|█████████████████████████████████████████████████████████████████████████████████████████████████████████████| 346/346 [00:23<00:00, 14.89it/s]\n",
      "Training epoch 11:: 100%|█████████████████████████████████████████████████████████████████████████████████████████████████████████████| 346/346 [00:22<00:00, 15.67it/s]\n",
      "Training epoch 12:: 100%|█████████████████████████████████████████████████████████████████████████████████████████████████████████████| 346/346 [00:21<00:00, 15.78it/s]\n",
      "Training epoch 13:: 100%|█████████████████████████████████████████████████████████████████████████████████████████████████████████████| 346/346 [00:22<00:00, 15.65it/s]\n",
      "Training epoch 14:: 100%|█████████████████████████████████████████████████████████████████████████████████████████████████████████████| 346/346 [00:21<00:00, 15.80it/s]\n",
      "Training epoch 15:: 100%|█████████████████████████████████████████████████████████████████████████████████████████████████████████████| 346/346 [00:22<00:00, 15.61it/s]\n",
      "Training epoch 16:: 100%|█████████████████████████████████████████████████████████████████████████████████████████████████████████████| 346/346 [00:21<00:00, 15.83it/s]\n",
      "Training epoch 17:: 100%|█████████████████████████████████████████████████████████████████████████████████████████████████████████████| 346/346 [00:21<00:00, 15.75it/s]\n",
      "Training epoch 18:: 100%|█████████████████████████████████████████████████████████████████████████████████████████████████████████████| 346/346 [00:22<00:00, 15.71it/s]\n",
      "Training epoch 19:: 100%|█████████████████████████████████████████████████████████████████████████████████████████████████████████████| 346/346 [00:21<00:00, 15.76it/s]\n"
     ]
    }
   ],
   "source": [
    "model = BaseGRU_with_layer_norm(hidden_dim=256, vocab_size=len(vocab)).to(device)\n",
    "criterion = nn.CrossEntropyLoss(ignore_index=word2ind['<pad>'])\n",
    "optimizer = torch.optim.SGD(model.parameters())\n",
    "\n",
    "train_results = train_model(model=model, \n",
    "                            optimizer=optimizer, \n",
    "                            criterion=criterion, \n",
    "                            train_dataloader=train_dataloader, \n",
    "                            eval_dataloader=eval_dataloader)"
   ]
  },
  {
   "cell_type": "code",
   "execution_count": 136,
   "metadata": {},
   "outputs": [
    {
     "name": "stdout",
     "output_type": "stream",
     "text": [
      "18.71813085002284\n"
     ]
    }
   ],
   "source": [
    "# Итоговое значение перплексии для седьмого эксперимента:\n",
    "experiment_7 = evaluate(train_results[\"model\"], criterion=criterion, dataloader=test_dataloader)\n",
    "print(experiment_7)"
   ]
  },
  {
   "cell_type": "markdown",
   "metadata": {
    "id": "Y5V9H3eoFeAu"
   },
   "source": [
    "### Отчет (2 балла)\n",
    "\n",
    "Опишите проведенные эксперименты. Сравните перплексии полученных моделей. Предложите идеи по улучшению качества моделей."
   ]
  },
  {
   "cell_type": "markdown",
   "metadata": {
    "id": "M2GCDVeeF8LP"
   },
   "source": [
    "# Итоговый отчет\n",
    "\n",
    "Было проведено 7 экспериментов. Были протестированы различные архитектуры сетей GRU / LSTM. Также исследовалось влияние кол-во слоев на итоговое качество модели, а также изменялась величина Dropout. Использовались техники Layer Norm и Batch Norm, а также различные алгоритмы изменения learning rate. По итогу лучшее качество было достигнуто на сети со следующими параметраметрами базовый слой GRU, с дропаутом = 0.1, а также LayerNorm и Adam в качестве алгоритма оптимизации. Более подробно отражено в таблице ниже.\n",
    "\n",
    "| Номер эксперимента | Базовый слой сети   | Слой нормализации | Величина Дропаута | Алгоритм Оптимизации | Полученное значение Перплексии |\n",
    "|:------------------:|:-------------------:|:-----------------:|:-----------------:|:--------------------:|:------------------------------:|\n",
    "| 1                  | GRU                 | Без нормализации  | 0.1               | Adam                 | 3.663                          |\n",
    "| 2                  | LSTM                | Без нормализации  | 0.1               | Adam                 | 3.772                          |\n",
    "| 3                  | LSTM (num_layers=3) | Без нормализации  | 0.1               | Adam                 | 3.825                          |\n",
    "| 4                  | GRU                 | Без нормализации  | 0.3               | Adam                 | 3.805                          |\n",
    "| 5                  | GRU                 | Batch Norm        | 0.1               | Adam                 | 3.435                          |\n",
    "| **6**              | **GRU**             | **Layer Norm**    | **0.1**           | **Adam**             | **3.385**                      |\n",
    "| 7                  | GRU                 | Layer Norm        | 0.1               | SGD                  | 18.718                         |\n"
   ]
  },
  {
   "cell_type": "code",
   "execution_count": null,
   "metadata": {},
   "outputs": [],
   "source": []
  }
 ],
 "metadata": {
  "accelerator": "GPU",
  "colab": {
   "provenance": []
  },
  "gpuClass": "standard",
  "kernelspec": {
   "display_name": "Python 3 (ipykernel)",
   "language": "python",
   "name": "python3"
  },
  "language_info": {
   "codemirror_mode": {
    "name": "ipython",
    "version": 3
   },
   "file_extension": ".py",
   "mimetype": "text/x-python",
   "name": "python",
   "nbconvert_exporter": "python",
   "pygments_lexer": "ipython3",
   "version": "3.11.10"
  }
 },
 "nbformat": 4,
 "nbformat_minor": 4
}
