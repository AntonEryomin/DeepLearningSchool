{
 "cells": [
  {
   "cell_type": "markdown",
   "metadata": {
    "id": "d0ADTojbpfLt"
   },
   "source": [
    "<p style=\"align: center;\"><img src=\"https://static.tildacdn.com/tild6636-3531-4239-b465-376364646465/Deep_Learning_School.png\" width=\"400\"></p>\n",
    "\n",
    "# Домашнее задание. Обучение языковой модели с помощью LSTM (10 баллов)"
   ]
  },
  {
   "cell_type": "markdown",
   "metadata": {
    "id": "ldHSmYY6p_mZ"
   },
   "source": [
    "Э\n",
    "В этом задании Вам предстоит обучить языковую модель с помощью рекуррентной нейронной сети. В отличие от семинарского занятия, Вам необходимо будет работать с отдельными словами, а не буквами.\n",
    "\n",
    "\n",
    "Установим модуль ```datasets```, чтобы нам проще было работать с данными."
   ]
  },
  {
   "cell_type": "code",
   "execution_count": 1,
   "metadata": {
    "colab": {
     "base_uri": "https://localhost:8080/"
    },
    "id": "3yvNdv6cp_0P",
    "outputId": "2e2bec3b-3cf4-4505-e4b9-ef52877283aa"
   },
   "outputs": [
    {
     "name": "stdout",
     "output_type": "stream",
     "text": [
      "Requirement already satisfied: datasets in /home/max/anaconda3/envs/py39/lib/python3.9/site-packages (2.18.0)\n",
      "Requirement already satisfied: filelock in /home/max/anaconda3/envs/py39/lib/python3.9/site-packages (from datasets) (3.13.1)\n",
      "Requirement already satisfied: numpy>=1.17 in /home/max/anaconda3/envs/py39/lib/python3.9/site-packages (from datasets) (1.26.2)\n",
      "Requirement already satisfied: pyarrow>=12.0.0 in /home/max/anaconda3/envs/py39/lib/python3.9/site-packages (from datasets) (15.0.1)\n",
      "Requirement already satisfied: pyarrow-hotfix in /home/max/anaconda3/envs/py39/lib/python3.9/site-packages (from datasets) (0.6)\n",
      "Requirement already satisfied: dill<0.3.9,>=0.3.0 in /home/max/anaconda3/envs/py39/lib/python3.9/site-packages (from datasets) (0.3.8)\n",
      "Requirement already satisfied: pandas in /home/max/anaconda3/envs/py39/lib/python3.9/site-packages (from datasets) (2.1.3)\n",
      "Requirement already satisfied: requests>=2.19.0 in /home/max/anaconda3/envs/py39/lib/python3.9/site-packages (from datasets) (2.31.0)\n",
      "Requirement already satisfied: tqdm>=4.62.1 in /home/max/anaconda3/envs/py39/lib/python3.9/site-packages (from datasets) (4.66.1)\n",
      "Requirement already satisfied: xxhash in /home/max/anaconda3/envs/py39/lib/python3.9/site-packages (from datasets) (3.4.1)\n",
      "Requirement already satisfied: multiprocess in /home/max/anaconda3/envs/py39/lib/python3.9/site-packages (from datasets) (0.70.16)\n",
      "Requirement already satisfied: fsspec<=2024.2.0,>=2023.1.0 in /home/max/anaconda3/envs/py39/lib/python3.9/site-packages (from fsspec[http]<=2024.2.0,>=2023.1.0->datasets) (2023.12.1)\n",
      "Requirement already satisfied: aiohttp in /home/max/anaconda3/envs/py39/lib/python3.9/site-packages (from datasets) (3.9.3)\n",
      "Requirement already satisfied: huggingface-hub>=0.19.4 in /home/max/anaconda3/envs/py39/lib/python3.9/site-packages (from datasets) (0.21.4)\n",
      "Requirement already satisfied: packaging in /home/max/anaconda3/envs/py39/lib/python3.9/site-packages (from datasets) (23.2)\n",
      "Requirement already satisfied: pyyaml>=5.1 in /home/max/anaconda3/envs/py39/lib/python3.9/site-packages (from datasets) (6.0.1)\n",
      "Requirement already satisfied: aiosignal>=1.1.2 in /home/max/anaconda3/envs/py39/lib/python3.9/site-packages (from aiohttp->datasets) (1.3.1)\n",
      "Requirement already satisfied: attrs>=17.3.0 in /home/max/anaconda3/envs/py39/lib/python3.9/site-packages (from aiohttp->datasets) (23.1.0)\n",
      "Requirement already satisfied: frozenlist>=1.1.1 in /home/max/anaconda3/envs/py39/lib/python3.9/site-packages (from aiohttp->datasets) (1.4.1)\n",
      "Requirement already satisfied: multidict<7.0,>=4.5 in /home/max/anaconda3/envs/py39/lib/python3.9/site-packages (from aiohttp->datasets) (6.0.5)\n",
      "Requirement already satisfied: yarl<2.0,>=1.0 in /home/max/anaconda3/envs/py39/lib/python3.9/site-packages (from aiohttp->datasets) (1.9.4)\n",
      "Requirement already satisfied: async-timeout<5.0,>=4.0 in /home/max/anaconda3/envs/py39/lib/python3.9/site-packages (from aiohttp->datasets) (4.0.3)\n",
      "Requirement already satisfied: typing-extensions>=3.7.4.3 in /home/max/anaconda3/envs/py39/lib/python3.9/site-packages (from huggingface-hub>=0.19.4->datasets) (4.8.0)\n",
      "Requirement already satisfied: charset-normalizer<4,>=2 in /home/max/anaconda3/envs/py39/lib/python3.9/site-packages (from requests>=2.19.0->datasets) (3.3.2)\n",
      "Requirement already satisfied: idna<4,>=2.5 in /home/max/anaconda3/envs/py39/lib/python3.9/site-packages (from requests>=2.19.0->datasets) (3.6)\n",
      "Requirement already satisfied: urllib3<3,>=1.21.1 in /home/max/anaconda3/envs/py39/lib/python3.9/site-packages (from requests>=2.19.0->datasets) (1.26.18)\n",
      "Requirement already satisfied: certifi>=2017.4.17 in /home/max/anaconda3/envs/py39/lib/python3.9/site-packages (from requests>=2.19.0->datasets) (2023.11.17)\n",
      "Requirement already satisfied: python-dateutil>=2.8.2 in /home/max/anaconda3/envs/py39/lib/python3.9/site-packages (from pandas->datasets) (2.8.2)\n",
      "Requirement already satisfied: pytz>=2020.1 in /home/max/anaconda3/envs/py39/lib/python3.9/site-packages (from pandas->datasets) (2023.3.post1)\n",
      "Requirement already satisfied: tzdata>=2022.1 in /home/max/anaconda3/envs/py39/lib/python3.9/site-packages (from pandas->datasets) (2023.3)\n",
      "Requirement already satisfied: six>=1.5 in /home/max/anaconda3/envs/py39/lib/python3.9/site-packages (from python-dateutil>=2.8.2->pandas->datasets) (1.16.0)\n"
     ]
    }
   ],
   "source": [
    "!pip install datasets"
   ]
  },
  {
   "cell_type": "markdown",
   "metadata": {
    "id": "rh9ZXSeCpng9"
   },
   "source": [
    "Импорт необходимых библиотек"
   ]
  },
  {
   "cell_type": "code",
   "execution_count": 2,
   "metadata": {
    "id": "XOJi16bLpd_O"
   },
   "outputs": [],
   "source": [
    "import torch\n",
    "import torch.nn as nn\n",
    "from torch.utils.data import Dataset, DataLoader\n",
    "\n",
    "import numpy as np\n",
    "import matplotlib.pyplot as plt\n",
    "\n",
    "from tqdm.auto import tqdm\n",
    "from datasets import load_dataset\n",
    "from nltk.tokenize import sent_tokenize, word_tokenize\n",
    "from sklearn.model_selection import train_test_split\n",
    "import nltk\n",
    "\n",
    "from collections import Counter\n",
    "from typing import List\n",
    "\n",
    "import seaborn\n",
    "seaborn.set(palette='summer')"
   ]
  },
  {
   "cell_type": "code",
   "execution_count": 3,
   "metadata": {
    "colab": {
     "base_uri": "https://localhost:8080/"
    },
    "id": "91JuM0SQvXud",
    "outputId": "123109f7-aead-410c-f992-e2e5c956db81"
   },
   "outputs": [
    {
     "name": "stderr",
     "output_type": "stream",
     "text": [
      "[nltk_data] Downloading package punkt to /home/max/nltk_data...\n",
      "[nltk_data]   Package punkt is already up-to-date!\n"
     ]
    },
    {
     "data": {
      "text/plain": [
       "True"
      ]
     },
     "execution_count": 3,
     "metadata": {},
     "output_type": "execute_result"
    }
   ],
   "source": [
    "nltk.download('punkt')"
   ]
  },
  {
   "cell_type": "code",
   "execution_count": 4,
   "metadata": {
    "colab": {
     "base_uri": "https://localhost:8080/",
     "height": 35
    },
    "id": "adJC8ShFq9HM",
    "outputId": "3c4f7e27-5551-4d10-a986-ef5fb7824389"
   },
   "outputs": [
    {
     "data": {
      "text/plain": [
       "'cuda'"
      ]
     },
     "execution_count": 4,
     "metadata": {},
     "output_type": "execute_result"
    }
   ],
   "source": [
    "device = 'cuda' if torch.cuda.is_available() else 'cpu'\n",
    "device"
   ]
  },
  {
   "cell_type": "markdown",
   "metadata": {
    "id": "pwsfS1ENq5ig"
   },
   "source": [
    "## Подготовка данных\n",
    "\n",
    "Воспользуемся датасетом imdb. В нем хранятся отзывы о фильмах с сайта imdb. Загрузим данные с помощью функции ```load_dataset```"
   ]
  },
  {
   "cell_type": "code",
   "execution_count": 5,
   "metadata": {
    "colab": {
     "base_uri": "https://localhost:8080/"
    },
    "id": "qHLNWOfJqSfc",
    "outputId": "f0ab6c97-e325-4c71-cb0d-e7da72b15855"
   },
   "outputs": [],
   "source": [
    "# Загрузим датасет\n",
    "dataset = load_dataset('imdb')"
   ]
  },
  {
   "cell_type": "markdown",
   "metadata": {
    "id": "24gn7CuZ9agP"
   },
   "source": [
    "### Препроцессинг данных и создание словаря (1 балл)\n",
    "\n",
    "Далее вам необходмо самостоятельно произвести препроцессинг данных и получить словарь или же просто ```set``` строк. Что необходимо сделать:\n",
    "\n",
    "1. Разделить отдельные тренировочные примеры на отдельные предложения с помощью функции ```sent_tokenize``` из бибилиотеки ```nltk```. Каждое отдельное предложение будет одним тренировочным примером.\n",
    "2. Оставить только те предложения, в которых меньше ```word_threshold``` слов.\n",
    "3. Посчитать частоту вхождения каждого слова в оставшихся предложениях. Для деления предлоения на отдельные слова удобно использовать функцию ```word_tokenize```.\n",
    "4. Создать объект ```vocab``` класса ```set```, положить в него служебные токены '\\<unk\\>', '\\<bos\\>', '\\<eos\\>', '\\<pad\\>' и vocab_size самых частовстречающихся слов.   "
   ]
  },
  {
   "cell_type": "code",
   "execution_count": 6,
   "metadata": {
    "id": "WjoD_pqlC8Ke"
   },
   "outputs": [],
   "source": [
    "# Обработка обучащих данных\n",
    "word_threshold = 32\n",
    "text_to_analyze = ' '.join(dataset['train']['text'])\n",
    "\n",
    "sentences = sent_tokenize(text_to_analyze)\n",
    "\n",
    "train_sentences = [sentence for sentence in sentences if len(word_tokenize(sentence)) <= word_threshold]\n",
    "\n",
    "# Обработка тестовых данных\n",
    "text_to_analyze = ' '.join(dataset['test']['text'])\n",
    "\n",
    "sentences = sent_tokenize(text_to_analyze)\n",
    "\n",
    "test_sentences = [sentence for sentence in sentences if len(word_tokenize(sentence)) <= word_threshold]"
   ]
  },
  {
   "cell_type": "code",
   "execution_count": 7,
   "metadata": {
    "id": "gKgoQW1hDxDZ"
   },
   "outputs": [],
   "source": [
    "sentences = train_sentences + test_sentences"
   ]
  },
  {
   "cell_type": "code",
   "execution_count": 8,
   "metadata": {
    "colab": {
     "base_uri": "https://localhost:8080/"
    },
    "id": "bxeBxP3J1Rj3",
    "outputId": "32a034d5-c5b4-46e4-899a-d3ec6277adc8"
   },
   "outputs": [
    {
     "name": "stdout",
     "output_type": "stream",
     "text": [
      "Всего предложений: 392461\n"
     ]
    }
   ],
   "source": [
    "print(\"Всего предложений:\", len(sentences))"
   ]
  },
  {
   "cell_type": "markdown",
   "metadata": {
    "id": "iT82XkT6ULA_"
   },
   "source": [
    "Посчитаем для каждого слова его встречаемость."
   ]
  },
  {
   "cell_type": "code",
   "execution_count": 9,
   "metadata": {
    "colab": {
     "base_uri": "https://localhost:8080/"
    },
    "id": "ioCVuUlEEmKW",
    "outputId": "28882ca0-a7f7-4bfd-bf6c-7b57f3f0b5a7"
   },
   "outputs": [
    {
     "name": "stdout",
     "output_type": "stream",
     "text": [
      "Всего слов: 6580350\n"
     ]
    }
   ],
   "source": [
    "all_words = [word for sentence in sentences for word in word_tokenize(sentence)]\n",
    "print(\"Всего слов:\", len(all_words))"
   ]
  },
  {
   "cell_type": "code",
   "execution_count": 10,
   "metadata": {
    "colab": {
     "base_uri": "https://localhost:8080/"
    },
    "id": "nEvCN0Y1w1yH",
    "outputId": "d422c918-ab8e-4efa-aad3-56ce621dbf00"
   },
   "outputs": [
    {
     "data": {
      "text/plain": [
       "119305"
      ]
     },
     "execution_count": 10,
     "metadata": {},
     "output_type": "execute_result"
    }
   ],
   "source": [
    "# Расчет встречаемости слов\n",
    "all_words.append('<unk>')\n",
    "all_words.append('<bos>')\n",
    "all_words.append('<eos>')\n",
    "all_words.append('<pad>')\n",
    "\n",
    "words_with_count = Counter(all_words)\n",
    "len(words_with_count)"
   ]
  },
  {
   "cell_type": "markdown",
   "metadata": {
    "id": "B4k4uSoHUSI0"
   },
   "source": [
    "Добавим в словарь ```vocab_size``` самых встречающихся слов."
   ]
  },
  {
   "cell_type": "code",
   "execution_count": 11,
   "metadata": {
    "id": "oUBNwsK9xLIu"
   },
   "outputs": [],
   "source": [
    "# Наполнение словаря\n",
    "vocab = set()\n",
    "vocab_size = 40000\n",
    "\n",
    "vocab = {word[0]: word[1] for i, word in enumerate(words_with_count.most_common(vocab_size))}\n",
    "\n",
    "\n",
    "vocab['<unk>'] = 1\n",
    "vocab['<bos>'] = 1\n",
    "vocab['<eos>'] = 1\n",
    "vocab['<pad>'] = 1"
   ]
  },
  {
   "cell_type": "code",
   "execution_count": 12,
   "metadata": {
    "id": "ieT0DFUpXnV2"
   },
   "outputs": [],
   "source": [
    "assert '<unk>' in vocab\n",
    "assert '<bos>' in vocab\n",
    "assert '<eos>' in vocab\n",
    "assert '<pad>' in vocab\n",
    "assert len(vocab) == vocab_size + 4"
   ]
  },
  {
   "cell_type": "code",
   "execution_count": 13,
   "metadata": {
    "colab": {
     "base_uri": "https://localhost:8080/"
    },
    "id": "JhACW2CQyck5",
    "outputId": "f905a14a-1808-484a-f8fb-44ac37599c8b"
   },
   "outputs": [
    {
     "name": "stdout",
     "output_type": "stream",
     "text": [
      "Всего слов в словаре: 40004\n"
     ]
    }
   ],
   "source": [
    "print(\"Всего слов в словаре:\", len(vocab))"
   ]
  },
  {
   "cell_type": "code",
   "execution_count": 14,
   "metadata": {},
   "outputs": [
    {
     "data": {
      "text/plain": [
       "1"
      ]
     },
     "execution_count": 14,
     "metadata": {},
     "output_type": "execute_result"
    }
   ],
   "source": [
    "vocab['<pad>']"
   ]
  },
  {
   "cell_type": "markdown",
   "metadata": {
    "id": "UmeRYKSIUcdE"
   },
   "source": [
    "### Подготовка датасета (1 балл)\n",
    "\n",
    "Далее, как и в семинарском занятии, подготовим датасеты и даталоадеры.\n",
    "\n",
    "В классе ```WordDataset``` вам необходимо реализовать метод ```__getitem__```, который будет возвращать сэмпл данных по входному idx, то есть список целых чисел (индексов слов).\n",
    "\n",
    "Внутри этого метода необходимо добавить служебные токены начала и конца последовательности, а также токенизировать соответствующее предложение с помощью ```word_tokenize``` и сопоставить ему индексы из ```word2ind```."
   ]
  },
  {
   "cell_type": "code",
   "execution_count": 15,
   "metadata": {
    "colab": {
     "base_uri": "https://localhost:8080/"
    },
    "id": "iD7SmSy3v2dl",
    "outputId": "8476a543-9055-4ae2-c83f-e65cc827f3d5"
   },
   "outputs": [],
   "source": [
    "word2ind = {word: i for i, word in enumerate(vocab)}\n",
    "ind2word = {i: word for word, i in word2ind.items()}"
   ]
  },
  {
   "cell_type": "code",
   "execution_count": 16,
   "metadata": {
    "id": "XOJi16bLpd_O"
   },
   "outputs": [],
   "source": [
    "import torch\n",
    "import torch.nn as nn\n",
    "from torch.utils.data import Dataset, DataLoader\n",
    "\n",
    "import numpy as np\n",
    "import matplotlib.pyplot as plt\n",
    "\n",
    "from tqdm.auto import tqdm\n",
    "from datasets import load_dataset\n",
    "from nltk.tokenize import sent_tokenize, word_tokenize\n",
    "from sklearn.model_selection import train_test_split\n",
    "import nltk\n",
    "\n",
    "from collections import Counter\n",
    "from typing import List\n",
    "\n",
    "import seaborn\n",
    "seaborn.set(palette='summer')"
   ]
  },
  {
   "cell_type": "code",
   "execution_count": 17,
   "metadata": {
    "id": "FVzXL17PzC7K"
   },
   "outputs": [],
   "source": [
    "class WordDataset:\n",
    "    def __init__(self, sentences):\n",
    "        self.data = sentences\n",
    "        self.unk_id = word2ind['<unk>']\n",
    "        self.bos_id = word2ind['<bos>']\n",
    "        self.eos_id = word2ind['<eos>']\n",
    "        self.pad_id = word2ind['<pad>']\n",
    "\n",
    "    def __getitem__(self, idx: int) -> List[int]:\n",
    "        tokenized_sentence = [self.bos_id]\n",
    "        tokenized_sentence += [word2ind.get(word, self.unk_id) for word in word_tokenize(self.data[idx])]\n",
    "        tokenized_sentence += [self.eos_id]\n",
    "\n",
    "        return tokenized_sentence\n",
    "\n",
    "    def __len__(self) -> int:\n",
    "        return len(self.data)"
   ]
  },
  {
   "cell_type": "code",
   "execution_count": 18,
   "metadata": {
    "id": "I6CtYNMp2_g0"
   },
   "outputs": [],
   "source": [
    "def collate_fn_with_padding(\n",
    "    input_batch: List[List[int]], pad_id=word2ind['<pad>']) -> torch.Tensor:\n",
    "    seq_lens = [len(x) for x in input_batch]\n",
    "    max_seq_len = max(seq_lens)\n",
    "\n",
    "    new_batch = []\n",
    "    for sequence in input_batch:\n",
    "        for _ in range(max_seq_len - len(sequence)):\n",
    "            sequence.append(pad_id)\n",
    "        new_batch.append(sequence)\n",
    "\n",
    "    sequences = torch.LongTensor(new_batch).to(device)\n",
    "\n",
    "    new_batch = {\n",
    "        'input_ids': sequences[:,:-1],\n",
    "        'target_ids': sequences[:,1:]\n",
    "    }\n",
    "\n",
    "    return new_batch"
   ]
  },
  {
   "cell_type": "code",
   "execution_count": 19,
   "metadata": {
    "id": "6xmeK9Ys1BIG"
   },
   "outputs": [],
   "source": [
    "train_sentences, eval_sentences = train_test_split(sentences, test_size=0.2)\n",
    "eval_sentences, test_sentences = train_test_split(eval_sentences, test_size=0.5)\n",
    "\n",
    "train_dataset = WordDataset(train_sentences)\n",
    "eval_dataset = WordDataset(eval_sentences)\n",
    "test_dataset = WordDataset(test_sentences)\n",
    "\n",
    "batch_size = 128\n",
    "\n",
    "train_dataloader = DataLoader(\n",
    "    train_dataset, collate_fn=collate_fn_with_padding, batch_size=batch_size)\n",
    "\n",
    "eval_dataloader = DataLoader(\n",
    "    eval_dataset, collate_fn=collate_fn_with_padding, batch_size=batch_size)\n",
    "\n",
    "test_dataloader = DataLoader(\n",
    "    test_dataset, collate_fn=collate_fn_with_padding, batch_size=batch_size)"
   ]
  },
  {
   "cell_type": "markdown",
   "metadata": {
    "id": "SMAexY7Y45E4"
   },
   "source": [
    "## Обучение и архитектура модели\n",
    "\n",
    "Вам необходимо на практике проверить, что влияет на качество языковых моделей. В этом задании нужно провести серию экспериментов с различными вариантами языковых моделей и сравнить различия в конечной перплексии на тестовом множестве.\n",
    "\n",
    "Возмоэные идеи для экспериментов:\n",
    "\n",
    "* Различные RNN-блоки, например, LSTM или GRU. Также можно добавить сразу несколько RNN блоков друг над другом с помощью аргумента num_layers. Вам поможет официальная документация [здесь](https://pytorch.org/docs/stable/generated/torch.nn.LSTM.html)\n",
    "* Различные размеры скрытого состояния. Различное количество линейных слоев после RNN-блока. Различные функции активации.\n",
    "* Добавление нормализаций в виде Dropout, BatchNorm или LayerNorm\n",
    "* Различные аргументы для оптимизации, например, подбор оптимального learning rate или тип алгоритма оптимизации SGD, Adam, RMSProp и другие\n",
    "* Любые другие идеи и подходы\n",
    "\n",
    "После проведения экспериментов необходимо составить таблицу результатов, в которой описан каждый эксперимент и посчитана перплексия на тестовом множестве.\n",
    "\n",
    "Учтите, что эксперименты, которые различаются, например, только размером скрытого состояния или количеством линейных слоев считаются, как один эксперимент.\n",
    "\n",
    "Успехов!"
   ]
  },
  {
   "cell_type": "markdown",
   "metadata": {
    "id": "KP1cO-3bmDv9"
   },
   "source": [
    "### Функция evaluate (1 балл)\n",
    "\n",
    "Заполните функцию ```evaluate```"
   ]
  },
  {
   "cell_type": "code",
   "execution_count": 20,
   "metadata": {
    "id": "XUlMUVJ3mL4r"
   },
   "outputs": [],
   "source": [
    "def evaluate(model, criterion, dataloader) -> float:\n",
    "    model.eval()\n",
    "    perplexity = []\n",
    "    with torch.no_grad():\n",
    "        for batch in dataloader:\n",
    "            logits = logits = model(batch['input_ids'].cuda()).flatten(start_dim=0, end_dim=1)\n",
    "            loss = criterion(logits, batch['target_ids'].flatten())\n",
    "            perplexity.append(torch.exp(loss).item())\n",
    "\n",
    "    perplexity = sum(perplexity) / len(perplexity)\n",
    "\n",
    "    return perplexity"
   ]
  },
  {
   "cell_type": "markdown",
   "metadata": {
    "id": "bLV63Vsk7loy"
   },
   "source": [
    "### Train loop (1 балл)\n",
    "\n",
    "Напишите функцию для обучения модели."
   ]
  },
  {
   "cell_type": "code",
   "execution_count": 21,
   "metadata": {
    "id": "bSZmUC3YmocP"
   },
   "outputs": [],
   "source": [
    "def train_model(model, num_epoch):\n",
    "    # Напишите код здесьnum_epoch = 10\n",
    "    losses = []\n",
    "    perplexitys = []\n",
    "\n",
    "    for epoch in range(num_epoch):\n",
    "        epoch_losses = []\n",
    "        model.train()\n",
    "        for batch in tqdm(train_dataloader, desc=f'Training epoch {epoch}:'):\n",
    "            optimizer.zero_grad()\n",
    "            logits = model(batch['input_ids'].cuda()).flatten(start_dim=0, end_dim=1)\n",
    "            loss = criterion(logits, batch['target_ids'].flatten())\n",
    "            loss.backward()\n",
    "            optimizer.step()\n",
    "\n",
    "            epoch_losses.append(loss.item())\n",
    "\n",
    "        loss_value = sum(epoch_losses) / len(epoch_losses)\n",
    "        perplexity = (evaluate(model, criterion, eval_dataloader))\n",
    "        print(f\"Epoch {epoch}: Loss={loss_value}, perplexity={perplexity}\\n\")\n",
    "        \n",
    "        losses.append(loss_value)\n",
    "        perplexitys.append(perplexity)\n",
    "        \n",
    "    return model, losses, perplexitys"
   ]
  },
  {
   "cell_type": "markdown",
   "metadata": {
    "id": "hXmeyhBQmuq4"
   },
   "source": [
    "### Первый эксперимент (2 балла)\n",
    "\n",
    "Определите архитектуру модели и обучите её."
   ]
  },
  {
   "cell_type": "code",
   "execution_count": 22,
   "metadata": {
    "id": "qaWvqNJom0ij"
   },
   "outputs": [],
   "source": [
    "# Базовая модель с семинара\n",
    "class LanguageModel(nn.Module):\n",
    "    def __init__(self, hidden_dim: int, vocab_size: int):\n",
    "        super().__init__()\n",
    "        self.embedding = nn.Embedding(vocab_size, hidden_dim)\n",
    "        self.rnn = nn.GRU(hidden_dim, hidden_dim, batch_first=True)\n",
    "        self.linear = nn.Linear(hidden_dim, hidden_dim)\n",
    "        self.projection = nn.Linear(hidden_dim, vocab_size)\n",
    "\n",
    "        self.non_lin = nn.Tanh()\n",
    "        self.dropout = nn.Dropout(p=0.1)\n",
    "\n",
    "    def forward(self, input_batch: torch.Tensor) -> torch.Tensor:\n",
    "        embeddings = self.embedding(input_batch)  # [batch_size, seq_len, hidden_dim]\n",
    "        output, _ = self.rnn(embeddings)  # [batch_size, seq_len, hidden_dim]\n",
    "        output = self.dropout(self.linear(self.non_lin(output)))  # [batch_size, seq_len, hidden_dim]\n",
    "        projection = self.projection(self.non_lin(output))  # [batch_size, seq_len, vocab_size]\n",
    "\n",
    "        return projection\n",
    "\n",
    "model = LanguageModel(hidden_dim=256, vocab_size=len(vocab)).to(device)\n",
    "criterion = nn.CrossEntropyLoss(ignore_index=word2ind['<pad>'])\n",
    "optimizer = torch.optim.Adam(model.parameters())"
   ]
  },
  {
   "cell_type": "code",
   "execution_count": 23,
   "metadata": {
    "colab": {
     "base_uri": "https://localhost:8080/",
     "height": 295,
     "referenced_widgets": [
      "67a9327fb235487cbf64869c64633512",
      "38d95afc64214bc3b788006946d9323a",
      "2b47c60adf9541769d05e50ab0b8a22e",
      "4ab6d1730b9a41e58f6c82bb1279148b",
      "d9ae742089764d2ea990ec8b056895df",
      "bb0eef7e497e49c39a99e9876e219b4b",
      "1f146e5c00914abda7ba417e521ba7db",
      "2e949b718e3e49c7a965ad5738f4ae88",
      "68276871e18f4f538df65119035a81f0",
      "50565c53097d4b84b74f653610759f4b",
      "0e1485eb994e4830b3d30bcb1a2c709e"
     ]
    },
    "id": "TxbEzn5fnBOY",
    "outputId": "0bce391f-c93e-4332-f403-5d06bc055c64"
   },
   "outputs": [
    {
     "data": {
      "application/vnd.jupyter.widget-view+json": {
       "model_id": "d608d37eac684b2a9e850134b350fe3f",
       "version_major": 2,
       "version_minor": 0
      },
      "text/plain": [
       "Training epoch 0::   0%|          | 0/2453 [00:00<?, ?it/s]"
      ]
     },
     "metadata": {},
     "output_type": "display_data"
    },
    {
     "name": "stdout",
     "output_type": "stream",
     "text": [
      "Epoch 0: Loss=5.120706920763739, perplexity=115.00417047059497\n",
      "\n"
     ]
    },
    {
     "data": {
      "application/vnd.jupyter.widget-view+json": {
       "model_id": "31501ec3e28642399a3b598319a6d64a",
       "version_major": 2,
       "version_minor": 0
      },
      "text/plain": [
       "Training epoch 1::   0%|          | 0/2453 [00:00<?, ?it/s]"
      ]
     },
     "metadata": {},
     "output_type": "display_data"
    },
    {
     "name": "stdout",
     "output_type": "stream",
     "text": [
      "Epoch 1: Loss=4.6075809897085716, perplexity=99.19717205929834\n",
      "\n"
     ]
    },
    {
     "data": {
      "application/vnd.jupyter.widget-view+json": {
       "model_id": "0c0eeee9ff0247e8b691f6e62e599083",
       "version_major": 2,
       "version_minor": 0
      },
      "text/plain": [
       "Training epoch 2::   0%|          | 0/2453 [00:00<?, ?it/s]"
      ]
     },
     "metadata": {},
     "output_type": "display_data"
    },
    {
     "name": "stdout",
     "output_type": "stream",
     "text": [
      "Epoch 2: Loss=4.434151334758686, perplexity=94.06787641195987\n",
      "\n"
     ]
    },
    {
     "data": {
      "application/vnd.jupyter.widget-view+json": {
       "model_id": "e0f4b84d2f314769b4ddc7f8a7873618",
       "version_major": 2,
       "version_minor": 0
      },
      "text/plain": [
       "Training epoch 3::   0%|          | 0/2453 [00:00<?, ?it/s]"
      ]
     },
     "metadata": {},
     "output_type": "display_data"
    },
    {
     "name": "stdout",
     "output_type": "stream",
     "text": [
      "Epoch 3: Loss=4.321459567357315, perplexity=92.55506951645842\n",
      "\n"
     ]
    },
    {
     "data": {
      "application/vnd.jupyter.widget-view+json": {
       "model_id": "3eb03bb931be4d138d4677625cc970e4",
       "version_major": 2,
       "version_minor": 0
      },
      "text/plain": [
       "Training epoch 4::   0%|          | 0/2453 [00:00<?, ?it/s]"
      ]
     },
     "metadata": {},
     "output_type": "display_data"
    },
    {
     "name": "stdout",
     "output_type": "stream",
     "text": [
      "Epoch 4: Loss=4.236434844577259, perplexity=92.7845577525782\n",
      "\n"
     ]
    },
    {
     "data": {
      "application/vnd.jupyter.widget-view+json": {
       "model_id": "59ecd2c973af4e439f8906331db1f635",
       "version_major": 2,
       "version_minor": 0
      },
      "text/plain": [
       "Training epoch 5::   0%|          | 0/2453 [00:00<?, ?it/s]"
      ]
     },
     "metadata": {},
     "output_type": "display_data"
    },
    {
     "name": "stdout",
     "output_type": "stream",
     "text": [
      "Epoch 5: Loss=4.167602049881616, perplexity=94.12106290935306\n",
      "\n"
     ]
    },
    {
     "data": {
      "application/vnd.jupyter.widget-view+json": {
       "model_id": "a36ca171b5a0478b92c72aa13874a2f1",
       "version_major": 2,
       "version_minor": 0
      },
      "text/plain": [
       "Training epoch 6::   0%|          | 0/2453 [00:00<?, ?it/s]"
      ]
     },
     "metadata": {},
     "output_type": "display_data"
    },
    {
     "name": "stdout",
     "output_type": "stream",
     "text": [
      "Epoch 6: Loss=4.110046192329366, perplexity=96.00199892621863\n",
      "\n"
     ]
    },
    {
     "data": {
      "application/vnd.jupyter.widget-view+json": {
       "model_id": "655511c25c73438e83ac0626d851ced3",
       "version_major": 2,
       "version_minor": 0
      },
      "text/plain": [
       "Training epoch 7::   0%|          | 0/2453 [00:00<?, ?it/s]"
      ]
     },
     "metadata": {},
     "output_type": "display_data"
    },
    {
     "name": "stdout",
     "output_type": "stream",
     "text": [
      "Epoch 7: Loss=4.060582271654461, perplexity=98.35149410881515\n",
      "\n"
     ]
    },
    {
     "data": {
      "application/vnd.jupyter.widget-view+json": {
       "model_id": "c43fbc74480a49149b79ebed7b221799",
       "version_major": 2,
       "version_minor": 0
      },
      "text/plain": [
       "Training epoch 8::   0%|          | 0/2453 [00:00<?, ?it/s]"
      ]
     },
     "metadata": {},
     "output_type": "display_data"
    },
    {
     "name": "stdout",
     "output_type": "stream",
     "text": [
      "Epoch 8: Loss=4.017191446026733, perplexity=100.51344868414566\n",
      "\n"
     ]
    },
    {
     "data": {
      "application/vnd.jupyter.widget-view+json": {
       "model_id": "23f7e1cb4b1d4be2b558ca9ea16c7fda",
       "version_major": 2,
       "version_minor": 0
      },
      "text/plain": [
       "Training epoch 9::   0%|          | 0/2453 [00:00<?, ?it/s]"
      ]
     },
     "metadata": {},
     "output_type": "display_data"
    },
    {
     "name": "stdout",
     "output_type": "stream",
     "text": [
      "Epoch 9: Loss=3.978652472890643, perplexity=102.75776659937557\n",
      "\n"
     ]
    }
   ],
   "source": [
    "model, losses, perplexities = train_model(model, 10)"
   ]
  },
  {
   "cell_type": "code",
   "execution_count": 24,
   "metadata": {
    "id": "83tIQOu4lbTn"
   },
   "outputs": [
    {
     "data": {
      "image/png": "[encoded data removed]",
      "text/plain": [
       "<Figure size 640x480 with 1 Axes>"
      ]
     },
     "metadata": {},
     "output_type": "display_data"
    }
   ],
   "source": [
    "plt.plot(np.arange(len(losses)), losses)\n",
    "plt.title('Losses')\n",
    "plt.xlabel(\"epoch\")\n",
    "plt.show()"
   ]
  },
  {
   "cell_type": "code",
   "execution_count": 25,
   "metadata": {
    "id": "UJ4hRiunlceP"
   },
   "outputs": [
    {
     "data": {
      "image/png": "[encoded data removed]",
      "text/plain": [
       "<Figure size 640x480 with 1 Axes>"
      ]
     },
     "metadata": {},
     "output_type": "display_data"
    }
   ],
   "source": [
    "plt.plot(np.arange(len(perplexities)), perplexities)\n",
    "plt.title('Perplexity')\n",
    "plt.xlabel(\"epoch\")\n",
    "plt.show()"
   ]
  },
  {
   "cell_type": "code",
   "execution_count": 26,
   "metadata": {},
   "outputs": [],
   "source": [
    "def generate_sentence(model, initial_words, max_length=50):\n",
    "    device = 'cpu'\n",
    "    model = model.to(device)\n",
    "    model.eval()\n",
    "    with torch.no_grad():\n",
    "        input_ids = [word2ind.get(word, word2ind['<unk>']) for word in initial_words]\n",
    "        input_tensor = torch.LongTensor(input_ids).unsqueeze(0).to(device)\n",
    "\n",
    "        output_ids = input_ids\n",
    "\n",
    "        for _ in range(max_length):\n",
    "            logits = model(input_tensor.to(device)).squeeze(0)[-1]\n",
    "            predicted_id = torch.argmax(logits).item()\n",
    "            # print(predicted_id)\n",
    "            if predicted_id == word2ind['<eos>']:\n",
    "                break\n",
    "\n",
    "            output_ids.append(predicted_id)\n",
    "            input_tensor = torch.cat([input_tensor, torch.LongTensor([[predicted_id]]).to(device)], dim=-1)\n",
    "\n",
    "        generated_sentence = ' '.join([ind2word.get(idx, '<unk>') for idx in output_ids[1:]])\n",
    "        return generated_sentence\n"
   ]
  },
  {
   "cell_type": "code",
   "execution_count": 27,
   "metadata": {},
   "outputs": [
    {
     "name": "stdout",
     "output_type": "stream",
     "text": [
      "Generated Sentence: this film is so bad that it 's not a good movie .\n"
     ]
    }
   ],
   "source": [
    "initial_words = ['<bos>', 'this', 'film', 'is', 'so']\n",
    "generated_sentence = generate_sentence(model, initial_words)\n",
    "print(\"Generated Sentence:\", generated_sentence)"
   ]
  },
  {
   "cell_type": "code",
   "execution_count": 28,
   "metadata": {},
   "outputs": [
    {
     "name": "stdout",
     "output_type": "stream",
     "text": [
      "Generated Sentence: i dont know what to say about this movie .\n"
     ]
    }
   ],
   "source": [
    "initial_words = ['<bos>', 'i', 'dont']\n",
    "generated_sentence = generate_sentence(model, initial_words)\n",
    "print(\"Generated Sentence:\", generated_sentence)"
   ]
  },
  {
   "cell_type": "markdown",
   "metadata": {
    "id": "X1EW4faIm0tl"
   },
   "source": [
    "### Второй эксперимент (2 балла)\n",
    "\n",
    "Изменим GRU слой на LSTM, добавим 2 сло"
   ]
  },
  {
   "cell_type": "code",
   "execution_count": 29,
   "metadata": {},
   "outputs": [],
   "source": [
    "def train_model(model, num_epoch):\n",
    "    # Напишите код здесьnum_epoch = 10\n",
    "    losses = []\n",
    "    perplexitys = []\n",
    "\n",
    "    for epoch in range(num_epoch):\n",
    "        epoch_losses = []\n",
    "        model.train()\n",
    "        for batch in tqdm(train_dataloader, desc=f'Training epoch {epoch}:'):\n",
    "            optimizer.zero_grad()\n",
    "            logits = model(batch['input_ids'].cuda()).flatten(start_dim=0, end_dim=1)\n",
    "            loss = criterion(logits, batch['target_ids'].flatten())\n",
    "            loss.backward()\n",
    "            optimizer.step()\n",
    "\n",
    "            epoch_losses.append(loss.item())\n",
    "\n",
    "        loss_value = sum(epoch_losses) / len(epoch_losses)\n",
    "        perplexity = (evaluate(model, criterion, eval_dataloader))\n",
    "        print(f\"Epoch {epoch}: Loss={loss_value}, perplexity={perplexity}\\n\")\n",
    "        \n",
    "        losses.append(loss_value)\n",
    "        perplexitys.append(perplexity)\n",
    "\n",
    "        if epoch % 3 == 0 and epoch != 0:\n",
    "            scheduler.step()\n",
    "        \n",
    "    return model, losses, perplexitys"
   ]
  },
  {
   "cell_type": "code",
   "execution_count": 40,
   "metadata": {
    "id": "wkSE4jR1XzTg"
   },
   "outputs": [],
   "source": [
    "from torch.optim.lr_scheduler import ExponentialLR\n",
    "# Базовая модель с семинара\n",
    "class BigLanguageModel(nn.Module):\n",
    "    def __init__(self, hidden_dim: int, vocab_size: int):\n",
    "        super().__init__()\n",
    "        self.embedding = nn.Embedding(vocab_size, hidden_dim)\n",
    "        self.rnn = nn.LSTM(hidden_dim, hidden_dim, batch_first=True, num_layers=2)\n",
    "        self.linear = nn.Linear(hidden_dim, hidden_dim)\n",
    "        self.projection = nn.Linear(hidden_dim, vocab_size)\n",
    "\n",
    "        self.non_lin = nn.Tanh()\n",
    "        self.dropout = nn.Dropout(p=0.1)\n",
    "\n",
    "    def forward(self, input_batch: torch.Tensor) -> torch.Tensor:\n",
    "        embeddings = self.embedding(input_batch)  # [batch_size, seq_len, hidden_dim]\n",
    "        output, _ = self.rnn(embeddings)  # [batch_size, seq_len, hidden_dim]\n",
    "        output = self.dropout(self.linear(self.non_lin(output)))  # [batch_size, seq_len, hidden_dim]\n",
    "        projection = self.projection(self.non_lin(output))  # [batch_size, seq_len, vocab_size]\n",
    "\n",
    "        return projection\n",
    "\n",
    "model = BigLanguageModel(hidden_dim=512, vocab_size=len(vocab)).to(device)\n",
    "criterion = nn.CrossEntropyLoss(ignore_index=word2ind['<pad>'])\n",
    "optimizer = torch.optim.Adam(model.parameters())\n",
    "scheduler = ExponentialLR(optimizer, gamma=0.1)"
   ]
  },
  {
   "cell_type": "code",
   "execution_count": 41,
   "metadata": {},
   "outputs": [
    {
     "data": {
      "application/vnd.jupyter.widget-view+json": {
       "model_id": "3c3a619b782b4046b8a009ec6be83144",
       "version_major": 2,
       "version_minor": 0
      },
      "text/plain": [
       "Training epoch 0::   0%|          | 0/2453 [00:00<?, ?it/s]"
      ]
     },
     "metadata": {},
     "output_type": "display_data"
    },
    {
     "name": "stdout",
     "output_type": "stream",
     "text": [
      "Epoch 0: Loss=5.188297350844995, perplexity=110.33959548403463\n",
      "\n"
     ]
    },
    {
     "data": {
      "application/vnd.jupyter.widget-view+json": {
       "model_id": "4f3fe7e87f07451392f4681e06ebf9e0",
       "version_major": 2,
       "version_minor": 0
      },
      "text/plain": [
       "Training epoch 1::   0%|          | 0/2453 [00:00<?, ?it/s]"
      ]
     },
     "metadata": {},
     "output_type": "display_data"
    },
    {
     "name": "stdout",
     "output_type": "stream",
     "text": [
      "Epoch 1: Loss=4.525141913114253, perplexity=89.11775242311559\n",
      "\n"
     ]
    },
    {
     "data": {
      "application/vnd.jupyter.widget-view+json": {
       "model_id": "4289adfe2ebe4390baf4ef2797f6f0b8",
       "version_major": 2,
       "version_minor": 0
      },
      "text/plain": [
       "Training epoch 2::   0%|          | 0/2453 [00:00<?, ?it/s]"
      ]
     },
     "metadata": {},
     "output_type": "display_data"
    },
    {
     "name": "stdout",
     "output_type": "stream",
     "text": [
      "Epoch 2: Loss=4.295112487786748, perplexity=83.16336340391675\n",
      "\n"
     ]
    },
    {
     "data": {
      "application/vnd.jupyter.widget-view+json": {
       "model_id": "ee5081e476d24cfe8c08a3dfef07abfb",
       "version_major": 2,
       "version_minor": 0
      },
      "text/plain": [
       "Training epoch 3::   0%|          | 0/2453 [00:00<?, ?it/s]"
      ]
     },
     "metadata": {},
     "output_type": "display_data"
    },
    {
     "name": "stdout",
     "output_type": "stream",
     "text": [
      "Epoch 3: Loss=4.1329978096499715, perplexity=81.76748960414228\n",
      "\n"
     ]
    },
    {
     "data": {
      "application/vnd.jupyter.widget-view+json": {
       "model_id": "163d02c2794745efbec0e6dace010fde",
       "version_major": 2,
       "version_minor": 0
      },
      "text/plain": [
       "Training epoch 4::   0%|          | 0/2453 [00:00<?, ?it/s]"
      ]
     },
     "metadata": {},
     "output_type": "display_data"
    },
    {
     "name": "stdout",
     "output_type": "stream",
     "text": [
      "Epoch 4: Loss=3.9098478283048212, perplexity=78.32206180584936\n",
      "\n"
     ]
    },
    {
     "data": {
      "application/vnd.jupyter.widget-view+json": {
       "model_id": "b2bcf2c59ecd40b2b03d576ccc8e7f22",
       "version_major": 2,
       "version_minor": 0
      },
      "text/plain": [
       "Training epoch 5::   0%|          | 0/2453 [00:00<?, ?it/s]"
      ]
     },
     "metadata": {},
     "output_type": "display_data"
    },
    {
     "name": "stdout",
     "output_type": "stream",
     "text": [
      "Epoch 5: Loss=3.8629117798328982, perplexity=77.91895270580578\n",
      "\n"
     ]
    },
    {
     "data": {
      "application/vnd.jupyter.widget-view+json": {
       "model_id": "468a9b9519bb4be697949ee2e5d60fff",
       "version_major": 2,
       "version_minor": 0
      },
      "text/plain": [
       "Training epoch 6::   0%|          | 0/2453 [00:00<?, ?it/s]"
      ]
     },
     "metadata": {},
     "output_type": "display_data"
    },
    {
     "name": "stdout",
     "output_type": "stream",
     "text": [
      "Epoch 6: Loss=3.834623860088213, perplexity=77.92978758920675\n",
      "\n"
     ]
    },
    {
     "data": {
      "application/vnd.jupyter.widget-view+json": {
       "model_id": "5c6f24543191429abdee68d0373346c3",
       "version_major": 2,
       "version_minor": 0
      },
      "text/plain": [
       "Training epoch 7::   0%|          | 0/2453 [00:00<?, ?it/s]"
      ]
     },
     "metadata": {},
     "output_type": "display_data"
    },
    {
     "name": "stdout",
     "output_type": "stream",
     "text": [
      "Epoch 7: Loss=3.801389563681396, perplexity=77.36453464520483\n",
      "\n"
     ]
    },
    {
     "data": {
      "application/vnd.jupyter.widget-view+json": {
       "model_id": "b9058a00c1f741738bf191f1dda96c6a",
       "version_major": 2,
       "version_minor": 0
      },
      "text/plain": [
       "Training epoch 8::   0%|          | 0/2453 [00:00<?, ?it/s]"
      ]
     },
     "metadata": {},
     "output_type": "display_data"
    },
    {
     "name": "stdout",
     "output_type": "stream",
     "text": [
      "Epoch 8: Loss=3.794339448444415, perplexity=77.2483049448616\n",
      "\n"
     ]
    },
    {
     "data": {
      "application/vnd.jupyter.widget-view+json": {
       "model_id": "97ad9edfc1e24e9c896d90254f0f9801",
       "version_major": 2,
       "version_minor": 0
      },
      "text/plain": [
       "Training epoch 9::   0%|          | 0/2453 [00:00<?, ?it/s]"
      ]
     },
     "metadata": {},
     "output_type": "display_data"
    },
    {
     "name": "stdout",
     "output_type": "stream",
     "text": [
      "Epoch 9: Loss=3.791177488860431, perplexity=77.22160433790971\n",
      "\n"
     ]
    }
   ],
   "source": [
    "model, losses, perplexities = train_model(model, 10)"
   ]
  },
  {
   "cell_type": "code",
   "execution_count": 42,
   "metadata": {},
   "outputs": [
    {
     "data": {
      "image/png": "[encoded data removed]",
      "text/plain": [
       "<Figure size 640x480 with 1 Axes>"
      ]
     },
     "metadata": {},
     "output_type": "display_data"
    }
   ],
   "source": [
    "plt.plot(np.arange(len(losses)), losses)\n",
    "plt.title('Losses')\n",
    "plt.xlabel(\"epoch\")\n",
    "plt.show()"
   ]
  },
  {
   "cell_type": "code",
   "execution_count": 43,
   "metadata": {},
   "outputs": [
    {
     "data": {
      "image/png": "[encoded data removed]",
      "text/plain": [
       "<Figure size 640x480 with 1 Axes>"
      ]
     },
     "metadata": {},
     "output_type": "display_data"
    }
   ],
   "source": [
    "plt.plot(np.arange(len(perplexities)), perplexities)\n",
    "plt.title('Perplexity')\n",
    "plt.xlabel(\"epoch\")\n",
    "plt.show()"
   ]
  },
  {
   "cell_type": "code",
   "execution_count": 44,
   "metadata": {},
   "outputs": [
    {
     "name": "stdout",
     "output_type": "stream",
     "text": [
      "Generated Sentence: this film is so bad it 's funny .\n"
     ]
    }
   ],
   "source": [
    "initial_words = ['<bos>', 'this', 'film', 'is', 'so']\n",
    "generated_sentence = generate_sentence(model, initial_words)\n",
    "print(\"Generated Sentence:\", generated_sentence)"
   ]
  },
  {
   "cell_type": "code",
   "execution_count": 45,
   "metadata": {},
   "outputs": [
    {
     "name": "stdout",
     "output_type": "stream",
     "text": [
      "Generated Sentence: i dont know what I 'm saying , but I do n't think I 've ever seen a movie that is so bad .\n"
     ]
    }
   ],
   "source": [
    "initial_words = ['<bos>', 'i', 'dont']\n",
    "generated_sentence = generate_sentence(model, initial_words)\n",
    "print(\"Generated Sentence:\", generated_sentence)"
   ]
  },
  {
   "cell_type": "markdown",
   "metadata": {
    "id": "Y5V9H3eoFeAu"
   },
   "source": [
    "### Отчет (2 балла)\n",
    "\n",
    "Опишите проведенные эксперименты. Сравните перплексии полученных моделей. Предложите идеи по улучшению качества моделей."
   ]
  },
  {
   "cell_type": "markdown",
   "metadata": {
    "id": "M2GCDVeeF8LP"
   },
   "source": [
    "Сравнивая две модели, можно сказать следующее:\n",
    "1) Увеличение слоев RNN уменьшает перплексию\n",
    "2) Увеличение размерности скрытого пространства также уменьшает перплексию\n",
    "3) Увеличение количества эпох не сильно влияет на перплексию модели, может возникануть обратная ситуация, когда происходит переобучение модели\n",
    "\n",
    "Чтобы модель улучшила свои показатели, возможно, стоит поработать с словарем и сделать более умную предобработку данных."
   ]
  }
 ],
 "metadata": {
  "accelerator": "GPU",
  "colab": {
   "gpuType": "T4",
   "provenance": []
  },
  "kernelspec": {
   "display_name": "Python 3 (ipykernel)",
   "language": "python",
   "name": "python3"
  },
  "language_info": {
   "codemirror_mode": {
    "name": "ipython",
    "version": 3
   },
   "file_extension": ".py",
   "mimetype": "text/x-python",
   "name": "python",
   "nbconvert_exporter": "python",
   "pygments_lexer": "ipython3",
   "version": "3.11.10"
  },
  "widgets": {
   "application/vnd.jupyter.widget-state+json": {
    "state": {
     "000c05b6369541198d1436fac52aaeae": {
      "model_module": "@jupyter-widgets/base",
      "model_module_version": "2.0.0",
      "model_name": "LayoutModel",
      "state": {}
     },
     "0181c39a87cc4c72a26d5a2a41af3f92": {
      "model_module": "@jupyter-widgets/base",
      "model_module_version": "2.0.0",
      "model_name": "LayoutModel",
      "state": {}
     },
     "018fcc75f0fe49818defa570b81bfc97": {
      "model_module": "@jupyter-widgets/base",
      "model_module_version": "2.0.0",
      "model_name": "LayoutModel",
      "state": {}
     },
     "024fede30ea942c094b3edbb45d20197": {
      "model_module": "@jupyter-widgets/controls",
      "model_module_version": "2.0.0",
      "model_name": "FloatProgressModel",
      "state": {
       "bar_style": "success",
       "layout": "IPY_MODEL_08625f9d512740e59a345971e860ecff",
       "max": 2453,
       "style": "IPY_MODEL_1e4d84e178364bff976e7a8b564e08e3",
       "value": 2453
      }
     },
     "03d3c354b2404e85af31fc6f2616f0b0": {
      "model_module": "@jupyter-widgets/controls",
      "model_module_version": "2.0.0",
      "model_name": "FloatProgressModel",
      "state": {
       "bar_style": "success",
       "layout": "IPY_MODEL_dc52113a754847f0a072068eedecd9d9",
       "max": 2453,
       "style": "IPY_MODEL_a93042d710814cf19be27eae83d891ff",
       "value": 2453
      }
     },
     "05c5eb8e0acd45ee87ccc699d4a17c55": {
      "model_module": "@jupyter-widgets/base",
      "model_module_version": "2.0.0",
      "model_name": "LayoutModel",
      "state": {}
     },
     "05d9753eefe14c38a997bb2cff5fabbd": {
      "model_module": "@jupyter-widgets/controls",
      "model_module_version": "2.0.0",
      "model_name": "HTMLStyleModel",
      "state": {
       "description_width": "",
       "font_size": null,
       "text_color": null
      }
     },
     "05e267b5f9bb468f91f2ff59c3458233": {
      "model_module": "@jupyter-widgets/base",
      "model_module_version": "2.0.0",
      "model_name": "LayoutModel",
      "state": {}
     },
     "060ceda14732406fb8a84c862aebe699": {
      "model_module": "@jupyter-widgets/controls",
      "model_module_version": "2.0.0",
      "model_name": "HTMLModel",
      "state": {
       "layout": "IPY_MODEL_a13a45968aca4011b43966172827dc63",
       "style": "IPY_MODEL_565fb086623b4b6e915b276a8ac11e19",
       "value": "Training epoch 3:: 100%"
      }
     },
     "072bad4ffa2e475cadd594df08f8c52c": {
      "model_module": "@jupyter-widgets/controls",
      "model_module_version": "2.0.0",
      "model_name": "ProgressStyleModel",
      "state": {
       "description_width": ""
      }
     },
     "08625f9d512740e59a345971e860ecff": {
      "model_module": "@jupyter-widgets/base",
      "model_module_version": "2.0.0",
      "model_name": "LayoutModel",
      "state": {}
     },
     "08f1f093829a44849e93ab972591e3be": {
      "model_module": "@jupyter-widgets/base",
      "model_module_version": "2.0.0",
      "model_name": "LayoutModel",
      "state": {}
     },
     "0959433a90a24717954fc2d2d220aa4f": {
      "model_module": "@jupyter-widgets/controls",
      "model_module_version": "2.0.0",
      "model_name": "FloatProgressModel",
      "state": {
       "bar_style": "success",
       "layout": "IPY_MODEL_a0f187136e1f410e87b568b1dd20ce98",
       "max": 2453,
       "style": "IPY_MODEL_68743254efaf458eb504f0f3397aab5d",
       "value": 2453
      }
     },
     "0b98691448e8444c8fd7a8b853291c97": {
      "model_module": "@jupyter-widgets/base",
      "model_module_version": "2.0.0",
      "model_name": "LayoutModel",
      "state": {}
     },
     "0c0eeee9ff0247e8b691f6e62e599083": {
      "model_module": "@jupyter-widgets/controls",
      "model_module_version": "2.0.0",
      "model_name": "HBoxModel",
      "state": {
       "children": [
        "IPY_MODEL_1c26007a9d8d4443903899ebfeaaf750",
        "IPY_MODEL_8946210183ea4194be7155dd22848fc8",
        "IPY_MODEL_c00b46dbb83f4d98b4f3db8004173aca"
       ],
       "layout": "IPY_MODEL_233a7a4131ba41a6b06a7d25c68fee37"
      }
     },
     "0c1da652439f4e73ad34de6c91c19084": {
      "model_module": "@jupyter-widgets/controls",
      "model_module_version": "2.0.0",
      "model_name": "FloatProgressModel",
      "state": {
       "bar_style": "success",
       "layout": "IPY_MODEL_89a21e11189d4812a908382c7f480610",
       "max": 2453,
       "style": "IPY_MODEL_2ae7d2460f0d485eba8dc1eabc1adcdd",
       "value": 2453
      }
     },
     "0c605d5bbaa749ec83fe679df7a63300": {
      "model_module": "@jupyter-widgets/base",
      "model_module_version": "2.0.0",
      "model_name": "LayoutModel",
      "state": {}
     },
     "0d87706d7af04ba4b1143d3bda0dbf8d": {
      "model_module": "@jupyter-widgets/base",
      "model_module_version": "2.0.0",
      "model_name": "LayoutModel",
      "state": {}
     },
     "0e720f637e3448d899357b31370afc9a": {
      "model_module": "@jupyter-widgets/base",
      "model_module_version": "2.0.0",
      "model_name": "LayoutModel",
      "state": {}
     },
     "11f2e92d4f54400293a7831212b7c03c": {
      "model_module": "@jupyter-widgets/base",
      "model_module_version": "2.0.0",
      "model_name": "LayoutModel",
      "state": {}
     },
     "1222cdd09cbd4e16af61f667b9a65c9a": {
      "model_module": "@jupyter-widgets/controls",
      "model_module_version": "2.0.0",
      "model_name": "HTMLModel",
      "state": {
       "layout": "IPY_MODEL_eeadb80c7b63443fa5b7ff528f913b81",
       "style": "IPY_MODEL_aee98080065d4883ba343e64fafa7294",
       "value": " 2453/2453 [01:40&lt;00:00, 24.37it/s]"
      }
     },
     "1313a42798474c3387c9f479e48408cd": {
      "model_module": "@jupyter-widgets/controls",
      "model_module_version": "2.0.0",
      "model_name": "ProgressStyleModel",
      "state": {
       "description_width": ""
      }
     },
     "151114aade674ed5b000691c13954a1f": {
      "model_module": "@jupyter-widgets/base",
      "model_module_version": "2.0.0",
      "model_name": "LayoutModel",
      "state": {}
     },
     "15f5455722d74f97966db27519691aa0": {
      "model_module": "@jupyter-widgets/controls",
      "model_module_version": "2.0.0",
      "model_name": "HTMLStyleModel",
      "state": {
       "description_width": "",
       "font_size": null,
       "text_color": null
      }
     },
     "163d02c2794745efbec0e6dace010fde": {
      "model_module": "@jupyter-widgets/controls",
      "model_module_version": "2.0.0",
      "model_name": "HBoxModel",
      "state": {
       "children": [
        "IPY_MODEL_222d565fc6834727b480ab3fbb101ce3",
        "IPY_MODEL_a554898cb9854bf19f4ac69361b7be65",
        "IPY_MODEL_88637bd058394ecaba6f2c7d6197b624"
       ],
       "layout": "IPY_MODEL_7df9b2c6fd3e46a5ae966a5a263fbb56"
      }
     },
     "17162601da284169bbd1c7095e7d46ac": {
      "model_module": "@jupyter-widgets/controls",
      "model_module_version": "2.0.0",
      "model_name": "HTMLModel",
      "state": {
       "layout": "IPY_MODEL_7b7abd840c534b9bb38a26b1778b89c6",
       "style": "IPY_MODEL_bf636daa84fb4e52823dee9eeefd2929",
       "value": "Training epoch 2:: 100%"
      }
     },
     "18b209aa3025457895499a34345ff05d": {
      "model_module": "@jupyter-widgets/controls",
      "model_module_version": "2.0.0",
      "model_name": "HTMLModel",
      "state": {
       "layout": "IPY_MODEL_803e9856fa134df48e6f27794f544b04",
       "style": "IPY_MODEL_bbcfc82666904cc4a44fe3affb1c92e7",
       "value": "Training epoch 9:: 100%"
      }
     },
     "18e5af5130c44f3294840d0c8e07c520": {
      "model_module": "@jupyter-widgets/controls",
      "model_module_version": "2.0.0",
      "model_name": "FloatProgressModel",
      "state": {
       "bar_style": "success",
       "layout": "IPY_MODEL_a037a4b7f7c4442ca02a4524a0aba1b4",
       "max": 2453,
       "style": "IPY_MODEL_e71881d5102b4098b452d256f61579eb",
       "value": 2453
      }
     },
     "1ae5523383524628bcc648388279a42b": {
      "model_module": "@jupyter-widgets/controls",
      "model_module_version": "2.0.0",
      "model_name": "HTMLStyleModel",
      "state": {
       "description_width": "",
       "font_size": null,
       "text_color": null
      }
     },
     "1b81df3898b141588a4d47da95860b88": {
      "model_module": "@jupyter-widgets/controls",
      "model_module_version": "2.0.0",
      "model_name": "HTMLStyleModel",
      "state": {
       "description_width": "",
       "font_size": null,
       "text_color": null
      }
     },
     "1c26007a9d8d4443903899ebfeaaf750": {
      "model_module": "@jupyter-widgets/controls",
      "model_module_version": "2.0.0",
      "model_name": "HTMLModel",
      "state": {
       "layout": "IPY_MODEL_a1985bf27c064dedbed7a76af6c02a5b",
       "style": "IPY_MODEL_bc57fd4b9372427d887e4e810d9e2ffa",
       "value": "Training epoch 2:: 100%"
      }
     },
     "1c4d380eccdc413398bfe0414894f116": {
      "model_module": "@jupyter-widgets/controls",
      "model_module_version": "2.0.0",
      "model_name": "ProgressStyleModel",
      "state": {
       "description_width": ""
      }
     },
     "1c6caacd423d460396aa71a75920575d": {
      "model_module": "@jupyter-widgets/base",
      "model_module_version": "2.0.0",
      "model_name": "LayoutModel",
      "state": {}
     },
     "1d213ff270c4467eb36d3353330fb154": {
      "model_module": "@jupyter-widgets/controls",
      "model_module_version": "2.0.0",
      "model_name": "HTMLModel",
      "state": {
       "layout": "IPY_MODEL_3ad8fdaaa7ed4171b015e291df9794b6",
       "style": "IPY_MODEL_4f4157b09dbb4d089c69d0293fc4b8c7",
       "value": "Training epoch 0:: 100%"
      }
     },
     "1d41a6c28ea74fd6b5e2fa4a967ba02c": {
      "model_module": "@jupyter-widgets/controls",
      "model_module_version": "2.0.0",
      "model_name": "HTMLStyleModel",
      "state": {
       "description_width": "",
       "font_size": null,
       "text_color": null
      }
     },
     "1dba44a5a5f34d308a1abc9d81e56827": {
      "model_module": "@jupyter-widgets/controls",
      "model_module_version": "2.0.0",
      "model_name": "HTMLStyleModel",
      "state": {
       "description_width": "",
       "font_size": null,
       "text_color": null
      }
     },
     "1e4d84e178364bff976e7a8b564e08e3": {
      "model_module": "@jupyter-widgets/controls",
      "model_module_version": "2.0.0",
      "model_name": "ProgressStyleModel",
      "state": {
       "description_width": ""
      }
     },
     "1eaea7bdd1514c4e800e3e80e7f99fa1": {
      "model_module": "@jupyter-widgets/controls",
      "model_module_version": "2.0.0",
      "model_name": "FloatProgressModel",
      "state": {
       "bar_style": "success",
       "layout": "IPY_MODEL_aedb8546eac34ebfbba511f0aff88c30",
       "max": 2453,
       "style": "IPY_MODEL_e81e39111d4847a6be0ae48f11a922d1",
       "value": 2453
      }
     },
     "1f9c578de5d848f7ab5ecc5d216f8371": {
      "model_module": "@jupyter-widgets/base",
      "model_module_version": "2.0.0",
      "model_name": "LayoutModel",
      "state": {}
     },
     "21b084c6801944dcbe209c96b354b8b4": {
      "model_module": "@jupyter-widgets/controls",
      "model_module_version": "2.0.0",
      "model_name": "ProgressStyleModel",
      "state": {
       "description_width": ""
      }
     },
     "222d565fc6834727b480ab3fbb101ce3": {
      "model_module": "@jupyter-widgets/controls",
      "model_module_version": "2.0.0",
      "model_name": "HTMLModel",
      "state": {
       "layout": "IPY_MODEL_64e583189417413f9286d3d24a8befe3",
       "style": "IPY_MODEL_98a4a60d180d475e8ba86c595f3de6f9",
       "value": "Training epoch 4:: 100%"
      }
     },
     "2283cb99cfed46839249425b56de4523": {
      "model_module": "@jupyter-widgets/controls",
      "model_module_version": "2.0.0",
      "model_name": "HTMLStyleModel",
      "state": {
       "description_width": "",
       "font_size": null,
       "text_color": null
      }
     },
     "233a7a4131ba41a6b06a7d25c68fee37": {
      "model_module": "@jupyter-widgets/base",
      "model_module_version": "2.0.0",
      "model_name": "LayoutModel",
      "state": {}
     },
     "23f7e1cb4b1d4be2b558ca9ea16c7fda": {
      "model_module": "@jupyter-widgets/controls",
      "model_module_version": "2.0.0",
      "model_name": "HBoxModel",
      "state": {
       "children": [
        "IPY_MODEL_7fe6eff785334a3692fee901709f531e",
        "IPY_MODEL_d0fdd4da523e40a3ba70b94fea71a762",
        "IPY_MODEL_bd656ac60895453fae1ac7fc85680e17"
       ],
       "layout": "IPY_MODEL_45c00f09ae3d4a5b94c0d277974cd4fd"
      }
     },
     "251afb3edf0f47039e773ff8ef39030c": {
      "model_module": "@jupyter-widgets/base",
      "model_module_version": "2.0.0",
      "model_name": "LayoutModel",
      "state": {}
     },
     "26896f26fa534b1ca83c0f7985ef01dd": {
      "model_module": "@jupyter-widgets/controls",
      "model_module_version": "2.0.0",
      "model_name": "HTMLStyleModel",
      "state": {
       "description_width": "",
       "font_size": null,
       "text_color": null
      }
     },
     "2695c9fa4ae24746b13741a42a6978bf": {
      "model_module": "@jupyter-widgets/controls",
      "model_module_version": "2.0.0",
      "model_name": "ProgressStyleModel",
      "state": {
       "description_width": ""
      }
     },
     "27b87ef8635e45d38b0dfbc4e07d9405": {
      "model_module": "@jupyter-widgets/controls",
      "model_module_version": "2.0.0",
      "model_name": "HTMLModel",
      "state": {
       "layout": "IPY_MODEL_866acf9d06c34e818b286a223db566ff",
       "style": "IPY_MODEL_38f28eabfece440ba4035dba3992f792",
       "value": " 2453/2453 [01:43&lt;00:00, 24.49it/s]"
      }
     },
     "2abac593823241af884e5c1f922a0218": {
      "model_module": "@jupyter-widgets/controls",
      "model_module_version": "2.0.0",
      "model_name": "FloatProgressModel",
      "state": {
       "bar_style": "success",
       "layout": "IPY_MODEL_3d899b66205143f9bd7a9558457354ff",
       "max": 2453,
       "style": "IPY_MODEL_ea6df208b728453f85913f37733d9bab",
       "value": 2453
      }
     },
     "2adce35b4fea41859330dc2c73ce9abc": {
      "model_module": "@jupyter-widgets/controls",
      "model_module_version": "2.0.0",
      "model_name": "ProgressStyleModel",
      "state": {
       "description_width": ""
      }
     },
     "2ae7d2460f0d485eba8dc1eabc1adcdd": {
      "model_module": "@jupyter-widgets/controls",
      "model_module_version": "2.0.0",
      "model_name": "ProgressStyleModel",
      "state": {
       "description_width": ""
      }
     },
     "2b32936863e549198fc1ccf01686a524": {
      "model_module": "@jupyter-widgets/base",
      "model_module_version": "2.0.0",
      "model_name": "LayoutModel",
      "state": {}
     },
     "2ba2d0f9721b49ab9cc3ff25efd5f4d1": {
      "model_module": "@jupyter-widgets/controls",
      "model_module_version": "2.0.0",
      "model_name": "FloatProgressModel",
      "state": {
       "bar_style": "success",
       "layout": "IPY_MODEL_c084e52fe4bf4b649535c873ae710547",
       "max": 2453,
       "style": "IPY_MODEL_1313a42798474c3387c9f479e48408cd",
       "value": 2453
      }
     },
     "2c15cd849b95429e8154ec7dafcd5608": {
      "model_module": "@jupyter-widgets/controls",
      "model_module_version": "2.0.0",
      "model_name": "HTMLModel",
      "state": {
       "layout": "IPY_MODEL_8b5dce86add748c38976e5fa67ba7dfa",
       "style": "IPY_MODEL_98e0b0bdfefe44b28445f5e919a90746",
       "value": " 2453/2453 [01:07&lt;00:00, 36.34it/s]"
      }
     },
     "2c3d711303f245f1b14dde4765ed5db4": {
      "model_module": "@jupyter-widgets/controls",
      "model_module_version": "2.0.0",
      "model_name": "HTMLStyleModel",
      "state": {
       "description_width": "",
       "font_size": null,
       "text_color": null
      }
     },
     "2c4a89ae606b4345b4592d0d5fb9b897": {
      "model_module": "@jupyter-widgets/controls",
      "model_module_version": "2.0.0",
      "model_name": "HTMLStyleModel",
      "state": {
       "description_width": "",
       "font_size": null,
       "text_color": null
      }
     },
     "2d0426f32afb4bdc8d2642a50e8dfdc6": {
      "model_module": "@jupyter-widgets/controls",
      "model_module_version": "2.0.0",
      "model_name": "HTMLStyleModel",
      "state": {
       "description_width": "",
       "font_size": null,
       "text_color": null
      }
     },
     "2d3a5f3669184e769319a209014e838a": {
      "model_module": "@jupyter-widgets/base",
      "model_module_version": "2.0.0",
      "model_name": "LayoutModel",
      "state": {}
     },
     "31243d70595e406c98fde101a35fdc2a": {
      "model_module": "@jupyter-widgets/controls",
      "model_module_version": "2.0.0",
      "model_name": "HBoxModel",
      "state": {
       "children": [
        "IPY_MODEL_8f757cbd839e459bb1930592172abe65",
        "IPY_MODEL_bc566fd9b030409dbdeea7dbd872f38a",
        "IPY_MODEL_77cf8704b0414e72a64e37908ea1ef4a"
       ],
       "layout": "IPY_MODEL_f5cc81d87de2473495f134749380bdb8"
      }
     },
     "31501ec3e28642399a3b598319a6d64a": {
      "model_module": "@jupyter-widgets/controls",
      "model_module_version": "2.0.0",
      "model_name": "HBoxModel",
      "state": {
       "children": [
        "IPY_MODEL_f7cdab52ae1444d7a5a8f66a32e60057",
        "IPY_MODEL_71ecc174a592469b8f7599b0c32e14b2",
        "IPY_MODEL_5ad59415e7eb41f1b66517574693a788"
       ],
       "layout": "IPY_MODEL_4c0bb800ad1742b39aa89f1a6181a64e"
      }
     },
     "316583358b2a4b43bb4ac31daea6124a": {
      "model_module": "@jupyter-widgets/controls",
      "model_module_version": "2.0.0",
      "model_name": "FloatProgressModel",
      "state": {
       "bar_style": "success",
       "layout": "IPY_MODEL_dc495af5f08d4e9ca98bd088f7b88292",
       "max": 2453,
       "style": "IPY_MODEL_dd79d872c2ad4e0cbfce2d0fe716fc2a",
       "value": 2453
      }
     },
     "3232f50de55c48b88c3f9c7d4e3098e5": {
      "model_module": "@jupyter-widgets/controls",
      "model_module_version": "2.0.0",
      "model_name": "HTMLStyleModel",
      "state": {
       "description_width": "",
       "font_size": null,
       "text_color": null
      }
     },
     "34040ce2e486487e87fe4929b12120b1": {
      "model_module": "@jupyter-widgets/controls",
      "model_module_version": "2.0.0",
      "model_name": "HTMLModel",
      "state": {
       "layout": "IPY_MODEL_ab4d10ab2f2a41d580e6efab79d7d5b2",
       "style": "IPY_MODEL_1d41a6c28ea74fd6b5e2fa4a967ba02c",
       "value": " 2453/2453 [01:40&lt;00:00, 24.23it/s]"
      }
     },
     "35131c17196247b6834ea97b9a6ceaed": {
      "model_module": "@jupyter-widgets/controls",
      "model_module_version": "2.0.0",
      "model_name": "HBoxModel",
      "state": {
       "children": [
        "IPY_MODEL_3f72059e6eb243eb994f87aec8c2ca5a",
        "IPY_MODEL_024fede30ea942c094b3edbb45d20197",
        "IPY_MODEL_d7373a437f1d411980881e6c8c5a4c4f"
       ],
       "layout": "IPY_MODEL_b2893c777af148e0b6a41d60423f409b"
      }
     },
     "356c2c8f7f70498298eb41c0a8900313": {
      "model_module": "@jupyter-widgets/controls",
      "model_module_version": "2.0.0",
      "model_name": "HTMLModel",
      "state": {
       "layout": "IPY_MODEL_458d075b839d4d27939c2cb5f9e96cbb",
       "style": "IPY_MODEL_6ece06b171cb4185b19aec8199c7d8fe",
       "value": "Training epoch 5:: 100%"
      }
     },
     "366ee5b252624cd194236233166eb1d7": {
      "model_module": "@jupyter-widgets/base",
      "model_module_version": "2.0.0",
      "model_name": "LayoutModel",
      "state": {}
     },
     "37912fc6e12c48e3a135b37159b5c6ba": {
      "model_module": "@jupyter-widgets/controls",
      "model_module_version": "2.0.0",
      "model_name": "HTMLModel",
      "state": {
       "layout": "IPY_MODEL_e83ebb0e75b54df4a49b52306cce484b",
       "style": "IPY_MODEL_1dba44a5a5f34d308a1abc9d81e56827",
       "value": " 2453/2453 [01:40&lt;00:00, 24.23it/s]"
      }
     },
     "38302797eed8485db18730be63dba1a0": {
      "model_module": "@jupyter-widgets/controls",
      "model_module_version": "2.0.0",
      "model_name": "HBoxModel",
      "state": {
       "children": [
        "IPY_MODEL_060ceda14732406fb8a84c862aebe699",
        "IPY_MODEL_2abac593823241af884e5c1f922a0218",
        "IPY_MODEL_37912fc6e12c48e3a135b37159b5c6ba"
       ],
       "layout": "IPY_MODEL_664a05691d734bc2a584fa487df25c2e"
      }
     },
     "38b8bd422c9147dab738eb07f8e28118": {
      "model_module": "@jupyter-widgets/base",
      "model_module_version": "2.0.0",
      "model_name": "LayoutModel",
      "state": {}
     },
     "38cf4cc29f5b4a21a009a55d3ace7857": {
      "model_module": "@jupyter-widgets/base",
      "model_module_version": "2.0.0",
      "model_name": "LayoutModel",
      "state": {}
     },
     "38f28eabfece440ba4035dba3992f792": {
      "model_module": "@jupyter-widgets/controls",
      "model_module_version": "2.0.0",
      "model_name": "HTMLStyleModel",
      "state": {
       "description_width": "",
       "font_size": null,
       "text_color": null
      }
     },
     "3a8d2875f03d4e749f6083171bb69646": {
      "model_module": "@jupyter-widgets/base",
      "model_module_version": "2.0.0",
      "model_name": "LayoutModel",
      "state": {}
     },
     "3ad8fdaaa7ed4171b015e291df9794b6": {
      "model_module": "@jupyter-widgets/base",
      "model_module_version": "2.0.0",
      "model_name": "LayoutModel",
      "state": {}
     },
     "3c3a619b782b4046b8a009ec6be83144": {
      "model_module": "@jupyter-widgets/controls",
      "model_module_version": "2.0.0",
      "model_name": "HBoxModel",
      "state": {
       "children": [
        "IPY_MODEL_1d213ff270c4467eb36d3353330fb154",
        "IPY_MODEL_a43bf435572d403e8a0ced48b5ce5044",
        "IPY_MODEL_87a3e7d31ca04c4c8cb22481d7332258"
       ],
       "layout": "IPY_MODEL_65d097b822684e14861e63d39db3836b"
      }
     },
     "3c3e3a825c43494ea5b0b523d2f80689": {
      "model_module": "@jupyter-widgets/controls",
      "model_module_version": "2.0.0",
      "model_name": "ProgressStyleModel",
      "state": {
       "description_width": ""
      }
     },
     "3caa9d583f5f42ca8871a1c7ad09900a": {
      "model_module": "@jupyter-widgets/controls",
      "model_module_version": "2.0.0",
      "model_name": "HTMLStyleModel",
      "state": {
       "description_width": "",
       "font_size": null,
       "text_color": null
      }
     },
     "3d04a6e7f5ad471bbc46e4724f3890ed": {
      "model_module": "@jupyter-widgets/base",
      "model_module_version": "2.0.0",
      "model_name": "LayoutModel",
      "state": {}
     },
     "3d899b66205143f9bd7a9558457354ff": {
      "model_module": "@jupyter-widgets/base",
      "model_module_version": "2.0.0",
      "model_name": "LayoutModel",
      "state": {}
     },
     "3eb03bb931be4d138d4677625cc970e4": {
      "model_module": "@jupyter-widgets/controls",
      "model_module_version": "2.0.0",
      "model_name": "HBoxModel",
      "state": {
       "children": [
        "IPY_MODEL_c3ada4163b8f47e682ce514f471e011b",
        "IPY_MODEL_0959433a90a24717954fc2d2d220aa4f",
        "IPY_MODEL_9c0e6adc0d1a41bbba8a18f87a0a1d2e"
       ],
       "layout": "IPY_MODEL_05e267b5f9bb468f91f2ff59c3458233"
      }
     },
     "3f72059e6eb243eb994f87aec8c2ca5a": {
      "model_module": "@jupyter-widgets/controls",
      "model_module_version": "2.0.0",
      "model_name": "HTMLModel",
      "state": {
       "layout": "IPY_MODEL_38cf4cc29f5b4a21a009a55d3ace7857",
       "style": "IPY_MODEL_c13954c429744628aee7e33f7e09a6bb",
       "value": "Training epoch 9:: 100%"
      }
     },
     "406a6ba9aece4f4d8f1b589288f48ab6": {
      "model_module": "@jupyter-widgets/base",
      "model_module_version": "2.0.0",
      "model_name": "LayoutModel",
      "state": {}
     },
     "41ac313510fe4fa1b8a0dd614b37e7f9": {
      "model_module": "@jupyter-widgets/base",
      "model_module_version": "2.0.0",
      "model_name": "LayoutModel",
      "state": {}
     },
     "427953c33dae48758338b0753d65aad2": {
      "model_module": "@jupyter-widgets/controls",
      "model_module_version": "2.0.0",
      "model_name": "HTMLModel",
      "state": {
       "layout": "IPY_MODEL_0d87706d7af04ba4b1143d3bda0dbf8d",
       "style": "IPY_MODEL_5b516fe4588549eca12e039454955b40",
       "value": "Training epoch 4:: 100%"
      }
     },
     "4289adfe2ebe4390baf4ef2797f6f0b8": {
      "model_module": "@jupyter-widgets/controls",
      "model_module_version": "2.0.0",
      "model_name": "HBoxModel",
      "state": {
       "children": [
        "IPY_MODEL_17162601da284169bbd1c7095e7d46ac",
        "IPY_MODEL_96214d98521c45f1aa95dc4f99e6a899",
        "IPY_MODEL_483359b9d94249489bfdedececbe2c3a"
       ],
       "layout": "IPY_MODEL_05c5eb8e0acd45ee87ccc699d4a17c55"
      }
     },
     "428e3cf450944b24a8c523cc9586d8ad": {
      "model_module": "@jupyter-widgets/base",
      "model_module_version": "2.0.0",
      "model_name": "LayoutModel",
      "state": {}
     },
     "430f75bc11ba42a698bb623b907d44ed": {
      "model_module": "@jupyter-widgets/base",
      "model_module_version": "2.0.0",
      "model_name": "LayoutModel",
      "state": {}
     },
     "43aeab736258437181e6ea827a8ca69b": {
      "model_module": "@jupyter-widgets/controls",
      "model_module_version": "2.0.0",
      "model_name": "HTMLStyleModel",
      "state": {
       "description_width": "",
       "font_size": null,
       "text_color": null
      }
     },
     "43c4c7d72db14ce6bd581a514f1832d5": {
      "model_module": "@jupyter-widgets/controls",
      "model_module_version": "2.0.0",
      "model_name": "ProgressStyleModel",
      "state": {
       "description_width": ""
      }
     },
     "43fa3cf3dfa54b3eae08fdad1087518d": {
      "model_module": "@jupyter-widgets/base",
      "model_module_version": "2.0.0",
      "model_name": "LayoutModel",
      "state": {}
     },
     "456163129c01496f87f78dec0865b6f2": {
      "model_module": "@jupyter-widgets/base",
      "model_module_version": "2.0.0",
      "model_name": "LayoutModel",
      "state": {}
     },
     "458d075b839d4d27939c2cb5f9e96cbb": {
      "model_module": "@jupyter-widgets/base",
      "model_module_version": "2.0.0",
      "model_name": "LayoutModel",
      "state": {}
     },
     "45b3b49bab334be19a1778864cc2da38": {
      "model_module": "@jupyter-widgets/base",
      "model_module_version": "2.0.0",
      "model_name": "LayoutModel",
      "state": {}
     },
     "45c00f09ae3d4a5b94c0d277974cd4fd": {
      "model_module": "@jupyter-widgets/base",
      "model_module_version": "2.0.0",
      "model_name": "LayoutModel",
      "state": {}
     },
     "460469d785914b109c3af1cfbffd163d": {
      "model_module": "@jupyter-widgets/base",
      "model_module_version": "2.0.0",
      "model_name": "LayoutModel",
      "state": {}
     },
     "468a9b9519bb4be697949ee2e5d60fff": {
      "model_module": "@jupyter-widgets/controls",
      "model_module_version": "2.0.0",
      "model_name": "HBoxModel",
      "state": {
       "children": [
        "IPY_MODEL_84b16925afec4ce397d7ab6161718e1e",
        "IPY_MODEL_88f8bbfb2d6b4b2c870e30a7ac32cf2a",
        "IPY_MODEL_f589b8368549437dafcb000868ac7c93"
       ],
       "layout": "IPY_MODEL_a59d18dd98d64928b3770bb149381725"
      }
     },
     "483359b9d94249489bfdedececbe2c3a": {
      "model_module": "@jupyter-widgets/controls",
      "model_module_version": "2.0.0",
      "model_name": "HTMLModel",
      "state": {
       "layout": "IPY_MODEL_8780177db21a40a9b71951f4afe3d022",
       "style": "IPY_MODEL_1b81df3898b141588a4d47da95860b88",
       "value": " 2453/2453 [01:40&lt;00:00, 24.32it/s]"
      }
     },
     "487657d40ebb455a97c6f5b60c7271f6": {
      "model_module": "@jupyter-widgets/controls",
      "model_module_version": "2.0.0",
      "model_name": "HTMLStyleModel",
      "state": {
       "description_width": "",
       "font_size": null,
       "text_color": null
      }
     },
     "498f04eb601e4aa69ff9a10f7ecc9b08": {
      "model_module": "@jupyter-widgets/controls",
      "model_module_version": "2.0.0",
      "model_name": "HTMLStyleModel",
      "state": {
       "description_width": "",
       "font_size": null,
       "text_color": null
      }
     },
     "49bc45a781264a9bb60b14fc52525626": {
      "model_module": "@jupyter-widgets/base",
      "model_module_version": "2.0.0",
      "model_name": "LayoutModel",
      "state": {}
     },
     "49f03a8635bc4751abd7b34460cfad65": {
      "model_module": "@jupyter-widgets/base",
      "model_module_version": "2.0.0",
      "model_name": "LayoutModel",
      "state": {}
     },
     "4a7f4f5dbaab498d9426a526badeb50e": {
      "model_module": "@jupyter-widgets/controls",
      "model_module_version": "2.0.0",
      "model_name": "HTMLModel",
      "state": {
       "layout": "IPY_MODEL_638ec85aea0949caa5ac6066d0825b0c",
       "style": "IPY_MODEL_58044e8f279146b186cd53f0284818c7",
       "value": " 2453/2453 [01:41&lt;00:00, 24.29it/s]"
      }
     },
     "4b5fe581b2f84c248be5735ac9b29197": {
      "model_module": "@jupyter-widgets/controls",
      "model_module_version": "2.0.0",
      "model_name": "ProgressStyleModel",
      "state": {
       "description_width": ""
      }
     },
     "4c0bb800ad1742b39aa89f1a6181a64e": {
      "model_module": "@jupyter-widgets/base",
      "model_module_version": "2.0.0",
      "model_name": "LayoutModel",
      "state": {}
     },
     "4c0c1a58029e4715a57a51a8466a01cd": {
      "model_module": "@jupyter-widgets/base",
      "model_module_version": "2.0.0",
      "model_name": "LayoutModel",
      "state": {}
     },
     "4c91264198e047a2a2320b9740763c20": {
      "model_module": "@jupyter-widgets/controls",
      "model_module_version": "2.0.0",
      "model_name": "HTMLStyleModel",
      "state": {
       "description_width": "",
       "font_size": null,
       "text_color": null
      }
     },
     "4ce813c4a5c64f95a523d77430a2f60b": {
      "model_module": "@jupyter-widgets/controls",
      "model_module_version": "2.0.0",
      "model_name": "HTMLStyleModel",
      "state": {
       "description_width": "",
       "font_size": null,
       "text_color": null
      }
     },
     "4ef87c64ce494580b1d94a4875b243d4": {
      "model_module": "@jupyter-widgets/controls",
      "model_module_version": "2.0.0",
      "model_name": "HTMLStyleModel",
      "state": {
       "description_width": "",
       "font_size": null,
       "text_color": null
      }
     },
     "4f3fe7e87f07451392f4681e06ebf9e0": {
      "model_module": "@jupyter-widgets/controls",
      "model_module_version": "2.0.0",
      "model_name": "HBoxModel",
      "state": {
       "children": [
        "IPY_MODEL_e9512ed571234e7b98553e20155fc48e",
        "IPY_MODEL_7873bc090b47470e817283d4136242d4",
        "IPY_MODEL_34040ce2e486487e87fe4929b12120b1"
       ],
       "layout": "IPY_MODEL_45b3b49bab334be19a1778864cc2da38"
      }
     },
     "4f4157b09dbb4d089c69d0293fc4b8c7": {
      "model_module": "@jupyter-widgets/controls",
      "model_module_version": "2.0.0",
      "model_name": "HTMLStyleModel",
      "state": {
       "description_width": "",
       "font_size": null,
       "text_color": null
      }
     },
     "5017b66683f64044872edddd488ed80f": {
      "model_module": "@jupyter-widgets/controls",
      "model_module_version": "2.0.0",
      "model_name": "FloatProgressModel",
      "state": {
       "bar_style": "success",
       "layout": "IPY_MODEL_000c05b6369541198d1436fac52aaeae",
       "max": 2453,
       "style": "IPY_MODEL_85961af2d7194c5da52157b37cf3c32a",
       "value": 2453
      }
     },
     "524f2a5d17b54d219db5b8ea13b77d4d": {
      "model_module": "@jupyter-widgets/controls",
      "model_module_version": "2.0.0",
      "model_name": "HTMLStyleModel",
      "state": {
       "description_width": "",
       "font_size": null,
       "text_color": null
      }
     },
     "52caff4a2ee7447793fdc2baf38d6989": {
      "model_module": "@jupyter-widgets/base",
      "model_module_version": "2.0.0",
      "model_name": "LayoutModel",
      "state": {}
     },
     "53439f91aa0c4b949b1f33181b9488a8": {
      "model_module": "@jupyter-widgets/controls",
      "model_module_version": "2.0.0",
      "model_name": "HTMLStyleModel",
      "state": {
       "description_width": "",
       "font_size": null,
       "text_color": null
      }
     },
     "53d3af0d17e243c580fb511ae5a9545d": {
      "model_module": "@jupyter-widgets/controls",
      "model_module_version": "2.0.0",
      "model_name": "HBoxModel",
      "state": {
       "children": [
        "IPY_MODEL_55583212d8964c2b8eb9d9fb00fa01cc",
        "IPY_MODEL_5017b66683f64044872edddd488ed80f",
        "IPY_MODEL_b87590f584174f19af83fac537870ec1"
       ],
       "layout": "IPY_MODEL_018fcc75f0fe49818defa570b81bfc97"
      }
     },
     "55583212d8964c2b8eb9d9fb00fa01cc": {
      "model_module": "@jupyter-widgets/controls",
      "model_module_version": "2.0.0",
      "model_name": "HTMLModel",
      "state": {
       "layout": "IPY_MODEL_66c3f9c0f4c04c6d8444027e6d3a74d9",
       "style": "IPY_MODEL_4ef87c64ce494580b1d94a4875b243d4",
       "value": "Training epoch 1:: 100%"
      }
     },
     "55cc2fc106044707bee660def26cdddc": {
      "model_module": "@jupyter-widgets/controls",
      "model_module_version": "2.0.0",
      "model_name": "HTMLModel",
      "state": {
       "layout": "IPY_MODEL_be1deeb9028f4d4e8ec7fddbb108e7dd",
       "style": "IPY_MODEL_1ae5523383524628bcc648388279a42b",
       "value": "Training epoch 0:: 100%"
      }
     },
     "55e0a87255df4a7486573aac841b403c": {
      "model_module": "@jupyter-widgets/controls",
      "model_module_version": "2.0.0",
      "model_name": "HTMLStyleModel",
      "state": {
       "description_width": "",
       "font_size": null,
       "text_color": null
      }
     },
     "5606e806e79845f1bda92c18a293c424": {
      "model_module": "@jupyter-widgets/base",
      "model_module_version": "2.0.0",
      "model_name": "LayoutModel",
      "state": {}
     },
     "565fb086623b4b6e915b276a8ac11e19": {
      "model_module": "@jupyter-widgets/controls",
      "model_module_version": "2.0.0",
      "model_name": "HTMLStyleModel",
      "state": {
       "description_width": "",
       "font_size": null,
       "text_color": null
      }
     },
     "56a5ab0a3c3e4b03857a740f938f5f93": {
      "model_module": "@jupyter-widgets/controls",
      "model_module_version": "2.0.0",
      "model_name": "FloatProgressModel",
      "state": {
       "bar_style": "success",
       "layout": "IPY_MODEL_72111ebcea0a4111973b705d7f281f9c",
       "max": 2453,
       "style": "IPY_MODEL_21b084c6801944dcbe209c96b354b8b4",
       "value": 2453
      }
     },
     "58044e8f279146b186cd53f0284818c7": {
      "model_module": "@jupyter-widgets/controls",
      "model_module_version": "2.0.0",
      "model_name": "HTMLStyleModel",
      "state": {
       "description_width": "",
       "font_size": null,
       "text_color": null
      }
     },
     "5805101916e74760bea38b8bebe78960": {
      "model_module": "@jupyter-widgets/base",
      "model_module_version": "2.0.0",
      "model_name": "LayoutModel",
      "state": {}
     },
     "597d910bdbae4358b1ed9072e2f9f822": {
      "model_module": "@jupyter-widgets/controls",
      "model_module_version": "2.0.0",
      "model_name": "HTMLModel",
      "state": {
       "layout": "IPY_MODEL_41ac313510fe4fa1b8a0dd614b37e7f9",
       "style": "IPY_MODEL_15f5455722d74f97966db27519691aa0",
       "value": "Training epoch 5:: 100%"
      }
     },
     "59ecd2c973af4e439f8906331db1f635": {
      "model_module": "@jupyter-widgets/controls",
      "model_module_version": "2.0.0",
      "model_name": "HBoxModel",
      "state": {
       "children": [
        "IPY_MODEL_fe9fbe37721e4a15afe4c67074662ef8",
        "IPY_MODEL_0c1da652439f4e73ad34de6c91c19084",
        "IPY_MODEL_2c15cd849b95429e8154ec7dafcd5608"
       ],
       "layout": "IPY_MODEL_6f78bf429c0c44799a60593591d2ef0a"
      }
     },
     "5a056e6562304a919556b8240632c77d": {
      "model_module": "@jupyter-widgets/controls",
      "model_module_version": "2.0.0",
      "model_name": "HTMLModel",
      "state": {
       "layout": "IPY_MODEL_08f1f093829a44849e93ab972591e3be",
       "style": "IPY_MODEL_ed847aee5d4b44ddbae6e672ef5a305c",
       "value": "Training epoch 6:: 100%"
      }
     },
     "5ad59415e7eb41f1b66517574693a788": {
      "model_module": "@jupyter-widgets/controls",
      "model_module_version": "2.0.0",
      "model_name": "HTMLModel",
      "state": {
       "layout": "IPY_MODEL_ce069ba2910945eb9a9741fcc40a1afd",
       "style": "IPY_MODEL_b527e587e5cb4853b41801d4bf4e696f",
       "value": " 2453/2453 [01:07&lt;00:00, 36.41it/s]"
      }
     },
     "5b292763c75a4a7aa354158c98bcd6cd": {
      "model_module": "@jupyter-widgets/base",
      "model_module_version": "2.0.0",
      "model_name": "LayoutModel",
      "state": {}
     },
     "5b516fe4588549eca12e039454955b40": {
      "model_module": "@jupyter-widgets/controls",
      "model_module_version": "2.0.0",
      "model_name": "HTMLStyleModel",
      "state": {
       "description_width": "",
       "font_size": null,
       "text_color": null
      }
     },
     "5c6f24543191429abdee68d0373346c3": {
      "model_module": "@jupyter-widgets/controls",
      "model_module_version": "2.0.0",
      "model_name": "HBoxModel",
      "state": {
       "children": [
        "IPY_MODEL_6dd523230cd44ca0940070d0ec6e9617",
        "IPY_MODEL_be14f34c9f6a424ca1974f061e259fb7",
        "IPY_MODEL_84440fd09bf0489cbc071ccd77660d88"
       ],
       "layout": "IPY_MODEL_406a6ba9aece4f4d8f1b589288f48ab6"
      }
     },
     "5f6696d34bdc404e8055aea6f4c55ff0": {
      "model_module": "@jupyter-widgets/controls",
      "model_module_version": "2.0.0",
      "model_name": "HTMLStyleModel",
      "state": {
       "description_width": "",
       "font_size": null,
       "text_color": null
      }
     },
     "606467ad99f34f24b59d92b0e20335c4": {
      "model_module": "@jupyter-widgets/base",
      "model_module_version": "2.0.0",
      "model_name": "LayoutModel",
      "state": {}
     },
     "612a02dcaf58421fb760be00d867ddb2": {
      "model_module": "@jupyter-widgets/controls",
      "model_module_version": "2.0.0",
      "model_name": "HTMLStyleModel",
      "state": {
       "description_width": "",
       "font_size": null,
       "text_color": null
      }
     },
     "612e7ba3baa74587896add2a07ff56df": {
      "model_module": "@jupyter-widgets/controls",
      "model_module_version": "2.0.0",
      "model_name": "FloatProgressModel",
      "state": {
       "bar_style": "success",
       "layout": "IPY_MODEL_0c605d5bbaa749ec83fe679df7a63300",
       "max": 2453,
       "style": "IPY_MODEL_b2c3002e49a9466db8e7abae352dcf6a",
       "value": 2453
      }
     },
     "6145d2ad319c4bb6bbdc1cc47485b3fe": {
      "model_module": "@jupyter-widgets/controls",
      "model_module_version": "2.0.0",
      "model_name": "HTMLModel",
      "state": {
       "layout": "IPY_MODEL_649d05f2a92a44ad8c32b6c13f7219c0",
       "style": "IPY_MODEL_6eb5318bb2a04efcbe4e5f5680229d44",
       "value": " 2453/2453 [01:07&lt;00:00, 35.24it/s]"
      }
     },
     "62357ebaa1a34e7aab91ffaeb8a62714": {
      "model_module": "@jupyter-widgets/controls",
      "model_module_version": "2.0.0",
      "model_name": "HBoxModel",
      "state": {
       "children": [
        "IPY_MODEL_f301bfac51454508a7a745fa68e98af4",
        "IPY_MODEL_cc84a73cecb34e26a777ef6dc20dcfea",
        "IPY_MODEL_a1445efb0e1f4ebbbbeb5d877c375ec6"
       ],
       "layout": "IPY_MODEL_9d0281bd5e524b34952a90a429d7ad3e"
      }
     },
     "62f96178c69a41bb8af2b70fb65b1924": {
      "model_module": "@jupyter-widgets/base",
      "model_module_version": "2.0.0",
      "model_name": "LayoutModel",
      "state": {}
     },
     "636109cc79f7462492937d63941ed3d0": {
      "model_module": "@jupyter-widgets/controls",
      "model_module_version": "2.0.0",
      "model_name": "HBoxModel",
      "state": {
       "children": [
        "IPY_MODEL_597d910bdbae4358b1ed9072e2f9f822",
        "IPY_MODEL_ec5b43e05ed84f1796ce089eaf27b87b",
        "IPY_MODEL_a590972a0ece4535a0cfd4aef1ac2228"
       ],
       "layout": "IPY_MODEL_38b8bd422c9147dab738eb07f8e28118"
      }
     },
     "638ec85aea0949caa5ac6066d0825b0c": {
      "model_module": "@jupyter-widgets/base",
      "model_module_version": "2.0.0",
      "model_name": "LayoutModel",
      "state": {}
     },
     "63976a4ab3a74a8faef831c119c28b76": {
      "model_module": "@jupyter-widgets/base",
      "model_module_version": "2.0.0",
      "model_name": "LayoutModel",
      "state": {}
     },
     "649d05f2a92a44ad8c32b6c13f7219c0": {
      "model_module": "@jupyter-widgets/base",
      "model_module_version": "2.0.0",
      "model_name": "LayoutModel",
      "state": {}
     },
     "64e583189417413f9286d3d24a8befe3": {
      "model_module": "@jupyter-widgets/base",
      "model_module_version": "2.0.0",
      "model_name": "LayoutModel",
      "state": {}
     },
     "655511c25c73438e83ac0626d851ced3": {
      "model_module": "@jupyter-widgets/controls",
      "model_module_version": "2.0.0",
      "model_name": "HBoxModel",
      "state": {
       "children": [
        "IPY_MODEL_dea0e7958ea34d24a2a06a26b25470a4",
        "IPY_MODEL_1eaea7bdd1514c4e800e3e80e7f99fa1",
        "IPY_MODEL_f600cb27ac814100be5e4324b0cb727f"
       ],
       "layout": "IPY_MODEL_1f9c578de5d848f7ab5ecc5d216f8371"
      }
     },
     "65d097b822684e14861e63d39db3836b": {
      "model_module": "@jupyter-widgets/base",
      "model_module_version": "2.0.0",
      "model_name": "LayoutModel",
      "state": {}
     },
     "664a05691d734bc2a584fa487df25c2e": {
      "model_module": "@jupyter-widgets/base",
      "model_module_version": "2.0.0",
      "model_name": "LayoutModel",
      "state": {}
     },
     "66c3f9c0f4c04c6d8444027e6d3a74d9": {
      "model_module": "@jupyter-widgets/base",
      "model_module_version": "2.0.0",
      "model_name": "LayoutModel",
      "state": {}
     },
     "677ce5aff3394bd4978103912eb5678c": {
      "model_module": "@jupyter-widgets/controls",
      "model_module_version": "2.0.0",
      "model_name": "HTMLModel",
      "state": {
       "layout": "IPY_MODEL_6b7758e35ef444d2b2c8db629ebde054",
       "style": "IPY_MODEL_badc34eb45c24dc28f175e507106ece8",
       "value": "Training epoch 2:: 100%"
      }
     },
     "68743254efaf458eb504f0f3397aab5d": {
      "model_module": "@jupyter-widgets/controls",
      "model_module_version": "2.0.0",
      "model_name": "ProgressStyleModel",
      "state": {
       "description_width": ""
      }
     },
     "6984d83703f54186b1c634296f5272fd": {
      "model_module": "@jupyter-widgets/base",
      "model_module_version": "2.0.0",
      "model_name": "LayoutModel",
      "state": {}
     },
     "6b60a8b3dba0437cb579a00997d9a67b": {
      "model_module": "@jupyter-widgets/controls",
      "model_module_version": "2.0.0",
      "model_name": "HTMLStyleModel",
      "state": {
       "description_width": "",
       "font_size": null,
       "text_color": null
      }
     },
     "6b7758e35ef444d2b2c8db629ebde054": {
      "model_module": "@jupyter-widgets/base",
      "model_module_version": "2.0.0",
      "model_name": "LayoutModel",
      "state": {}
     },
     "6c15c9d7aea34c5db706482a1f15347e": {
      "model_module": "@jupyter-widgets/controls",
      "model_module_version": "2.0.0",
      "model_name": "HTMLStyleModel",
      "state": {
       "description_width": "",
       "font_size": null,
       "text_color": null
      }
     },
     "6cf0ffcdfc284f3dad33715e420794f0": {
      "model_module": "@jupyter-widgets/base",
      "model_module_version": "2.0.0",
      "model_name": "LayoutModel",
      "state": {}
     },
     "6d20a0e860f94723864e6cddb4bd0cac": {
      "model_module": "@jupyter-widgets/controls",
      "model_module_version": "2.0.0",
      "model_name": "HTMLStyleModel",
      "state": {
       "description_width": "",
       "font_size": null,
       "text_color": null
      }
     },
     "6dd523230cd44ca0940070d0ec6e9617": {
      "model_module": "@jupyter-widgets/controls",
      "model_module_version": "2.0.0",
      "model_name": "HTMLModel",
      "state": {
       "layout": "IPY_MODEL_94f07f4989ba4b43967cb5e3c1c442a5",
       "style": "IPY_MODEL_2c4a89ae606b4345b4592d0d5fb9b897",
       "value": "Training epoch 7:: 100%"
      }
     },
     "6eb5318bb2a04efcbe4e5f5680229d44": {
      "model_module": "@jupyter-widgets/controls",
      "model_module_version": "2.0.0",
      "model_name": "HTMLStyleModel",
      "state": {
       "description_width": "",
       "font_size": null,
       "text_color": null
      }
     },
     "6ece06b171cb4185b19aec8199c7d8fe": {
      "model_module": "@jupyter-widgets/controls",
      "model_module_version": "2.0.0",
      "model_name": "HTMLStyleModel",
      "state": {
       "description_width": "",
       "font_size": null,
       "text_color": null
      }
     },
     "6f78bf429c0c44799a60593591d2ef0a": {
      "model_module": "@jupyter-widgets/base",
      "model_module_version": "2.0.0",
      "model_name": "LayoutModel",
      "state": {}
     },
     "6fecbcf0d80f4767813494d3d7e42747": {
      "model_module": "@jupyter-widgets/controls",
      "model_module_version": "2.0.0",
      "model_name": "HTMLModel",
      "state": {
       "layout": "IPY_MODEL_b747cca7f7b14c54999c0760cd0d3105",
       "style": "IPY_MODEL_cbb26bb55fbe4b96986281e858394c19",
       "value": "Training epoch 0:: 100%"
      }
     },
     "71513c6b125d46bba12bde3dbefffd5b": {
      "model_module": "@jupyter-widgets/controls",
      "model_module_version": "2.0.0",
      "model_name": "ProgressStyleModel",
      "state": {
       "description_width": ""
      }
     },
     "7155470da47b4e808ff8e682fafd55a2": {
      "model_module": "@jupyter-widgets/controls",
      "model_module_version": "2.0.0",
      "model_name": "HTMLModel",
      "state": {
       "layout": "IPY_MODEL_251afb3edf0f47039e773ff8ef39030c",
       "style": "IPY_MODEL_498f04eb601e4aa69ff9a10f7ecc9b08",
       "value": "Training epoch 3:: 100%"
      }
     },
     "71b52b4d448d4d80b080f5aa18a46533": {
      "model_module": "@jupyter-widgets/controls",
      "model_module_version": "2.0.0",
      "model_name": "FloatProgressModel",
      "state": {
       "bar_style": "success",
       "layout": "IPY_MODEL_0b98691448e8444c8fd7a8b853291c97",
       "max": 2453,
       "style": "IPY_MODEL_2adce35b4fea41859330dc2c73ce9abc",
       "value": 2453
      }
     },
     "71ecc174a592469b8f7599b0c32e14b2": {
      "model_module": "@jupyter-widgets/controls",
      "model_module_version": "2.0.0",
      "model_name": "FloatProgressModel",
      "state": {
       "bar_style": "success",
       "layout": "IPY_MODEL_edb53ea2ab774aeda0ec12e0acb4c486",
       "max": 2453,
       "style": "IPY_MODEL_9fb4b601aedb42aeb886cf0d9e91708f",
       "value": 2453
      }
     },
     "72111ebcea0a4111973b705d7f281f9c": {
      "model_module": "@jupyter-widgets/base",
      "model_module_version": "2.0.0",
      "model_name": "LayoutModel",
      "state": {}
     },
     "73c88a03ab6d48ad83805342d2ed68f5": {
      "model_module": "@jupyter-widgets/base",
      "model_module_version": "2.0.0",
      "model_name": "LayoutModel",
      "state": {}
     },
     "73f99c95799c45cba3ef6b14ac3c9d60": {
      "model_module": "@jupyter-widgets/controls",
      "model_module_version": "2.0.0",
      "model_name": "HTMLStyleModel",
      "state": {
       "description_width": "",
       "font_size": null,
       "text_color": null
      }
     },
     "74761bfa319f4d1a93c7933536ff42ba": {
      "model_module": "@jupyter-widgets/base",
      "model_module_version": "2.0.0",
      "model_name": "LayoutModel",
      "state": {}
     },
     "752e919613a94baba4335b02da0233a5": {
      "model_module": "@jupyter-widgets/base",
      "model_module_version": "2.0.0",
      "model_name": "LayoutModel",
      "state": {}
     },
     "7622d6a06c4c43c9882a6cf76666af9a": {
      "model_module": "@jupyter-widgets/base",
      "model_module_version": "2.0.0",
      "model_name": "LayoutModel",
      "state": {}
     },
     "76c70682aae7437fa799023db97ba1de": {
      "model_module": "@jupyter-widgets/controls",
      "model_module_version": "2.0.0",
      "model_name": "HTMLStyleModel",
      "state": {
       "description_width": "",
       "font_size": null,
       "text_color": null
      }
     },
     "7729d896a6884a4986ef93b6c27889a0": {
      "model_module": "@jupyter-widgets/controls",
      "model_module_version": "2.0.0",
      "model_name": "ProgressStyleModel",
      "state": {
       "description_width": ""
      }
     },
     "77cf8704b0414e72a64e37908ea1ef4a": {
      "model_module": "@jupyter-widgets/controls",
      "model_module_version": "2.0.0",
      "model_name": "HTMLModel",
      "state": {
       "layout": "IPY_MODEL_430f75bc11ba42a698bb623b907d44ed",
       "style": "IPY_MODEL_76c70682aae7437fa799023db97ba1de",
       "value": " 2453/2453 [01:43&lt;00:00, 23.88it/s]"
      }
     },
     "787240d3de5947cdac3b34a5f09a4723": {
      "model_module": "@jupyter-widgets/controls",
      "model_module_version": "2.0.0",
      "model_name": "HTMLModel",
      "state": {
       "layout": "IPY_MODEL_86d581b1152e497e9764bd19311ba822",
       "style": "IPY_MODEL_f61934e58806445899b52045d888f6f6",
       "value": " 2453/2453 [01:07&lt;00:00, 36.52it/s]"
      }
     },
     "7873bc090b47470e817283d4136242d4": {
      "model_module": "@jupyter-widgets/controls",
      "model_module_version": "2.0.0",
      "model_name": "FloatProgressModel",
      "state": {
       "bar_style": "success",
       "layout": "IPY_MODEL_b899dbd576f2426299b2f7d9624b2d1b",
       "max": 2453,
       "style": "IPY_MODEL_43c4c7d72db14ce6bd581a514f1832d5",
       "value": 2453
      }
     },
     "7999f864260641dc897223daa8fb981d": {
      "model_module": "@jupyter-widgets/controls",
      "model_module_version": "2.0.0",
      "model_name": "HTMLStyleModel",
      "state": {
       "description_width": "",
       "font_size": null,
       "text_color": null
      }
     },
     "7b7abd840c534b9bb38a26b1778b89c6": {
      "model_module": "@jupyter-widgets/base",
      "model_module_version": "2.0.0",
      "model_name": "LayoutModel",
      "state": {}
     },
     "7dd5463f11d84b27aa495313cae69fcc": {
      "model_module": "@jupyter-widgets/controls",
      "model_module_version": "2.0.0",
      "model_name": "HTMLModel",
      "state": {
       "layout": "IPY_MODEL_62f96178c69a41bb8af2b70fb65b1924",
       "style": "IPY_MODEL_f26806053caf4ddf93079768cde5b828",
       "value": " 2453/2453 [01:07&lt;00:00, 36.07it/s]"
      }
     },
     "7df9b2c6fd3e46a5ae966a5a263fbb56": {
      "model_module": "@jupyter-widgets/base",
      "model_module_version": "2.0.0",
      "model_name": "LayoutModel",
      "state": {}
     },
     "7fe6eff785334a3692fee901709f531e": {
      "model_module": "@jupyter-widgets/controls",
      "model_module_version": "2.0.0",
      "model_name": "HTMLModel",
      "state": {
       "layout": "IPY_MODEL_e5812095f1ff4a43a3049b60f3a7a6b9",
       "style": "IPY_MODEL_43aeab736258437181e6ea827a8ca69b",
       "value": "Training epoch 9:: 100%"
      }
     },
     "803e9856fa134df48e6f27794f544b04": {
      "model_module": "@jupyter-widgets/base",
      "model_module_version": "2.0.0",
      "model_name": "LayoutModel",
      "state": {}
     },
     "80f92f34897d449a86ec1e55356f2989": {
      "model_module": "@jupyter-widgets/controls",
      "model_module_version": "2.0.0",
      "model_name": "HTMLStyleModel",
      "state": {
       "description_width": "",
       "font_size": null,
       "text_color": null
      }
     },
     "814365fbd99345e28d2a06a994046235": {
      "model_module": "@jupyter-widgets/base",
      "model_module_version": "2.0.0",
      "model_name": "LayoutModel",
      "state": {}
     },
     "822094e740454238a95aadcd4c8a0bae": {
      "model_module": "@jupyter-widgets/base",
      "model_module_version": "2.0.0",
      "model_name": "LayoutModel",
      "state": {}
     },
     "84440fd09bf0489cbc071ccd77660d88": {
      "model_module": "@jupyter-widgets/controls",
      "model_module_version": "2.0.0",
      "model_name": "HTMLModel",
      "state": {
       "layout": "IPY_MODEL_822094e740454238a95aadcd4c8a0bae",
       "style": "IPY_MODEL_73f99c95799c45cba3ef6b14ac3c9d60",
       "value": " 2453/2453 [01:40&lt;00:00, 24.28it/s]"
      }
     },
     "84b16925afec4ce397d7ab6161718e1e": {
      "model_module": "@jupyter-widgets/controls",
      "model_module_version": "2.0.0",
      "model_name": "HTMLModel",
      "state": {
       "layout": "IPY_MODEL_95a44883ae4d453998e7646a0937bf52",
       "style": "IPY_MODEL_3232f50de55c48b88c3f9c7d4e3098e5",
       "value": "Training epoch 6:: 100%"
      }
     },
     "85961af2d7194c5da52157b37cf3c32a": {
      "model_module": "@jupyter-widgets/controls",
      "model_module_version": "2.0.0",
      "model_name": "ProgressStyleModel",
      "state": {
       "description_width": ""
      }
     },
     "85ba1a6f42fd48e69abe36386a07fbe8": {
      "model_module": "@jupyter-widgets/controls",
      "model_module_version": "2.0.0",
      "model_name": "FloatProgressModel",
      "state": {
       "bar_style": "success",
       "layout": "IPY_MODEL_e346b80d924b4907aa88e689c53d6976",
       "max": 2453,
       "style": "IPY_MODEL_2695c9fa4ae24746b13741a42a6978bf",
       "value": 2453
      }
     },
     "866acf9d06c34e818b286a223db566ff": {
      "model_module": "@jupyter-widgets/base",
      "model_module_version": "2.0.0",
      "model_name": "LayoutModel",
      "state": {}
     },
     "86d581b1152e497e9764bd19311ba822": {
      "model_module": "@jupyter-widgets/base",
      "model_module_version": "2.0.0",
      "model_name": "LayoutModel",
      "state": {}
     },
     "8780177db21a40a9b71951f4afe3d022": {
      "model_module": "@jupyter-widgets/base",
      "model_module_version": "2.0.0",
      "model_name": "LayoutModel",
      "state": {}
     },
     "87a3e7d31ca04c4c8cb22481d7332258": {
      "model_module": "@jupyter-widgets/controls",
      "model_module_version": "2.0.0",
      "model_name": "HTMLModel",
      "state": {
       "layout": "IPY_MODEL_49bc45a781264a9bb60b14fc52525626",
       "style": "IPY_MODEL_53439f91aa0c4b949b1f33181b9488a8",
       "value": " 2453/2453 [01:41&lt;00:00, 24.48it/s]"
      }
     },
     "88637bd058394ecaba6f2c7d6197b624": {
      "model_module": "@jupyter-widgets/controls",
      "model_module_version": "2.0.0",
      "model_name": "HTMLModel",
      "state": {
       "layout": "IPY_MODEL_6cf0ffcdfc284f3dad33715e420794f0",
       "style": "IPY_MODEL_2283cb99cfed46839249425b56de4523",
       "value": " 2453/2453 [01:41&lt;00:00, 24.45it/s]"
      }
     },
     "88f8bbfb2d6b4b2c870e30a7ac32cf2a": {
      "model_module": "@jupyter-widgets/controls",
      "model_module_version": "2.0.0",
      "model_name": "FloatProgressModel",
      "state": {
       "bar_style": "success",
       "layout": "IPY_MODEL_11f2e92d4f54400293a7831212b7c03c",
       "max": 2453,
       "style": "IPY_MODEL_072bad4ffa2e475cadd594df08f8c52c",
       "value": 2453
      }
     },
     "8946210183ea4194be7155dd22848fc8": {
      "model_module": "@jupyter-widgets/controls",
      "model_module_version": "2.0.0",
      "model_name": "FloatProgressModel",
      "state": {
       "bar_style": "success",
       "layout": "IPY_MODEL_4c0c1a58029e4715a57a51a8466a01cd",
       "max": 2453,
       "style": "IPY_MODEL_7729d896a6884a4986ef93b6c27889a0",
       "value": 2453
      }
     },
     "89a21e11189d4812a908382c7f480610": {
      "model_module": "@jupyter-widgets/base",
      "model_module_version": "2.0.0",
      "model_name": "LayoutModel",
      "state": {}
     },
     "8a682b27f1da44b2bc4bc180c4d80a16": {
      "model_module": "@jupyter-widgets/base",
      "model_module_version": "2.0.0",
      "model_name": "LayoutModel",
      "state": {}
     },
     "8b3c8dde9bc545cc97f14d3099f66ea8": {
      "model_module": "@jupyter-widgets/controls",
      "model_module_version": "2.0.0",
      "model_name": "FloatProgressModel",
      "state": {
       "bar_style": "success",
       "layout": "IPY_MODEL_752e919613a94baba4335b02da0233a5",
       "max": 2453,
       "style": "IPY_MODEL_9c909e31e4804e89870f7b65d4711db9",
       "value": 2453
      }
     },
     "8b5dce86add748c38976e5fa67ba7dfa": {
      "model_module": "@jupyter-widgets/base",
      "model_module_version": "2.0.0",
      "model_name": "LayoutModel",
      "state": {}
     },
     "8bcfdd1c57ee458d83b9baed8e79ef22": {
      "model_module": "@jupyter-widgets/base",
      "model_module_version": "2.0.0",
      "model_name": "LayoutModel",
      "state": {}
     },
     "8d120d269dbd4664b92bcfe2dc034080": {
      "model_module": "@jupyter-widgets/base",
      "model_module_version": "2.0.0",
      "model_name": "LayoutModel",
      "state": {}
     },
     "8d7c721ea3754679b43ba3b1ddd304ee": {
      "model_module": "@jupyter-widgets/base",
      "model_module_version": "2.0.0",
      "model_name": "LayoutModel",
      "state": {}
     },
     "8f757cbd839e459bb1930592172abe65": {
      "model_module": "@jupyter-widgets/controls",
      "model_module_version": "2.0.0",
      "model_name": "HTMLModel",
      "state": {
       "layout": "IPY_MODEL_5606e806e79845f1bda92c18a293c424",
       "style": "IPY_MODEL_97526d424c5f4da1aab391f90f0906d2",
       "value": "Training epoch 7:: 100%"
      }
     },
     "8fb8e6d4be344f2fb7d85dea3a6ebac9": {
      "model_module": "@jupyter-widgets/base",
      "model_module_version": "2.0.0",
      "model_name": "LayoutModel",
      "state": {}
     },
     "9125fdfe701743ba9bcde6b164c8aa24": {
      "model_module": "@jupyter-widgets/controls",
      "model_module_version": "2.0.0",
      "model_name": "HTMLStyleModel",
      "state": {
       "description_width": "",
       "font_size": null,
       "text_color": null
      }
     },
     "92b59287186d440a824eac0b681f307e": {
      "model_module": "@jupyter-widgets/base",
      "model_module_version": "2.0.0",
      "model_name": "LayoutModel",
      "state": {}
     },
     "9302b1e0312943deb4d52612f7218f69": {
      "model_module": "@jupyter-widgets/controls",
      "model_module_version": "2.0.0",
      "model_name": "ProgressStyleModel",
      "state": {
       "description_width": ""
      }
     },
     "94f07f4989ba4b43967cb5e3c1c442a5": {
      "model_module": "@jupyter-widgets/base",
      "model_module_version": "2.0.0",
      "model_name": "LayoutModel",
      "state": {}
     },
     "9503be7c40734a149bd4a8da121944bd": {
      "model_module": "@jupyter-widgets/controls",
      "model_module_version": "2.0.0",
      "model_name": "HTMLModel",
      "state": {
       "layout": "IPY_MODEL_5b292763c75a4a7aa354158c98bcd6cd",
       "style": "IPY_MODEL_6c15c9d7aea34c5db706482a1f15347e",
       "value": "Training epoch 6:: 100%"
      }
     },
     "958aedaa05bd4e33bf66addcd569897e": {
      "model_module": "@jupyter-widgets/base",
      "model_module_version": "2.0.0",
      "model_name": "LayoutModel",
      "state": {}
     },
     "95a44883ae4d453998e7646a0937bf52": {
      "model_module": "@jupyter-widgets/base",
      "model_module_version": "2.0.0",
      "model_name": "LayoutModel",
      "state": {}
     },
     "96214d98521c45f1aa95dc4f99e6a899": {
      "model_module": "@jupyter-widgets/controls",
      "model_module_version": "2.0.0",
      "model_name": "FloatProgressModel",
      "state": {
       "bar_style": "success",
       "layout": "IPY_MODEL_b884b16720814bdf8e35acdf3da4426d",
       "max": 2453,
       "style": "IPY_MODEL_f91f4632572540d7add4776e8f02b02a",
       "value": 2453
      }
     },
     "96668635392c48509869e6187e94ed1c": {
      "model_module": "@jupyter-widgets/controls",
      "model_module_version": "2.0.0",
      "model_name": "HTMLModel",
      "state": {
       "layout": "IPY_MODEL_49f03a8635bc4751abd7b34460cfad65",
       "style": "IPY_MODEL_eaab8906e80c4e52af5a9f7a49511eeb",
       "value": " 2453/2453 [01:40&lt;00:00, 24.21it/s]"
      }
     },
     "97526d424c5f4da1aab391f90f0906d2": {
      "model_module": "@jupyter-widgets/controls",
      "model_module_version": "2.0.0",
      "model_name": "HTMLStyleModel",
      "state": {
       "description_width": "",
       "font_size": null,
       "text_color": null
      }
     },
     "978836bfbee642d9a83bc9dca299c573": {
      "model_module": "@jupyter-widgets/controls",
      "model_module_version": "2.0.0",
      "model_name": "FloatProgressModel",
      "state": {
       "bar_style": "success",
       "layout": "IPY_MODEL_460469d785914b109c3af1cfbffd163d",
       "max": 2453,
       "style": "IPY_MODEL_daac1063aa214af1a27061d015ba179b",
       "value": 2453
      }
     },
     "97ad9edfc1e24e9c896d90254f0f9801": {
      "model_module": "@jupyter-widgets/controls",
      "model_module_version": "2.0.0",
      "model_name": "HBoxModel",
      "state": {
       "children": [
        "IPY_MODEL_18b209aa3025457895499a34345ff05d",
        "IPY_MODEL_316583358b2a4b43bb4ac31daea6124a",
        "IPY_MODEL_c80262511d064b7d91d095ef12b8edf9"
       ],
       "layout": "IPY_MODEL_99a67574f7114899b1be493dd4863b81"
      }
     },
     "98a4a60d180d475e8ba86c595f3de6f9": {
      "model_module": "@jupyter-widgets/controls",
      "model_module_version": "2.0.0",
      "model_name": "HTMLStyleModel",
      "state": {
       "description_width": "",
       "font_size": null,
       "text_color": null
      }
     },
     "98e0b0bdfefe44b28445f5e919a90746": {
      "model_module": "@jupyter-widgets/controls",
      "model_module_version": "2.0.0",
      "model_name": "HTMLStyleModel",
      "state": {
       "description_width": "",
       "font_size": null,
       "text_color": null
      }
     },
     "99a67574f7114899b1be493dd4863b81": {
      "model_module": "@jupyter-widgets/base",
      "model_module_version": "2.0.0",
      "model_name": "LayoutModel",
      "state": {}
     },
     "9aa4f34af1dc4e5d983ed00984082a1f": {
      "model_module": "@jupyter-widgets/base",
      "model_module_version": "2.0.0",
      "model_name": "LayoutModel",
      "state": {}
     },
     "9bbbeca5b14f4433a48aa31e7e5928f9": {
      "model_module": "@jupyter-widgets/controls",
      "model_module_version": "2.0.0",
      "model_name": "HBoxModel",
      "state": {
       "children": [
        "IPY_MODEL_9503be7c40734a149bd4a8da121944bd",
        "IPY_MODEL_71b52b4d448d4d80b080f5aa18a46533",
        "IPY_MODEL_27b87ef8635e45d38b0dfbc4e07d9405"
       ],
       "layout": "IPY_MODEL_8d7c721ea3754679b43ba3b1ddd304ee"
      }
     },
     "9c0e6adc0d1a41bbba8a18f87a0a1d2e": {
      "model_module": "@jupyter-widgets/controls",
      "model_module_version": "2.0.0",
      "model_name": "HTMLModel",
      "state": {
       "layout": "IPY_MODEL_73c88a03ab6d48ad83805342d2ed68f5",
       "style": "IPY_MODEL_524f2a5d17b54d219db5b8ea13b77d4d",
       "value": " 2453/2453 [01:07&lt;00:00, 36.72it/s]"
      }
     },
     "9c8697a6e688461591671eed45ab0260": {
      "model_module": "@jupyter-widgets/controls",
      "model_module_version": "2.0.0",
      "model_name": "FloatProgressModel",
      "state": {
       "bar_style": "success",
       "layout": "IPY_MODEL_2b32936863e549198fc1ccf01686a524",
       "max": 2453,
       "style": "IPY_MODEL_9302b1e0312943deb4d52612f7218f69",
       "value": 2453
      }
     },
     "9c909e31e4804e89870f7b65d4711db9": {
      "model_module": "@jupyter-widgets/controls",
      "model_module_version": "2.0.0",
      "model_name": "ProgressStyleModel",
      "state": {
       "description_width": ""
      }
     },
     "9d0281bd5e524b34952a90a429d7ad3e": {
      "model_module": "@jupyter-widgets/base",
      "model_module_version": "2.0.0",
      "model_name": "LayoutModel",
      "state": {}
     },
     "9fb4b601aedb42aeb886cf0d9e91708f": {
      "model_module": "@jupyter-widgets/controls",
      "model_module_version": "2.0.0",
      "model_name": "ProgressStyleModel",
      "state": {
       "description_width": ""
      }
     },
     "a037a4b7f7c4442ca02a4524a0aba1b4": {
      "model_module": "@jupyter-widgets/base",
      "model_module_version": "2.0.0",
      "model_name": "LayoutModel",
      "state": {}
     },
     "a0f187136e1f410e87b568b1dd20ce98": {
      "model_module": "@jupyter-widgets/base",
      "model_module_version": "2.0.0",
      "model_name": "LayoutModel",
      "state": {}
     },
     "a13a45968aca4011b43966172827dc63": {
      "model_module": "@jupyter-widgets/base",
      "model_module_version": "2.0.0",
      "model_name": "LayoutModel",
      "state": {}
     },
     "a1445efb0e1f4ebbbbeb5d877c375ec6": {
      "model_module": "@jupyter-widgets/controls",
      "model_module_version": "2.0.0",
      "model_name": "HTMLModel",
      "state": {
       "layout": "IPY_MODEL_beb2e18a96084310a32ca5668a8ea258",
       "style": "IPY_MODEL_9125fdfe701743ba9bcde6b164c8aa24",
       "value": " 2453/2453 [01:42&lt;00:00, 23.54it/s]"
      }
     },
     "a1985bf27c064dedbed7a76af6c02a5b": {
      "model_module": "@jupyter-widgets/base",
      "model_module_version": "2.0.0",
      "model_name": "LayoutModel",
      "state": {}
     },
     "a1a0fc924dad41b1b1f770d49eee6b10": {
      "model_module": "@jupyter-widgets/base",
      "model_module_version": "2.0.0",
      "model_name": "LayoutModel",
      "state": {}
     },
     "a36ca171b5a0478b92c72aa13874a2f1": {
      "model_module": "@jupyter-widgets/controls",
      "model_module_version": "2.0.0",
      "model_name": "HBoxModel",
      "state": {
       "children": [
        "IPY_MODEL_5a056e6562304a919556b8240632c77d",
        "IPY_MODEL_978836bfbee642d9a83bc9dca299c573",
        "IPY_MODEL_6145d2ad319c4bb6bbdc1cc47485b3fe"
       ],
       "layout": "IPY_MODEL_f9864301d31c4fa2b60572e2a51361c1"
      }
     },
     "a43bf435572d403e8a0ced48b5ce5044": {
      "model_module": "@jupyter-widgets/controls",
      "model_module_version": "2.0.0",
      "model_name": "FloatProgressModel",
      "state": {
       "bar_style": "success",
       "layout": "IPY_MODEL_8fb8e6d4be344f2fb7d85dea3a6ebac9",
       "max": 2453,
       "style": "IPY_MODEL_e136e8db091f439c81e651b98b71b814",
       "value": 2453
      }
     },
     "a4be74eee9e84031893c0bba445b47ac": {
      "model_module": "@jupyter-widgets/controls",
      "model_module_version": "2.0.0",
      "model_name": "HBoxModel",
      "state": {
       "children": [
        "IPY_MODEL_6fecbcf0d80f4767813494d3d7e42747",
        "IPY_MODEL_56a5ab0a3c3e4b03857a740f938f5f93",
        "IPY_MODEL_f29b361220094c529d1b1ef93f19b46d"
       ],
       "layout": "IPY_MODEL_a1a0fc924dad41b1b1f770d49eee6b10"
      }
     },
     "a554898cb9854bf19f4ac69361b7be65": {
      "model_module": "@jupyter-widgets/controls",
      "model_module_version": "2.0.0",
      "model_name": "FloatProgressModel",
      "state": {
       "bar_style": "success",
       "layout": "IPY_MODEL_52caff4a2ee7447793fdc2baf38d6989",
       "max": 2453,
       "style": "IPY_MODEL_71513c6b125d46bba12bde3dbefffd5b",
       "value": 2453
      }
     },
     "a590972a0ece4535a0cfd4aef1ac2228": {
      "model_module": "@jupyter-widgets/controls",
      "model_module_version": "2.0.0",
      "model_name": "HTMLModel",
      "state": {
       "layout": "IPY_MODEL_f6ab34515c1243249211789c42895611",
       "style": "IPY_MODEL_4ce813c4a5c64f95a523d77430a2f60b",
       "value": " 2453/2453 [01:43&lt;00:00, 24.03it/s]"
      }
     },
     "a59d18dd98d64928b3770bb149381725": {
      "model_module": "@jupyter-widgets/base",
      "model_module_version": "2.0.0",
      "model_name": "LayoutModel",
      "state": {}
     },
     "a93042d710814cf19be27eae83d891ff": {
      "model_module": "@jupyter-widgets/controls",
      "model_module_version": "2.0.0",
      "model_name": "ProgressStyleModel",
      "state": {
       "description_width": ""
      }
     },
     "ab4d10ab2f2a41d580e6efab79d7d5b2": {
      "model_module": "@jupyter-widgets/base",
      "model_module_version": "2.0.0",
      "model_name": "LayoutModel",
      "state": {}
     },
     "ae79ae65090e4f28baf3a1d2aa6dddb0": {
      "model_module": "@jupyter-widgets/controls",
      "model_module_version": "2.0.0",
      "model_name": "HTMLStyleModel",
      "state": {
       "description_width": "",
       "font_size": null,
       "text_color": null
      }
     },
     "aedb8546eac34ebfbba511f0aff88c30": {
      "model_module": "@jupyter-widgets/base",
      "model_module_version": "2.0.0",
      "model_name": "LayoutModel",
      "state": {}
     },
     "aee98080065d4883ba343e64fafa7294": {
      "model_module": "@jupyter-widgets/controls",
      "model_module_version": "2.0.0",
      "model_name": "HTMLStyleModel",
      "state": {
       "description_width": "",
       "font_size": null,
       "text_color": null
      }
     },
     "b231026818174087b0a49db80666b4e2": {
      "model_module": "@jupyter-widgets/controls",
      "model_module_version": "2.0.0",
      "model_name": "HBoxModel",
      "state": {
       "children": [
        "IPY_MODEL_427953c33dae48758338b0753d65aad2",
        "IPY_MODEL_e7eed223907149e59f92fe1f05c94ae8",
        "IPY_MODEL_96668635392c48509869e6187e94ed1c"
       ],
       "layout": "IPY_MODEL_e949b8c3dcf542c09b8bea6c83953ff9"
      }
     },
     "b2893c777af148e0b6a41d60423f409b": {
      "model_module": "@jupyter-widgets/base",
      "model_module_version": "2.0.0",
      "model_name": "LayoutModel",
      "state": {}
     },
     "b2bcf2c59ecd40b2b03d576ccc8e7f22": {
      "model_module": "@jupyter-widgets/controls",
      "model_module_version": "2.0.0",
      "model_name": "HBoxModel",
      "state": {
       "children": [
        "IPY_MODEL_356c2c8f7f70498298eb41c0a8900313",
        "IPY_MODEL_03d3c354b2404e85af31fc6f2616f0b0",
        "IPY_MODEL_f5f02af7d66b4243b329d28fc9bc8d27"
       ],
       "layout": "IPY_MODEL_958aedaa05bd4e33bf66addcd569897e"
      }
     },
     "b2c3002e49a9466db8e7abae352dcf6a": {
      "model_module": "@jupyter-widgets/controls",
      "model_module_version": "2.0.0",
      "model_name": "ProgressStyleModel",
      "state": {
       "description_width": ""
      }
     },
     "b527e587e5cb4853b41801d4bf4e696f": {
      "model_module": "@jupyter-widgets/controls",
      "model_module_version": "2.0.0",
      "model_name": "HTMLStyleModel",
      "state": {
       "description_width": "",
       "font_size": null,
       "text_color": null
      }
     },
     "b747cca7f7b14c54999c0760cd0d3105": {
      "model_module": "@jupyter-widgets/base",
      "model_module_version": "2.0.0",
      "model_name": "LayoutModel",
      "state": {}
     },
     "b87590f584174f19af83fac537870ec1": {
      "model_module": "@jupyter-widgets/controls",
      "model_module_version": "2.0.0",
      "model_name": "HTMLModel",
      "state": {
       "layout": "IPY_MODEL_1c6caacd423d460396aa71a75920575d",
       "style": "IPY_MODEL_2d0426f32afb4bdc8d2642a50e8dfdc6",
       "value": " 2453/2453 [01:40&lt;00:00, 23.77it/s]"
      }
     },
     "b884b16720814bdf8e35acdf3da4426d": {
      "model_module": "@jupyter-widgets/base",
      "model_module_version": "2.0.0",
      "model_name": "LayoutModel",
      "state": {}
     },
     "b899dbd576f2426299b2f7d9624b2d1b": {
      "model_module": "@jupyter-widgets/base",
      "model_module_version": "2.0.0",
      "model_name": "LayoutModel",
      "state": {}
     },
     "b9058a00c1f741738bf191f1dda96c6a": {
      "model_module": "@jupyter-widgets/controls",
      "model_module_version": "2.0.0",
      "model_name": "HBoxModel",
      "state": {
       "children": [
        "IPY_MODEL_d8b77aa693f34eb98ca9e272d8d1a8d1",
        "IPY_MODEL_9c8697a6e688461591671eed45ab0260",
        "IPY_MODEL_1222cdd09cbd4e16af61f667b9a65c9a"
       ],
       "layout": "IPY_MODEL_c0e5c5bb22ee4b6c9d16692f5d7600a5"
      }
     },
     "b9d5e4d6428a4845b17cf1af16297f89": {
      "model_module": "@jupyter-widgets/controls",
      "model_module_version": "2.0.0",
      "model_name": "HTMLStyleModel",
      "state": {
       "description_width": "",
       "font_size": null,
       "text_color": null
      }
     },
     "badc34eb45c24dc28f175e507106ece8": {
      "model_module": "@jupyter-widgets/controls",
      "model_module_version": "2.0.0",
      "model_name": "HTMLStyleModel",
      "state": {
       "description_width": "",
       "font_size": null,
       "text_color": null
      }
     },
     "bbcfc82666904cc4a44fe3affb1c92e7": {
      "model_module": "@jupyter-widgets/controls",
      "model_module_version": "2.0.0",
      "model_name": "HTMLStyleModel",
      "state": {
       "description_width": "",
       "font_size": null,
       "text_color": null
      }
     },
     "bc566fd9b030409dbdeea7dbd872f38a": {
      "model_module": "@jupyter-widgets/controls",
      "model_module_version": "2.0.0",
      "model_name": "FloatProgressModel",
      "state": {
       "bar_style": "success",
       "layout": "IPY_MODEL_bf3386398c0b4ccb9f33d3d43f346113",
       "max": 2453,
       "style": "IPY_MODEL_f3bdc03e54ae45da81cfd0a05fa9dfb2",
       "value": 2453
      }
     },
     "bc57fd4b9372427d887e4e810d9e2ffa": {
      "model_module": "@jupyter-widgets/controls",
      "model_module_version": "2.0.0",
      "model_name": "HTMLStyleModel",
      "state": {
       "description_width": "",
       "font_size": null,
       "text_color": null
      }
     },
     "bd656ac60895453fae1ac7fc85680e17": {
      "model_module": "@jupyter-widgets/controls",
      "model_module_version": "2.0.0",
      "model_name": "HTMLModel",
      "state": {
       "layout": "IPY_MODEL_f087a58575c9421888536d6774a1dea8",
       "style": "IPY_MODEL_ae79ae65090e4f28baf3a1d2aa6dddb0",
       "value": " 2453/2453 [01:07&lt;00:00, 36.49it/s]"
      }
     },
     "be14f34c9f6a424ca1974f061e259fb7": {
      "model_module": "@jupyter-widgets/controls",
      "model_module_version": "2.0.0",
      "model_name": "FloatProgressModel",
      "state": {
       "bar_style": "success",
       "layout": "IPY_MODEL_7622d6a06c4c43c9882a6cf76666af9a",
       "max": 2453,
       "style": "IPY_MODEL_c1f1464e94bd4baa89356f121d18e27a",
       "value": 2453
      }
     },
     "be1deeb9028f4d4e8ec7fddbb108e7dd": {
      "model_module": "@jupyter-widgets/base",
      "model_module_version": "2.0.0",
      "model_name": "LayoutModel",
      "state": {}
     },
     "beb2e18a96084310a32ca5668a8ea258": {
      "model_module": "@jupyter-widgets/base",
      "model_module_version": "2.0.0",
      "model_name": "LayoutModel",
      "state": {}
     },
     "bf3386398c0b4ccb9f33d3d43f346113": {
      "model_module": "@jupyter-widgets/base",
      "model_module_version": "2.0.0",
      "model_name": "LayoutModel",
      "state": {}
     },
     "bf636daa84fb4e52823dee9eeefd2929": {
      "model_module": "@jupyter-widgets/controls",
      "model_module_version": "2.0.0",
      "model_name": "HTMLStyleModel",
      "state": {
       "description_width": "",
       "font_size": null,
       "text_color": null
      }
     },
     "c00b46dbb83f4d98b4f3db8004173aca": {
      "model_module": "@jupyter-widgets/controls",
      "model_module_version": "2.0.0",
      "model_name": "HTMLModel",
      "state": {
       "layout": "IPY_MODEL_92b59287186d440a824eac0b681f307e",
       "style": "IPY_MODEL_05d9753eefe14c38a997bb2cff5fabbd",
       "value": " 2453/2453 [01:07&lt;00:00, 36.56it/s]"
      }
     },
     "c084e52fe4bf4b649535c873ae710547": {
      "model_module": "@jupyter-widgets/base",
      "model_module_version": "2.0.0",
      "model_name": "LayoutModel",
      "state": {}
     },
     "c0e5c5bb22ee4b6c9d16692f5d7600a5": {
      "model_module": "@jupyter-widgets/base",
      "model_module_version": "2.0.0",
      "model_name": "LayoutModel",
      "state": {}
     },
     "c13954c429744628aee7e33f7e09a6bb": {
      "model_module": "@jupyter-widgets/controls",
      "model_module_version": "2.0.0",
      "model_name": "HTMLStyleModel",
      "state": {
       "description_width": "",
       "font_size": null,
       "text_color": null
      }
     },
     "c198b76189fc4f7db193d08fa5cb72c6": {
      "model_module": "@jupyter-widgets/controls",
      "model_module_version": "2.0.0",
      "model_name": "ProgressStyleModel",
      "state": {
       "description_width": ""
      }
     },
     "c1f1464e94bd4baa89356f121d18e27a": {
      "model_module": "@jupyter-widgets/controls",
      "model_module_version": "2.0.0",
      "model_name": "ProgressStyleModel",
      "state": {
       "description_width": ""
      }
     },
     "c36e1a97ae30491c8d8f17ba55855067": {
      "model_module": "@jupyter-widgets/controls",
      "model_module_version": "2.0.0",
      "model_name": "HTMLStyleModel",
      "state": {
       "description_width": "",
       "font_size": null,
       "text_color": null
      }
     },
     "c3ada4163b8f47e682ce514f471e011b": {
      "model_module": "@jupyter-widgets/controls",
      "model_module_version": "2.0.0",
      "model_name": "HTMLModel",
      "state": {
       "layout": "IPY_MODEL_151114aade674ed5b000691c13954a1f",
       "style": "IPY_MODEL_fca5b1575957459696b77a869ed83054",
       "value": "Training epoch 4:: 100%"
      }
     },
     "c43fbc74480a49149b79ebed7b221799": {
      "model_module": "@jupyter-widgets/controls",
      "model_module_version": "2.0.0",
      "model_name": "HBoxModel",
      "state": {
       "children": [
        "IPY_MODEL_cf3d5c5c83714766b8072813fae971db",
        "IPY_MODEL_8b3c8dde9bc545cc97f14d3099f66ea8",
        "IPY_MODEL_7dd5463f11d84b27aa495313cae69fcc"
       ],
       "layout": "IPY_MODEL_f80df9da5a9c484ebf93b4600bee86d9"
      }
     },
     "c80262511d064b7d91d095ef12b8edf9": {
      "model_module": "@jupyter-widgets/controls",
      "model_module_version": "2.0.0",
      "model_name": "HTMLModel",
      "state": {
       "layout": "IPY_MODEL_0181c39a87cc4c72a26d5a2a41af3f92",
       "style": "IPY_MODEL_f549358b33ef4c7d8f28c2946d29227f",
       "value": " 2453/2453 [01:40&lt;00:00, 24.39it/s]"
      }
     },
     "c901d4dba7784615861f8765a81a70a1": {
      "model_module": "@jupyter-widgets/controls",
      "model_module_version": "2.0.0",
      "model_name": "HTMLModel",
      "state": {
       "layout": "IPY_MODEL_9aa4f34af1dc4e5d983ed00984082a1f",
       "style": "IPY_MODEL_55e0a87255df4a7486573aac841b403c",
       "value": " 2453/2453 [01:41&lt;00:00, 24.33it/s]"
      }
     },
     "cbb26bb55fbe4b96986281e858394c19": {
      "model_module": "@jupyter-widgets/controls",
      "model_module_version": "2.0.0",
      "model_name": "HTMLStyleModel",
      "state": {
       "description_width": "",
       "font_size": null,
       "text_color": null
      }
     },
     "cc84a73cecb34e26a777ef6dc20dcfea": {
      "model_module": "@jupyter-widgets/controls",
      "model_module_version": "2.0.0",
      "model_name": "FloatProgressModel",
      "state": {
       "bar_style": "success",
       "layout": "IPY_MODEL_456163129c01496f87f78dec0865b6f2",
       "max": 2453,
       "style": "IPY_MODEL_3c3e3a825c43494ea5b0b523d2f80689",
       "value": 2453
      }
     },
     "ce069ba2910945eb9a9741fcc40a1afd": {
      "model_module": "@jupyter-widgets/base",
      "model_module_version": "2.0.0",
      "model_name": "LayoutModel",
      "state": {}
     },
     "cf3d5c5c83714766b8072813fae971db": {
      "model_module": "@jupyter-widgets/controls",
      "model_module_version": "2.0.0",
      "model_name": "HTMLModel",
      "state": {
       "layout": "IPY_MODEL_e3ee0a12196e4726aa2dcd863f21614c",
       "style": "IPY_MODEL_487657d40ebb455a97c6f5b60c7271f6",
       "value": "Training epoch 8:: 100%"
      }
     },
     "d0fdd4da523e40a3ba70b94fea71a762": {
      "model_module": "@jupyter-widgets/controls",
      "model_module_version": "2.0.0",
      "model_name": "FloatProgressModel",
      "state": {
       "bar_style": "success",
       "layout": "IPY_MODEL_43fa3cf3dfa54b3eae08fdad1087518d",
       "max": 2453,
       "style": "IPY_MODEL_c198b76189fc4f7db193d08fa5cb72c6",
       "value": 2453
      }
     },
     "d4da76c8ecf5492998ce572587904612": {
      "model_module": "@jupyter-widgets/base",
      "model_module_version": "2.0.0",
      "model_name": "LayoutModel",
      "state": {}
     },
     "d608d37eac684b2a9e850134b350fe3f": {
      "model_module": "@jupyter-widgets/controls",
      "model_module_version": "2.0.0",
      "model_name": "HBoxModel",
      "state": {
       "children": [
        "IPY_MODEL_55cc2fc106044707bee660def26cdddc",
        "IPY_MODEL_2ba2d0f9721b49ab9cc3ff25efd5f4d1",
        "IPY_MODEL_f01f733414234ffa8b49c2cb1947cc5b"
       ],
       "layout": "IPY_MODEL_0e720f637e3448d899357b31370afc9a"
      }
     },
     "d7373a437f1d411980881e6c8c5a4c4f": {
      "model_module": "@jupyter-widgets/controls",
      "model_module_version": "2.0.0",
      "model_name": "HTMLModel",
      "state": {
       "layout": "IPY_MODEL_d4da76c8ecf5492998ce572587904612",
       "style": "IPY_MODEL_6b60a8b3dba0437cb579a00997d9a67b",
       "value": " 2453/2453 [01:42&lt;00:00, 24.67it/s]"
      }
     },
     "d8b77aa693f34eb98ca9e272d8d1a8d1": {
      "model_module": "@jupyter-widgets/controls",
      "model_module_version": "2.0.0",
      "model_name": "HTMLModel",
      "state": {
       "layout": "IPY_MODEL_606467ad99f34f24b59d92b0e20335c4",
       "style": "IPY_MODEL_80f92f34897d449a86ec1e55356f2989",
       "value": "Training epoch 8:: 100%"
      }
     },
     "daac1063aa214af1a27061d015ba179b": {
      "model_module": "@jupyter-widgets/controls",
      "model_module_version": "2.0.0",
      "model_name": "ProgressStyleModel",
      "state": {
       "description_width": ""
      }
     },
     "dc495af5f08d4e9ca98bd088f7b88292": {
      "model_module": "@jupyter-widgets/base",
      "model_module_version": "2.0.0",
      "model_name": "LayoutModel",
      "state": {}
     },
     "dc52113a754847f0a072068eedecd9d9": {
      "model_module": "@jupyter-widgets/base",
      "model_module_version": "2.0.0",
      "model_name": "LayoutModel",
      "state": {}
     },
     "dd79d872c2ad4e0cbfce2d0fe716fc2a": {
      "model_module": "@jupyter-widgets/controls",
      "model_module_version": "2.0.0",
      "model_name": "ProgressStyleModel",
      "state": {
       "description_width": ""
      }
     },
     "dea0e7958ea34d24a2a06a26b25470a4": {
      "model_module": "@jupyter-widgets/controls",
      "model_module_version": "2.0.0",
      "model_name": "HTMLModel",
      "state": {
       "layout": "IPY_MODEL_8d120d269dbd4664b92bcfe2dc034080",
       "style": "IPY_MODEL_4c91264198e047a2a2320b9740763c20",
       "value": "Training epoch 7:: 100%"
      }
     },
     "dfdfe862a00540bbab4a7950e84d3ab3": {
      "model_module": "@jupyter-widgets/base",
      "model_module_version": "2.0.0",
      "model_name": "LayoutModel",
      "state": {}
     },
     "e012c7ed024848248d226594b25f2bc2": {
      "model_module": "@jupyter-widgets/controls",
      "model_module_version": "2.0.0",
      "model_name": "HTMLStyleModel",
      "state": {
       "description_width": "",
       "font_size": null,
       "text_color": null
      }
     },
     "e0f4b84d2f314769b4ddc7f8a7873618": {
      "model_module": "@jupyter-widgets/controls",
      "model_module_version": "2.0.0",
      "model_name": "HBoxModel",
      "state": {
       "children": [
        "IPY_MODEL_edf741a17e424a099b2e4a427370c1bc",
        "IPY_MODEL_612e7ba3baa74587896add2a07ff56df",
        "IPY_MODEL_787240d3de5947cdac3b34a5f09a4723"
       ],
       "layout": "IPY_MODEL_74761bfa319f4d1a93c7933536ff42ba"
      }
     },
     "e136e8db091f439c81e651b98b71b814": {
      "model_module": "@jupyter-widgets/controls",
      "model_module_version": "2.0.0",
      "model_name": "ProgressStyleModel",
      "state": {
       "description_width": ""
      }
     },
     "e346b80d924b4907aa88e689c53d6976": {
      "model_module": "@jupyter-widgets/base",
      "model_module_version": "2.0.0",
      "model_name": "LayoutModel",
      "state": {}
     },
     "e3ee0a12196e4726aa2dcd863f21614c": {
      "model_module": "@jupyter-widgets/base",
      "model_module_version": "2.0.0",
      "model_name": "LayoutModel",
      "state": {}
     },
     "e5812095f1ff4a43a3049b60f3a7a6b9": {
      "model_module": "@jupyter-widgets/base",
      "model_module_version": "2.0.0",
      "model_name": "LayoutModel",
      "state": {}
     },
     "e71881d5102b4098b452d256f61579eb": {
      "model_module": "@jupyter-widgets/controls",
      "model_module_version": "2.0.0",
      "model_name": "ProgressStyleModel",
      "state": {
       "description_width": ""
      }
     },
     "e7eed223907149e59f92fe1f05c94ae8": {
      "model_module": "@jupyter-widgets/controls",
      "model_module_version": "2.0.0",
      "model_name": "FloatProgressModel",
      "state": {
       "bar_style": "success",
       "layout": "IPY_MODEL_8a682b27f1da44b2bc4bc180c4d80a16",
       "max": 2453,
       "style": "IPY_MODEL_1c4d380eccdc413398bfe0414894f116",
       "value": 2453
      }
     },
     "e81e39111d4847a6be0ae48f11a922d1": {
      "model_module": "@jupyter-widgets/controls",
      "model_module_version": "2.0.0",
      "model_name": "ProgressStyleModel",
      "state": {
       "description_width": ""
      }
     },
     "e83ebb0e75b54df4a49b52306cce484b": {
      "model_module": "@jupyter-widgets/base",
      "model_module_version": "2.0.0",
      "model_name": "LayoutModel",
      "state": {}
     },
     "e949b8c3dcf542c09b8bea6c83953ff9": {
      "model_module": "@jupyter-widgets/base",
      "model_module_version": "2.0.0",
      "model_name": "LayoutModel",
      "state": {}
     },
     "e9512ed571234e7b98553e20155fc48e": {
      "model_module": "@jupyter-widgets/controls",
      "model_module_version": "2.0.0",
      "model_name": "HTMLModel",
      "state": {
       "layout": "IPY_MODEL_5805101916e74760bea38b8bebe78960",
       "style": "IPY_MODEL_7999f864260641dc897223daa8fb981d",
       "value": "Training epoch 1:: 100%"
      }
     },
     "ea6df208b728453f85913f37733d9bab": {
      "model_module": "@jupyter-widgets/controls",
      "model_module_version": "2.0.0",
      "model_name": "ProgressStyleModel",
      "state": {
       "description_width": ""
      }
     },
     "eaab8906e80c4e52af5a9f7a49511eeb": {
      "model_module": "@jupyter-widgets/controls",
      "model_module_version": "2.0.0",
      "model_name": "HTMLStyleModel",
      "state": {
       "description_width": "",
       "font_size": null,
       "text_color": null
      }
     },
     "ec5b43e05ed84f1796ce089eaf27b87b": {
      "model_module": "@jupyter-widgets/controls",
      "model_module_version": "2.0.0",
      "model_name": "FloatProgressModel",
      "state": {
       "bar_style": "success",
       "layout": "IPY_MODEL_63976a4ab3a74a8faef831c119c28b76",
       "max": 2453,
       "style": "IPY_MODEL_4b5fe581b2f84c248be5735ac9b29197",
       "value": 2453
      }
     },
     "ed847aee5d4b44ddbae6e672ef5a305c": {
      "model_module": "@jupyter-widgets/controls",
      "model_module_version": "2.0.0",
      "model_name": "HTMLStyleModel",
      "state": {
       "description_width": "",
       "font_size": null,
       "text_color": null
      }
     },
     "edb53ea2ab774aeda0ec12e0acb4c486": {
      "model_module": "@jupyter-widgets/base",
      "model_module_version": "2.0.0",
      "model_name": "LayoutModel",
      "state": {}
     },
     "edf741a17e424a099b2e4a427370c1bc": {
      "model_module": "@jupyter-widgets/controls",
      "model_module_version": "2.0.0",
      "model_name": "HTMLModel",
      "state": {
       "layout": "IPY_MODEL_f7e8863705074d4096bbdb22dc9bf8d5",
       "style": "IPY_MODEL_5f6696d34bdc404e8055aea6f4c55ff0",
       "value": "Training epoch 3:: 100%"
      }
     },
     "ee1ced5c89264f4b9f8b0d4c0d6ccac5": {
      "model_module": "@jupyter-widgets/base",
      "model_module_version": "2.0.0",
      "model_name": "LayoutModel",
      "state": {}
     },
     "ee5081e476d24cfe8c08a3dfef07abfb": {
      "model_module": "@jupyter-widgets/controls",
      "model_module_version": "2.0.0",
      "model_name": "HBoxModel",
      "state": {
       "children": [
        "IPY_MODEL_7155470da47b4e808ff8e682fafd55a2",
        "IPY_MODEL_85ba1a6f42fd48e69abe36386a07fbe8",
        "IPY_MODEL_c901d4dba7784615861f8765a81a70a1"
       ],
       "layout": "IPY_MODEL_6984d83703f54186b1c634296f5272fd"
      }
     },
     "eeadb80c7b63443fa5b7ff528f913b81": {
      "model_module": "@jupyter-widgets/base",
      "model_module_version": "2.0.0",
      "model_name": "LayoutModel",
      "state": {}
     },
     "eec3c20ba01643b4a56ff2744c887d53": {
      "model_module": "@jupyter-widgets/controls",
      "model_module_version": "2.0.0",
      "model_name": "HBoxModel",
      "state": {
       "children": [
        "IPY_MODEL_677ce5aff3394bd4978103912eb5678c",
        "IPY_MODEL_18e5af5130c44f3294840d0c8e07c520",
        "IPY_MODEL_4a7f4f5dbaab498d9426a526badeb50e"
       ],
       "layout": "IPY_MODEL_dfdfe862a00540bbab4a7950e84d3ab3"
      }
     },
     "f01f733414234ffa8b49c2cb1947cc5b": {
      "model_module": "@jupyter-widgets/controls",
      "model_module_version": "2.0.0",
      "model_name": "HTMLModel",
      "state": {
       "layout": "IPY_MODEL_ee1ced5c89264f4b9f8b0d4c0d6ccac5",
       "style": "IPY_MODEL_b9d5e4d6428a4845b17cf1af16297f89",
       "value": " 2453/2453 [01:07&lt;00:00, 36.77it/s]"
      }
     },
     "f087a58575c9421888536d6774a1dea8": {
      "model_module": "@jupyter-widgets/base",
      "model_module_version": "2.0.0",
      "model_name": "LayoutModel",
      "state": {}
     },
     "f26806053caf4ddf93079768cde5b828": {
      "model_module": "@jupyter-widgets/controls",
      "model_module_version": "2.0.0",
      "model_name": "HTMLStyleModel",
      "state": {
       "description_width": "",
       "font_size": null,
       "text_color": null
      }
     },
     "f29b361220094c529d1b1ef93f19b46d": {
      "model_module": "@jupyter-widgets/controls",
      "model_module_version": "2.0.0",
      "model_name": "HTMLModel",
      "state": {
       "layout": "IPY_MODEL_3d04a6e7f5ad471bbc46e4724f3890ed",
       "style": "IPY_MODEL_e012c7ed024848248d226594b25f2bc2",
       "value": " 2453/2453 [01:39&lt;00:00, 24.71it/s]"
      }
     },
     "f301bfac51454508a7a745fa68e98af4": {
      "model_module": "@jupyter-widgets/controls",
      "model_module_version": "2.0.0",
      "model_name": "HTMLModel",
      "state": {
       "layout": "IPY_MODEL_814365fbd99345e28d2a06a994046235",
       "style": "IPY_MODEL_c36e1a97ae30491c8d8f17ba55855067",
       "value": "Training epoch 8:: 100%"
      }
     },
     "f3bdc03e54ae45da81cfd0a05fa9dfb2": {
      "model_module": "@jupyter-widgets/controls",
      "model_module_version": "2.0.0",
      "model_name": "ProgressStyleModel",
      "state": {
       "description_width": ""
      }
     },
     "f549358b33ef4c7d8f28c2946d29227f": {
      "model_module": "@jupyter-widgets/controls",
      "model_module_version": "2.0.0",
      "model_name": "HTMLStyleModel",
      "state": {
       "description_width": "",
       "font_size": null,
       "text_color": null
      }
     },
     "f589b8368549437dafcb000868ac7c93": {
      "model_module": "@jupyter-widgets/controls",
      "model_module_version": "2.0.0",
      "model_name": "HTMLModel",
      "state": {
       "layout": "IPY_MODEL_8bcfdd1c57ee458d83b9baed8e79ef22",
       "style": "IPY_MODEL_26896f26fa534b1ca83c0f7985ef01dd",
       "value": " 2453/2453 [01:40&lt;00:00, 24.41it/s]"
      }
     },
     "f5cc81d87de2473495f134749380bdb8": {
      "model_module": "@jupyter-widgets/base",
      "model_module_version": "2.0.0",
      "model_name": "LayoutModel",
      "state": {}
     },
     "f5f02af7d66b4243b329d28fc9bc8d27": {
      "model_module": "@jupyter-widgets/controls",
      "model_module_version": "2.0.0",
      "model_name": "HTMLModel",
      "state": {
       "layout": "IPY_MODEL_2d3a5f3669184e769319a209014e838a",
       "style": "IPY_MODEL_6d20a0e860f94723864e6cddb4bd0cac",
       "value": " 2453/2453 [01:40&lt;00:00, 24.52it/s]"
      }
     },
     "f600cb27ac814100be5e4324b0cb727f": {
      "model_module": "@jupyter-widgets/controls",
      "model_module_version": "2.0.0",
      "model_name": "HTMLModel",
      "state": {
       "layout": "IPY_MODEL_428e3cf450944b24a8c523cc9586d8ad",
       "style": "IPY_MODEL_2c3d711303f245f1b14dde4765ed5db4",
       "value": " 2453/2453 [01:08&lt;00:00, 36.31it/s]"
      }
     },
     "f61934e58806445899b52045d888f6f6": {
      "model_module": "@jupyter-widgets/controls",
      "model_module_version": "2.0.0",
      "model_name": "HTMLStyleModel",
      "state": {
       "description_width": "",
       "font_size": null,
       "text_color": null
      }
     },
     "f6ab34515c1243249211789c42895611": {
      "model_module": "@jupyter-widgets/base",
      "model_module_version": "2.0.0",
      "model_name": "LayoutModel",
      "state": {}
     },
     "f7cdab52ae1444d7a5a8f66a32e60057": {
      "model_module": "@jupyter-widgets/controls",
      "model_module_version": "2.0.0",
      "model_name": "HTMLModel",
      "state": {
       "layout": "IPY_MODEL_3a8d2875f03d4e749f6083171bb69646",
       "style": "IPY_MODEL_3caa9d583f5f42ca8871a1c7ad09900a",
       "value": "Training epoch 1:: 100%"
      }
     },
     "f7e8863705074d4096bbdb22dc9bf8d5": {
      "model_module": "@jupyter-widgets/base",
      "model_module_version": "2.0.0",
      "model_name": "LayoutModel",
      "state": {}
     },
     "f80df9da5a9c484ebf93b4600bee86d9": {
      "model_module": "@jupyter-widgets/base",
      "model_module_version": "2.0.0",
      "model_name": "LayoutModel",
      "state": {}
     },
     "f91f4632572540d7add4776e8f02b02a": {
      "model_module": "@jupyter-widgets/controls",
      "model_module_version": "2.0.0",
      "model_name": "ProgressStyleModel",
      "state": {
       "description_width": ""
      }
     },
     "f9864301d31c4fa2b60572e2a51361c1": {
      "model_module": "@jupyter-widgets/base",
      "model_module_version": "2.0.0",
      "model_name": "LayoutModel",
      "state": {}
     },
     "fca5b1575957459696b77a869ed83054": {
      "model_module": "@jupyter-widgets/controls",
      "model_module_version": "2.0.0",
      "model_name": "HTMLStyleModel",
      "state": {
       "description_width": "",
       "font_size": null,
       "text_color": null
      }
     },
     "fe9fbe37721e4a15afe4c67074662ef8": {
      "model_module": "@jupyter-widgets/controls",
      "model_module_version": "2.0.0",
      "model_name": "HTMLModel",
      "state": {
       "layout": "IPY_MODEL_366ee5b252624cd194236233166eb1d7",
       "style": "IPY_MODEL_612a02dcaf58421fb760be00d867ddb2",
       "value": "Training epoch 5:: 100%"
      }
     }
    },
    "version_major": 2,
    "version_minor": 0
   }
  }
 },
 "nbformat": 4,
 "nbformat_minor": 4
}
