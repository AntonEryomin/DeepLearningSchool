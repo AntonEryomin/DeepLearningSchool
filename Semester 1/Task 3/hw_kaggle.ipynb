{
 "cells": [
  {
   "cell_type": "markdown",
   "metadata": {
    "id": "TK7oX5qdEEYr"
   },
   "source": [
    "# Домашнее задание. Решение конкурса на kaggle.com\n",
    "\n",
    "Это домашнее задание посвящено полноценному решению задачи машинного обучения."
   ]
  },
  {
   "cell_type": "markdown",
   "metadata": {
    "id": "zlB-owfaEEYs"
   },
   "source": [
    "Есть две части этого домашнего задания: \n",
    "\n",
    "### Отправить ваши предсказания в Stepik.\n",
    "За прохождение определенных порогов будут начисляться баллы. Эта часть оценивается из 5 баллов.\n",
    "\n",
    "1) $1.00 \\geqslant score \\geqslant 0.84$ --- 5 баллов\n",
    "\n",
    "2) $0.84 > score \\geqslant 0.77$ --- 4 балла\n",
    "\n",
    "3) $0.77 > score \\geqslant 0.70$ --- 3 балла\n",
    "\n",
    "4) $0.70 > score \\geqslant 0.65$ --- 2 балла\n",
    "\n",
    "5) $0.65 > score \\geqslant 0.6$ --- 1 балл\n",
    "\n",
    "6) $0.60 > score$ --- 0 баллов\n",
    "\n",
    "Для этого мы предварительно разделили данные в задании на две части.\n",
    "* `train.csv`. На этом наборе данных вам необходимо создать и обучить модель. Подробное описание файла есть в ноутбуке.\n",
    "* `test.csv`. В каждой строчке файла `test.csv` указаны признаки тестовых объектов. Предсказания для этого набора необходимо записать в файл submission.csv и сдать в соответствующий шаг на Stepik. Количество попыток ограничено 100 штук.\n",
    "\n",
    "Отправлять в Stepik вы будете файл с ответами `my_submission.csv`. В этом файле вам необходимо для каждого объекта из датасета предсказать вероятность класса 1. Мы подготовили для вас файл с примером посылки `submission.csv`. Ваш файл должен быть оформлен таким же образом. В ноутбуке есть пример оформления файла посылки. Для отправки файла с предсказаниями на Stepik есть отдельный шаг.\n",
    "\n",
    "### Сделать полноценный отчет о вашей работе.\n",
    "Опишите, как вы обработали данные, какие модели попробовали и какие результаты получились (максимум 10 баллов). За каждую выполненную часть будет начислено определенное количество баллов. В этом пункте вам необходимо отправить файл в формате .ipynb на Stepik --- для этого в домашнем задании есть отдельный шаг. Этот пункт оценивается из 10 баллов.\n",
    "\n",
    "**Вторая часть будет проверяться в формате peer-review. Т.е. вашу посылку на Stepik будут проверять 3 других студента, и медианное значение их оценок будет выставлено. Чтобы получить баллы, вам также нужно будет проверить трех других учеников. Это станет доступно после того, как вы сдадите задание сами.**\n",
    "\n",
    "### Контест на Kaggle\n",
    "Для вашего удобства мы подготовили [контест на Kaggle](https://www.kaggle.com/c/advanced-dls-spring-2021/). Тестирующая система на Kaggle выдает те же баллы, что и Stepik. Мы рекомендуем в качестве основной тестирующей системы использовать именно Kaggle, а затем сдать лучшую посылку на Stepik. Так вы привыкните работать с Kaggle. \n",
    "\n",
    "Проблема для российских пользователей Kaggle заключается в том, что подтверждение аккаунта по номеру телефона работает с перебоями или не работает вообще. Без подтвержденного номера телефона вы не сможете совершать посылки в kaggle. Если у вас возникла такая проблема, мы советуем следующие шаги:\n",
    "* Попробовать зарегистрировать аккаунт с аутентификацией через gmail. В таком случае, аккаунт должен работать без подтверждения номера телефона.\n",
    "* Если у вас есть не российский номер, используйте его для верификации аккаунта.\n",
    "* Если на номер телефона не приходит смс для верификации аккаунта, обратитесь в службу поддержки kaggle. Они с переменным успехом умеют подтверждать аккаунты вручную.\n",
    "* Если все же подтвердить аккаунт и получить доступ к сдаче заданий не удалось, используйте только сдачу в Stepik.\n",
    "\n",
    "### Несколько замечаний по выполнению работы\n",
    "* Во всех пунктах указания это минимальный набор вещей, которые стоит сделать. Если вы можете сделать какой-то шаг лучше или добавить что-то свое --- дерзайте!\n",
    "* Пожалуйста, перед сдачей ноутбука убедитесь, что работа чистая и понятная. Это значительно облегчит проверку и повысит ваши ожидаемые баллы. \n",
    "* Если у вас будут проблемы с решением или хочется совета, то пишите в наш чат в телеграме.\n",
    "\n",
    "\n",
    "Данные: [train.csv](https://drive.google.com/file/d/1ERwQ5odiK1Zvi1LtjpkzCMUswYsAX8_K/view?usp=share_link), \n",
    "[test.csv](https://drive.google.com/file/d/1fGw_-RFwvn_LEdt91Jq-7A-wzG6mmH8r/view?usp=share_link), [submission.csv](https://drive.google.com/file/d/199Mt4OYZNaelT83U-HGDsEYs2YcUGQ6y/view?usp=share_link). \n",
    "\n",
    "Если ссылки на данные не работают, их можно скачать [на Kaggle](https://www.kaggle.com/competitions/advanced-dls-spring-2021/data)."
   ]
  },
  {
   "cell_type": "markdown",
   "metadata": {
    "id": "Tu_JvqcBEN8Y"
   },
   "source": [
    "# Как проверять?\n",
    "\n",
    "Ставьте полный балл, если выполнены все рекомендации или сделано что-то более интересное и сложное. За каждый отсустствующий пункт из рекомендации снижайте 1 балл.\n",
    "\n",
    "**Если решение верное, но не удовлетворяет вашим эстетическим предпочтениям, за это баллы снижать не нужно.**"
   ]
  },
  {
   "cell_type": "markdown",
   "metadata": {
    "id": "ninJ63mJEEYt"
   },
   "source": [
    "# Метрика\n",
    "\n",
    "Перед решением любой задачи важно понимать, как будет оцениваться ваше решение. В данном случае мы используем стандартную для задачи классификации метрику ROC-AUC. Ее можно вычислить, используя только предсказанные вероятности и истинные классы без конкретного порога классификации + она раотает даже если классы в данных сильно несбалансированны (примеров одного класса в десятки раз больше примеров длугого). Именно поэтому она очень удобна для соревнований.\n",
    "\n",
    "Посчитать ее легко:\n"
   ]
  },
  {
   "cell_type": "code",
   "execution_count": 1,
   "metadata": {
    "id": "SQIrka7yEEYu",
    "outputId": "ef45a9f2-7571-47b1-e697-b474b65cb0fb"
   },
   "outputs": [
    {
     "data": {
      "text/plain": [
       "0.8333333333333333"
      ]
     },
     "execution_count": 1,
     "metadata": {},
     "output_type": "execute_result"
    }
   ],
   "source": [
    "from sklearn.metrics import roc_auc_score\n",
    "\n",
    "y_true = [\n",
    "    0,\n",
    "    1,\n",
    "    1,\n",
    "    0,\n",
    "    1\n",
    "]\n",
    "\n",
    "y_predictions = [\n",
    "    0.1,\n",
    "    0.9,\n",
    "    0.4,\n",
    "    0.6,\n",
    "    0.61\n",
    "]\n",
    "\n",
    "roc_auc_score(y_true, y_predictions)"
   ]
  },
  {
   "cell_type": "markdown",
   "metadata": {
    "id": "IrDNNkNTEEYz"
   },
   "source": [
    "# Первая часть. Исследование"
   ]
  },
  {
   "cell_type": "code",
   "execution_count": 2,
   "metadata": {
    "id": "lzLqEeZKEEYz"
   },
   "outputs": [],
   "source": [
    "import pandas as pd\n",
    "import numpy as np\n",
    "from matplotlib import pyplot as plt\n",
    "from sklearn.compose import ColumnTransformer\n",
    "from sklearn.linear_model import LogisticRegression, LogisticRegressionCV\n",
    "from sklearn.model_selection import train_test_split, GridSearchCV\n",
    "from sklearn.preprocessing import StandardScaler, RobustScaler, LabelEncoder, OneHotEncoder\n",
    "from sklearn.pipeline import make_pipeline, Pipeline\n",
    "from sklearn.impute import SimpleImputer\n",
    "from sklearn.compose import make_column_transformer\n",
    "\n",
    "\n",
    "import warnings\n",
    "warnings.filterwarnings('ignore')"
   ]
  },
  {
   "cell_type": "markdown",
   "metadata": {
    "id": "LOlxdURSEEY3"
   },
   "source": [
    "## Загрузка данных (2 балла)\n",
    "\n",
    "1) Посмотрите на случайные строчки. \n",
    "\n",
    "2) Посмотрите, есть ли в датасете незаполненные значения (nan'ы) с помощью data.isna() или data.info() и, если нужно, замените их на что-то. Будет хорошо, если вы построите табличку с количеством nan в каждой колонке."
   ]
  },
  {
   "cell_type": "code",
   "execution_count": 3,
   "metadata": {
    "id": "XULA1f3ch6RL"
   },
   "outputs": [
    {
     "name": "stdout",
     "output_type": "stream",
     "text": [
      "Downloading...\n",
      "From: https://drive.google.com/uc?id=1ERwQ5odiK1Zvi1LtjpkzCMUswYsAX8_K\n",
      "To: /Users/antoneremin/Documents/JupyterNotebooks/programs/DeepLearningSchool/Semester 1/Task 3/train.csv\n",
      "100%|████████████████████████████████████████| 664k/664k [00:00<00:00, 1.58MB/s]\n",
      "Downloading...\n",
      "From: https://drive.google.com/uc?id=1fGw_-RFwvn_LEdt91Jq-7A-wzG6mmH8r\n",
      "To: /Users/antoneremin/Documents/JupyterNotebooks/programs/DeepLearningSchool/Semester 1/Task 3/test.csv\n",
      "100%|████████████████████████████████████████| 218k/218k [00:00<00:00, 1.02MB/s]\n",
      "Downloading...\n",
      "From: https://drive.google.com/uc?id=199Mt4OYZNaelT83U-HGDsEYs2YcUGQ6y\n",
      "To: /Users/antoneremin/Documents/JupyterNotebooks/programs/DeepLearningSchool/Semester 1/Task 3/submission.csv\n",
      "100%|██████████████████████████████████████| 14.7k/14.7k [00:00<00:00, 5.08MB/s]\n"
     ]
    }
   ],
   "source": [
    "!gdown 1ERwQ5odiK1Zvi1LtjpkzCMUswYsAX8_K  # train.csv\n",
    "!gdown 1fGw_-RFwvn_LEdt91Jq-7A-wzG6mmH8r  # test.csv\n",
    "!gdown 199Mt4OYZNaelT83U-HGDsEYs2YcUGQ6y  # submission.csv"
   ]
  },
  {
   "cell_type": "code",
   "execution_count": 4,
   "metadata": {
    "id": "pw-Brue9EEY3"
   },
   "outputs": [],
   "source": [
    "data = pd.read_csv('./train.csv')"
   ]
  },
  {
   "cell_type": "code",
   "execution_count": 5,
   "metadata": {},
   "outputs": [],
   "source": [
    "# Для вашего удобства списки с именами разных колонок\n",
    "\n",
    "# Числовые признаки\n",
    "num_cols = [\n",
    "    'ClientPeriod',\n",
    "    'MonthlySpending',\n",
    "    'TotalSpent'\n",
    "]\n",
    "\n",
    "# Категориальные признаки\n",
    "cat_cols = [\n",
    "    'Sex',\n",
    "    'IsSeniorCitizen',\n",
    "    'HasPartner',\n",
    "    'HasChild',\n",
    "    'HasPhoneService',\n",
    "    'HasMultiplePhoneNumbers',\n",
    "    'HasInternetService',\n",
    "    'HasOnlineSecurityService',\n",
    "    'HasOnlineBackup',\n",
    "    'HasDeviceProtection',\n",
    "    'HasTechSupportAccess',\n",
    "    'HasOnlineTV',\n",
    "    'HasMovieSubscription',\n",
    "    'HasContractPhone',\n",
    "    'IsBillingPaperless',\n",
    "    'PaymentMethod'\n",
    "]\n",
    "\n",
    "feature_cols = num_cols + cat_cols\n",
    "target_col = 'Churn'"
   ]
  },
  {
   "cell_type": "code",
   "execution_count": 6,
   "metadata": {},
   "outputs": [
    {
     "data": {
      "text/html": [
       "<div>\n",
       "<style scoped>\n",
       "    .dataframe tbody tr th:only-of-type {\n",
       "        vertical-align: middle;\n",
       "    }\n",
       "\n",
       "    .dataframe tbody tr th {\n",
       "        vertical-align: top;\n",
       "    }\n",
       "\n",
       "    .dataframe thead th {\n",
       "        text-align: right;\n",
       "    }\n",
       "</style>\n",
       "<table border=\"1\" class=\"dataframe\">\n",
       "  <thead>\n",
       "    <tr style=\"text-align: right;\">\n",
       "      <th></th>\n",
       "      <th>ClientPeriod</th>\n",
       "      <th>MonthlySpending</th>\n",
       "      <th>TotalSpent</th>\n",
       "      <th>Sex</th>\n",
       "      <th>IsSeniorCitizen</th>\n",
       "      <th>HasPartner</th>\n",
       "      <th>HasChild</th>\n",
       "      <th>HasPhoneService</th>\n",
       "      <th>HasMultiplePhoneNumbers</th>\n",
       "      <th>HasInternetService</th>\n",
       "      <th>HasOnlineSecurityService</th>\n",
       "      <th>HasOnlineBackup</th>\n",
       "      <th>HasDeviceProtection</th>\n",
       "      <th>HasTechSupportAccess</th>\n",
       "      <th>HasOnlineTV</th>\n",
       "      <th>HasMovieSubscription</th>\n",
       "      <th>HasContractPhone</th>\n",
       "      <th>IsBillingPaperless</th>\n",
       "      <th>PaymentMethod</th>\n",
       "      <th>Churn</th>\n",
       "    </tr>\n",
       "  </thead>\n",
       "  <tbody>\n",
       "    <tr>\n",
       "      <th>402</th>\n",
       "      <td>3</td>\n",
       "      <td>75.10</td>\n",
       "      <td>270.7</td>\n",
       "      <td>Female</td>\n",
       "      <td>0</td>\n",
       "      <td>No</td>\n",
       "      <td>No</td>\n",
       "      <td>Yes</td>\n",
       "      <td>Yes</td>\n",
       "      <td>Fiber optic</td>\n",
       "      <td>No</td>\n",
       "      <td>No</td>\n",
       "      <td>No</td>\n",
       "      <td>No</td>\n",
       "      <td>No</td>\n",
       "      <td>No</td>\n",
       "      <td>Month-to-month</td>\n",
       "      <td>Yes</td>\n",
       "      <td>Credit card (automatic)</td>\n",
       "      <td>1</td>\n",
       "    </tr>\n",
       "    <tr>\n",
       "      <th>655</th>\n",
       "      <td>19</td>\n",
       "      <td>89.65</td>\n",
       "      <td>1761.05</td>\n",
       "      <td>Female</td>\n",
       "      <td>0</td>\n",
       "      <td>Yes</td>\n",
       "      <td>No</td>\n",
       "      <td>Yes</td>\n",
       "      <td>Yes</td>\n",
       "      <td>Fiber optic</td>\n",
       "      <td>No</td>\n",
       "      <td>No</td>\n",
       "      <td>Yes</td>\n",
       "      <td>No</td>\n",
       "      <td>No</td>\n",
       "      <td>Yes</td>\n",
       "      <td>Month-to-month</td>\n",
       "      <td>No</td>\n",
       "      <td>Mailed check</td>\n",
       "      <td>1</td>\n",
       "    </tr>\n",
       "    <tr>\n",
       "      <th>1414</th>\n",
       "      <td>46</td>\n",
       "      <td>85.00</td>\n",
       "      <td>3969.4</td>\n",
       "      <td>Male</td>\n",
       "      <td>1</td>\n",
       "      <td>No</td>\n",
       "      <td>No</td>\n",
       "      <td>Yes</td>\n",
       "      <td>No</td>\n",
       "      <td>Fiber optic</td>\n",
       "      <td>Yes</td>\n",
       "      <td>No</td>\n",
       "      <td>No</td>\n",
       "      <td>No</td>\n",
       "      <td>No</td>\n",
       "      <td>Yes</td>\n",
       "      <td>Month-to-month</td>\n",
       "      <td>No</td>\n",
       "      <td>Electronic check</td>\n",
       "      <td>1</td>\n",
       "    </tr>\n",
       "    <tr>\n",
       "      <th>3899</th>\n",
       "      <td>16</td>\n",
       "      <td>89.45</td>\n",
       "      <td>1430.25</td>\n",
       "      <td>Female</td>\n",
       "      <td>0</td>\n",
       "      <td>Yes</td>\n",
       "      <td>Yes</td>\n",
       "      <td>Yes</td>\n",
       "      <td>No</td>\n",
       "      <td>Fiber optic</td>\n",
       "      <td>No</td>\n",
       "      <td>Yes</td>\n",
       "      <td>Yes</td>\n",
       "      <td>No</td>\n",
       "      <td>Yes</td>\n",
       "      <td>No</td>\n",
       "      <td>Month-to-month</td>\n",
       "      <td>Yes</td>\n",
       "      <td>Credit card (automatic)</td>\n",
       "      <td>1</td>\n",
       "    </tr>\n",
       "    <tr>\n",
       "      <th>3258</th>\n",
       "      <td>72</td>\n",
       "      <td>24.85</td>\n",
       "      <td>1871.85</td>\n",
       "      <td>Female</td>\n",
       "      <td>0</td>\n",
       "      <td>Yes</td>\n",
       "      <td>No</td>\n",
       "      <td>Yes</td>\n",
       "      <td>Yes</td>\n",
       "      <td>No</td>\n",
       "      <td>No internet service</td>\n",
       "      <td>No internet service</td>\n",
       "      <td>No internet service</td>\n",
       "      <td>No internet service</td>\n",
       "      <td>No internet service</td>\n",
       "      <td>No internet service</td>\n",
       "      <td>Two year</td>\n",
       "      <td>No</td>\n",
       "      <td>Credit card (automatic)</td>\n",
       "      <td>0</td>\n",
       "    </tr>\n",
       "    <tr>\n",
       "      <th>2162</th>\n",
       "      <td>72</td>\n",
       "      <td>118.20</td>\n",
       "      <td>8547.15</td>\n",
       "      <td>Male</td>\n",
       "      <td>0</td>\n",
       "      <td>No</td>\n",
       "      <td>No</td>\n",
       "      <td>Yes</td>\n",
       "      <td>Yes</td>\n",
       "      <td>Fiber optic</td>\n",
       "      <td>Yes</td>\n",
       "      <td>Yes</td>\n",
       "      <td>Yes</td>\n",
       "      <td>Yes</td>\n",
       "      <td>Yes</td>\n",
       "      <td>Yes</td>\n",
       "      <td>Two year</td>\n",
       "      <td>Yes</td>\n",
       "      <td>Electronic check</td>\n",
       "      <td>0</td>\n",
       "    </tr>\n",
       "    <tr>\n",
       "      <th>1895</th>\n",
       "      <td>72</td>\n",
       "      <td>80.45</td>\n",
       "      <td>5737.6</td>\n",
       "      <td>Female</td>\n",
       "      <td>0</td>\n",
       "      <td>Yes</td>\n",
       "      <td>No</td>\n",
       "      <td>Yes</td>\n",
       "      <td>Yes</td>\n",
       "      <td>Fiber optic</td>\n",
       "      <td>Yes</td>\n",
       "      <td>No</td>\n",
       "      <td>No</td>\n",
       "      <td>No</td>\n",
       "      <td>No</td>\n",
       "      <td>No</td>\n",
       "      <td>Two year</td>\n",
       "      <td>No</td>\n",
       "      <td>Bank transfer (automatic)</td>\n",
       "      <td>0</td>\n",
       "    </tr>\n",
       "    <tr>\n",
       "      <th>3237</th>\n",
       "      <td>12</td>\n",
       "      <td>59.80</td>\n",
       "      <td>727.8</td>\n",
       "      <td>Male</td>\n",
       "      <td>0</td>\n",
       "      <td>No</td>\n",
       "      <td>No</td>\n",
       "      <td>Yes</td>\n",
       "      <td>No</td>\n",
       "      <td>DSL</td>\n",
       "      <td>No</td>\n",
       "      <td>No</td>\n",
       "      <td>No</td>\n",
       "      <td>Yes</td>\n",
       "      <td>Yes</td>\n",
       "      <td>No</td>\n",
       "      <td>One year</td>\n",
       "      <td>Yes</td>\n",
       "      <td>Electronic check</td>\n",
       "      <td>1</td>\n",
       "    </tr>\n",
       "    <tr>\n",
       "      <th>1619</th>\n",
       "      <td>38</td>\n",
       "      <td>83.45</td>\n",
       "      <td>3147.15</td>\n",
       "      <td>Female</td>\n",
       "      <td>1</td>\n",
       "      <td>Yes</td>\n",
       "      <td>No</td>\n",
       "      <td>Yes</td>\n",
       "      <td>No</td>\n",
       "      <td>Fiber optic</td>\n",
       "      <td>Yes</td>\n",
       "      <td>No</td>\n",
       "      <td>No</td>\n",
       "      <td>No</td>\n",
       "      <td>No</td>\n",
       "      <td>Yes</td>\n",
       "      <td>Month-to-month</td>\n",
       "      <td>Yes</td>\n",
       "      <td>Electronic check</td>\n",
       "      <td>0</td>\n",
       "    </tr>\n",
       "    <tr>\n",
       "      <th>4296</th>\n",
       "      <td>65</td>\n",
       "      <td>71.00</td>\n",
       "      <td>4386.2</td>\n",
       "      <td>Female</td>\n",
       "      <td>0</td>\n",
       "      <td>Yes</td>\n",
       "      <td>No</td>\n",
       "      <td>Yes</td>\n",
       "      <td>No</td>\n",
       "      <td>DSL</td>\n",
       "      <td>Yes</td>\n",
       "      <td>Yes</td>\n",
       "      <td>Yes</td>\n",
       "      <td>No</td>\n",
       "      <td>No</td>\n",
       "      <td>Yes</td>\n",
       "      <td>Two year</td>\n",
       "      <td>No</td>\n",
       "      <td>Bank transfer (automatic)</td>\n",
       "      <td>0</td>\n",
       "    </tr>\n",
       "  </tbody>\n",
       "</table>\n",
       "</div>"
      ],
      "text/plain": [
       "      ClientPeriod  MonthlySpending TotalSpent     Sex  IsSeniorCitizen  \\\n",
       "402              3            75.10      270.7  Female                0   \n",
       "655             19            89.65    1761.05  Female                0   \n",
       "1414            46            85.00     3969.4    Male                1   \n",
       "3899            16            89.45    1430.25  Female                0   \n",
       "3258            72            24.85    1871.85  Female                0   \n",
       "2162            72           118.20    8547.15    Male                0   \n",
       "1895            72            80.45     5737.6  Female                0   \n",
       "3237            12            59.80      727.8    Male                0   \n",
       "1619            38            83.45    3147.15  Female                1   \n",
       "4296            65            71.00     4386.2  Female                0   \n",
       "\n",
       "     HasPartner HasChild HasPhoneService HasMultiplePhoneNumbers  \\\n",
       "402          No       No             Yes                     Yes   \n",
       "655         Yes       No             Yes                     Yes   \n",
       "1414         No       No             Yes                      No   \n",
       "3899        Yes      Yes             Yes                      No   \n",
       "3258        Yes       No             Yes                     Yes   \n",
       "2162         No       No             Yes                     Yes   \n",
       "1895        Yes       No             Yes                     Yes   \n",
       "3237         No       No             Yes                      No   \n",
       "1619        Yes       No             Yes                      No   \n",
       "4296        Yes       No             Yes                      No   \n",
       "\n",
       "     HasInternetService HasOnlineSecurityService      HasOnlineBackup  \\\n",
       "402         Fiber optic                       No                   No   \n",
       "655         Fiber optic                       No                   No   \n",
       "1414        Fiber optic                      Yes                   No   \n",
       "3899        Fiber optic                       No                  Yes   \n",
       "3258                 No      No internet service  No internet service   \n",
       "2162        Fiber optic                      Yes                  Yes   \n",
       "1895        Fiber optic                      Yes                   No   \n",
       "3237                DSL                       No                   No   \n",
       "1619        Fiber optic                      Yes                   No   \n",
       "4296                DSL                      Yes                  Yes   \n",
       "\n",
       "      HasDeviceProtection HasTechSupportAccess          HasOnlineTV  \\\n",
       "402                    No                   No                   No   \n",
       "655                   Yes                   No                   No   \n",
       "1414                   No                   No                   No   \n",
       "3899                  Yes                   No                  Yes   \n",
       "3258  No internet service  No internet service  No internet service   \n",
       "2162                  Yes                  Yes                  Yes   \n",
       "1895                   No                   No                   No   \n",
       "3237                   No                  Yes                  Yes   \n",
       "1619                   No                   No                   No   \n",
       "4296                  Yes                   No                   No   \n",
       "\n",
       "     HasMovieSubscription HasContractPhone IsBillingPaperless  \\\n",
       "402                    No   Month-to-month                Yes   \n",
       "655                   Yes   Month-to-month                 No   \n",
       "1414                  Yes   Month-to-month                 No   \n",
       "3899                   No   Month-to-month                Yes   \n",
       "3258  No internet service         Two year                 No   \n",
       "2162                  Yes         Two year                Yes   \n",
       "1895                   No         Two year                 No   \n",
       "3237                   No         One year                Yes   \n",
       "1619                  Yes   Month-to-month                Yes   \n",
       "4296                  Yes         Two year                 No   \n",
       "\n",
       "                  PaymentMethod  Churn  \n",
       "402     Credit card (automatic)      1  \n",
       "655                Mailed check      1  \n",
       "1414           Electronic check      1  \n",
       "3899    Credit card (automatic)      1  \n",
       "3258    Credit card (automatic)      0  \n",
       "2162           Electronic check      0  \n",
       "1895  Bank transfer (automatic)      0  \n",
       "3237           Electronic check      1  \n",
       "1619           Electronic check      0  \n",
       "4296  Bank transfer (automatic)      0  "
      ]
     },
     "execution_count": 6,
     "metadata": {},
     "output_type": "execute_result"
    }
   ],
   "source": [
    "# Задание 1.1 \"случайные строки\"\n",
    "data.sample(10)"
   ]
  },
  {
   "cell_type": "code",
   "execution_count": 7,
   "metadata": {},
   "outputs": [],
   "source": [
    "# Удалим дублирующие строки так как они не дают новых знаний для модели\n",
    "data.drop_duplicates(inplace=True)"
   ]
  },
  {
   "cell_type": "code",
   "execution_count": 8,
   "metadata": {},
   "outputs": [
    {
     "name": "stdout",
     "output_type": "stream",
     "text": [
      "<class 'pandas.core.frame.DataFrame'>\n",
      "Int64Index: 5268 entries, 0 to 5281\n",
      "Data columns (total 3 columns):\n",
      " #   Column           Non-Null Count  Dtype  \n",
      "---  ------           --------------  -----  \n",
      " 0   ClientPeriod     5268 non-null   int64  \n",
      " 1   MonthlySpending  5268 non-null   float64\n",
      " 2   TotalSpent       5268 non-null   object \n",
      "dtypes: float64(1), int64(1), object(1)\n",
      "memory usage: 164.6+ KB\n"
     ]
    }
   ],
   "source": [
    "# Проверяем только числовые признаки, ожидаем что тип данных для каждого из них будет числовой\n",
    "data[num_cols].info()"
   ]
  },
  {
   "cell_type": "markdown",
   "metadata": {},
   "source": [
    "## Заметка 1\n",
    "Как мы видим, для признака \"TotalSpent\" тип данных оказался \"object\" это может говорить о том, что внутри него есть строки, которые \n",
    "не могут быть конвертированы к числовым. Напишим метод, который выведет строки, которые не могут быть конвертированы к числу."
   ]
  },
  {
   "cell_type": "code",
   "execution_count": 9,
   "metadata": {},
   "outputs": [
    {
     "name": "stdout",
     "output_type": "stream",
     "text": [
      "[' ', ' ', ' ', ' ', ' ', ' ', ' ', ' ', ' ']\n"
     ]
    }
   ],
   "source": [
    "def get_non_numeric_rows(row):\n",
    "    try:\n",
    "        float(row)\n",
    "        return True\n",
    "    except:\n",
    "        return False\n",
    "\n",
    "print(data[~data[\"TotalSpent\"].apply(get_non_numeric_rows)][\"TotalSpent\"].to_list())"
   ]
  },
  {
   "cell_type": "markdown",
   "metadata": {},
   "source": [
    "## Заметка 2\n",
    "В признаке \"TotalSpent\" у нас есть пропущенные значения. Заменим данные значения на None так как с данным типом данных умеют работать различные скейлеры."
   ]
  },
  {
   "cell_type": "code",
   "execution_count": 10,
   "metadata": {},
   "outputs": [],
   "source": [
    "# Заменим все строковые значения, которые не можем преобразовать в None, так как их можно потом обрабатывать стандартными методами\n",
    "data[\"TotalSpent\"] = data[\"TotalSpent\"].apply(lambda x: None if x == \" \" else float(x))"
   ]
  },
  {
   "cell_type": "markdown",
   "metadata": {},
   "source": [
    "# Задание 1.2 Количество Nan в каждой из колонок."
   ]
  },
  {
   "cell_type": "code",
   "execution_count": 11,
   "metadata": {},
   "outputs": [
    {
     "data": {
      "text/plain": [
       "ClientPeriod                0\n",
       "MonthlySpending             0\n",
       "TotalSpent                  9\n",
       "Sex                         0\n",
       "IsSeniorCitizen             0\n",
       "HasPartner                  0\n",
       "HasChild                    0\n",
       "HasPhoneService             0\n",
       "HasMultiplePhoneNumbers     0\n",
       "HasInternetService          0\n",
       "HasOnlineSecurityService    0\n",
       "HasOnlineBackup             0\n",
       "HasDeviceProtection         0\n",
       "HasTechSupportAccess        0\n",
       "HasOnlineTV                 0\n",
       "HasMovieSubscription        0\n",
       "HasContractPhone            0\n",
       "IsBillingPaperless          0\n",
       "PaymentMethod               0\n",
       "Churn                       0\n",
       "dtype: int64"
      ]
     },
     "execution_count": 11,
     "metadata": {},
     "output_type": "execute_result"
    }
   ],
   "source": [
    "data.isnull().sum()"
   ]
  },
  {
   "cell_type": "markdown",
   "metadata": {
    "id": "dK370bPCEEZD"
   },
   "source": [
    "## Анализ данных (3 балла)\n",
    "\n",
    "1) Для численных призанков постройте гистограмму (*plt.hist(...)*) или boxplot (*plt.boxplot(...)*). Для категориальных посчитайте количество каждого значения для каждого признака. Для каждой колонки надо сделать *data.value_counts()* и построить bar диаграммы *plt.bar(...)* или круговые диаграммы *plt.pie(...)* (хорошо, елси вы сможете это сделать на одном гарфике с помощью *plt.subplots(...)*). \n",
    "\n",
    "2) Посмотрите на распределение целевой переменной и скажите, являются ли классы несбалансированными.\n",
    "\n",
    "3) (Если будет желание) Поиграйте с разными библиотеками для визуализации - *sns*, *pandas_visual_analysis*, etc.\n",
    "\n",
    "Второй пункт очень важен, потому что существуют задачи классификации с несбалансированными классами. Например, это может значить, что в датасете намного больше примеров 0 класса. В таких случаях нужно 1) не использовать accuracy как метрику 2) использовать методы борьбы с imbalanced dataset (обычно если датасет сильно несбалансирован, т.е. класса 1 в 20 раз меньше класса 0)."
   ]
  },
  {
   "cell_type": "markdown",
   "metadata": {},
   "source": [
    "# Задание 2.1.1 Построение гистограмм для числовых признаков."
   ]
  },
  {
   "cell_type": "code",
   "execution_count": 12,
   "metadata": {
    "id": "NZkbgFJZEEZE"
   },
   "outputs": [
    {
     "data": {
      "image/png": "[encoded data removed]",
      "text/plain": [
       "<Figure size 1296x360 with 3 Axes>"
      ]
     },
     "metadata": {
      "needs_background": "light"
     },
     "output_type": "display_data"
    }
   ],
   "source": [
    "# Гистограммы для числовых признаков\n",
    "fig, ax = plt.subplots(1, ncols=3, figsize=(18,5))\n",
    "fig.set_tight_layout(tight=True)\n",
    "for i, num_col in enumerate(num_cols):\n",
    "    ax[i].hist(data[num_col], bins=30)\n",
    "    ax[i].set_title(num_col)\n",
    "    ax[i].set_ylabel('count')"
   ]
  },
  {
   "cell_type": "markdown",
   "metadata": {},
   "source": [
    "## Заметка 3\n",
    "Как видно для стобца \"ClientPeriod\" есть очень много данных по краям и равномерное распределение между ними. Для столбца \"MonthlySpending\" достаточно много данных в со значением в районе 20\n",
    "и аналогичная картина для столбца \"TotalSpent\". Одним из способов, которые могут улучшить модели, можно будет добавить категориальные фичи, которые будут показывать в каком конце гистограммы находятся фичи."
   ]
  },
  {
   "cell_type": "markdown",
   "metadata": {},
   "source": [
    "# Задание 2.1.2 Гистограммы для категориальных признаков"
   ]
  },
  {
   "cell_type": "code",
   "execution_count": 13,
   "metadata": {},
   "outputs": [
    {
     "data": {
      "image/png": "[encoded data removed]",
      "text/plain": [
       "<Figure size 1440x1440 with 16 Axes>"
      ]
     },
     "metadata": {
      "needs_background": "light"
     },
     "output_type": "display_data"
    }
   ],
   "source": [
    "fig, ax = plt.subplots(4, ncols=4, figsize=(20,20))\n",
    "for i in range(len(cat_cols)):\n",
    "    data[cat_cols[i]].value_counts().plot(kind='bar', ax=ax[i%4][i//4]).set_title(cat_cols[i])\n",
    "    ax[i%4][i//4].set_xticks(ax[i%4][i//4].get_xticks(), ax[i%4][i//4].get_xticklabels(), rotation=45, ha='right')\n",
    "\n",
    "plt.subplots_adjust(left=0.1,\n",
    "                    bottom=0.1, \n",
    "                    right=0.9, \n",
    "                    top=0.9, \n",
    "                    wspace=0.4, \n",
    "                    hspace=0.6)\n",
    "fig.show()"
   ]
  },
  {
   "cell_type": "markdown",
   "metadata": {
    "id": "fwfksF1gEEZI"
   },
   "source": [
    "## Заметка 4\n",
    "Для некоторых категориальных признаков, присутсвует довольно сильный дисбаланс, например для признаков \"HasPhoneService\" и \"IsSeniorCitizen\""
   ]
  },
  {
   "cell_type": "markdown",
   "metadata": {},
   "source": [
    "# Задание 2.2 Построение распределения целевой метрики."
   ]
  },
  {
   "cell_type": "code",
   "execution_count": 14,
   "metadata": {},
   "outputs": [
    {
     "data": {
      "text/plain": [
       "Text(0.5, 1.0, 'Churn')"
      ]
     },
     "execution_count": 14,
     "metadata": {},
     "output_type": "execute_result"
    },
    {
     "data": {
      "image/png": "[encoded data removed]",
      "text/plain": [
       "<Figure size 432x288 with 1 Axes>"
      ]
     },
     "metadata": {
      "needs_background": "light"
     },
     "output_type": "display_data"
    }
   ],
   "source": [
    "data[target_col].value_counts().plot(kind='bar').set_title(target_col)"
   ]
  },
  {
   "cell_type": "code",
   "execution_count": 15,
   "metadata": {},
   "outputs": [
    {
     "name": "stdout",
     "output_type": "stream",
     "text": [
      "1: 26%\n",
      "0: 73%\n"
     ]
    }
   ],
   "source": [
    "churn_values = data[target_col].value_counts().reset_index().to_dict()[\"Churn\"]\n",
    "print(f\"1: {int(churn_values[1]/(churn_values[0]+churn_values[1])*100)}%\")\n",
    "print(f\"0: {int(churn_values[0]/(churn_values[0]+churn_values[1])*100)}%\")"
   ]
  },
  {
   "cell_type": "markdown",
   "metadata": {},
   "source": [
    "## Заметка 5\n",
    "\n",
    "Как мы видим соотнешение классов 26% к 73% что позволяет нам говорить о том, что выборка не сбалансированная."
   ]
  },
  {
   "cell_type": "markdown",
   "metadata": {
    "id": "zg60u3QDEEZH"
   },
   "source": [
    "(Дополнительно) Если вы нашли какие-то ошибки в данных или выбросы, то можете их убрать. Тут можно поэксперементировать с обработкой данных как угодно, но не за баллы."
   ]
  },
  {
   "cell_type": "markdown",
   "metadata": {
    "id": "DviiJd8REEZK"
   },
   "source": [
    "## Применение линейных моделей (3 балла)\n",
    "\n",
    "1) Обработайте данные для того, чтобы к ним можно было применить LogisticRegression. Т.е. отнормируйте числовые признаки, а категориальные закодируйте с помощью one-hot-encoding'а. \n",
    "\n",
    "2) С помощью кроссвалидации или разделения на train/valid выборку протестируйте разные значения гиперпараметра C и выберите лучший (можно тестировать С=100, 10, 1, 0.1, 0.01, 0.001) по метрике ROC-AUC. \n",
    "\n",
    "Если вы разделяете на train/valid, то используйте LogisticRegressionCV. Он сам при вызове .fit() подберет параметр С. (не забудьте передать scroing='roc_auc', чтобы при кроссвалидации сравнивались значения этой метрики, и refit=True, чтобы при потом модель обучилась на всем датасете с лучшим параметром C). \n",
    "\n",
    "\n",
    "(более сложный вариант) Если вы будете использовать кроссвалидацию, то преобразования данных и LogisticRegression нужно соединить в один Pipeline с помощью make_pipeline, как это делалось во втором семинаре. Потом pipeline надо передать в GridSearchCV. Для one-hot-encoding'a можно испльзовать комбинацию LabelEncoder + OneHotEncoder (сначала превращаем строчки в числа, а потом числа првращаем в one-hot вектора.)"
   ]
  },
  {
   "cell_type": "code",
   "execution_count": 16,
   "metadata": {
    "id": "P2Yv3uYtEEZO"
   },
   "outputs": [
    {
     "name": "stderr",
     "output_type": "stream",
     "text": [
      "/Users/antoneremin/Documents/JupyterNotebooks/python/lib/python3.10/site-packages/sklearn/svm/_base.py:1244: ConvergenceWarning: Liblinear failed to converge, increase the number of iterations.\n",
      "  warnings.warn(\n",
      "/Users/antoneremin/Documents/JupyterNotebooks/python/lib/python3.10/site-packages/sklearn/svm/_base.py:1244: ConvergenceWarning: Liblinear failed to converge, increase the number of iterations.\n",
      "  warnings.warn(\n",
      "/Users/antoneremin/Documents/JupyterNotebooks/python/lib/python3.10/site-packages/sklearn/svm/_base.py:1244: ConvergenceWarning: Liblinear failed to converge, increase the number of iterations.\n",
      "  warnings.warn(\n",
      "/Users/antoneremin/Documents/JupyterNotebooks/python/lib/python3.10/site-packages/sklearn/svm/_base.py:1244: ConvergenceWarning: Liblinear failed to converge, increase the number of iterations.\n",
      "  warnings.warn(\n",
      "/Users/antoneremin/Documents/JupyterNotebooks/python/lib/python3.10/site-packages/sklearn/svm/_base.py:1244: ConvergenceWarning: Liblinear failed to converge, increase the number of iterations.\n",
      "  warnings.warn(\n",
      "/Users/antoneremin/Documents/JupyterNotebooks/python/lib/python3.10/site-packages/sklearn/svm/_base.py:1244: ConvergenceWarning: Liblinear failed to converge, increase the number of iterations.\n",
      "  warnings.warn(\n",
      "/Users/antoneremin/Documents/JupyterNotebooks/python/lib/python3.10/site-packages/sklearn/svm/_base.py:1244: ConvergenceWarning: Liblinear failed to converge, increase the number of iterations.\n",
      "  warnings.warn(\n",
      "/Users/antoneremin/Documents/JupyterNotebooks/python/lib/python3.10/site-packages/sklearn/svm/_base.py:1244: ConvergenceWarning: Liblinear failed to converge, increase the number of iterations.\n",
      "  warnings.warn(\n",
      "/Users/antoneremin/Documents/JupyterNotebooks/python/lib/python3.10/site-packages/sklearn/svm/_base.py:1244: ConvergenceWarning: Liblinear failed to converge, increase the number of iterations.\n",
      "  warnings.warn(\n",
      "/Users/antoneremin/Documents/JupyterNotebooks/python/lib/python3.10/site-packages/sklearn/svm/_base.py:1244: ConvergenceWarning: Liblinear failed to converge, increase the number of iterations.\n",
      "  warnings.warn(\n",
      "/Users/antoneremin/Documents/JupyterNotebooks/python/lib/python3.10/site-packages/sklearn/svm/_base.py:1244: ConvergenceWarning: Liblinear failed to converge, increase the number of iterations.\n",
      "  warnings.warn(\n",
      "/Users/antoneremin/Documents/JupyterNotebooks/python/lib/python3.10/site-packages/sklearn/svm/_base.py:1244: ConvergenceWarning: Liblinear failed to converge, increase the number of iterations.\n",
      "  warnings.warn(\n",
      "/Users/antoneremin/Documents/JupyterNotebooks/python/lib/python3.10/site-packages/sklearn/svm/_base.py:1244: ConvergenceWarning: Liblinear failed to converge, increase the number of iterations.\n",
      "  warnings.warn(\n",
      "/Users/antoneremin/Documents/JupyterNotebooks/python/lib/python3.10/site-packages/sklearn/svm/_base.py:1244: ConvergenceWarning: Liblinear failed to converge, increase the number of iterations.\n",
      "  warnings.warn(\n",
      "/Users/antoneremin/Documents/JupyterNotebooks/python/lib/python3.10/site-packages/sklearn/svm/_base.py:1244: ConvergenceWarning: Liblinear failed to converge, increase the number of iterations.\n",
      "  warnings.warn(\n",
      "/Users/antoneremin/Documents/JupyterNotebooks/python/lib/python3.10/site-packages/sklearn/svm/_base.py:1244: ConvergenceWarning: Liblinear failed to converge, increase the number of iterations.\n",
      "  warnings.warn(\n",
      "/Users/antoneremin/Documents/JupyterNotebooks/python/lib/python3.10/site-packages/sklearn/svm/_base.py:1244: ConvergenceWarning: Liblinear failed to converge, increase the number of iterations.\n",
      "  warnings.warn(\n",
      "/Users/antoneremin/Documents/JupyterNotebooks/python/lib/python3.10/site-packages/sklearn/svm/_base.py:1244: ConvergenceWarning: Liblinear failed to converge, increase the number of iterations.\n",
      "  warnings.warn(\n",
      "/Users/antoneremin/Documents/JupyterNotebooks/python/lib/python3.10/site-packages/sklearn/svm/_base.py:1244: ConvergenceWarning: Liblinear failed to converge, increase the number of iterations.\n",
      "  warnings.warn(\n",
      "/Users/antoneremin/Documents/JupyterNotebooks/python/lib/python3.10/site-packages/sklearn/svm/_base.py:1244: ConvergenceWarning: Liblinear failed to converge, increase the number of iterations.\n",
      "  warnings.warn(\n",
      "/Users/antoneremin/Documents/JupyterNotebooks/python/lib/python3.10/site-packages/sklearn/svm/_base.py:1244: ConvergenceWarning: Liblinear failed to converge, increase the number of iterations.\n",
      "  warnings.warn(\n",
      "/Users/antoneremin/Documents/JupyterNotebooks/python/lib/python3.10/site-packages/sklearn/svm/_base.py:1244: ConvergenceWarning: Liblinear failed to converge, increase the number of iterations.\n",
      "  warnings.warn(\n",
      "/Users/antoneremin/Documents/JupyterNotebooks/python/lib/python3.10/site-packages/sklearn/svm/_base.py:1244: ConvergenceWarning: Liblinear failed to converge, increase the number of iterations.\n",
      "  warnings.warn(\n",
      "/Users/antoneremin/Documents/JupyterNotebooks/python/lib/python3.10/site-packages/sklearn/svm/_base.py:1244: ConvergenceWarning: Liblinear failed to converge, increase the number of iterations.\n",
      "  warnings.warn(\n",
      "/Users/antoneremin/Documents/JupyterNotebooks/python/lib/python3.10/site-packages/sklearn/svm/_base.py:1244: ConvergenceWarning: Liblinear failed to converge, increase the number of iterations.\n",
      "  warnings.warn(\n",
      "/Users/antoneremin/Documents/JupyterNotebooks/python/lib/python3.10/site-packages/sklearn/svm/_base.py:1244: ConvergenceWarning: Liblinear failed to converge, increase the number of iterations.\n",
      "  warnings.warn(\n",
      "/Users/antoneremin/Documents/JupyterNotebooks/python/lib/python3.10/site-packages/sklearn/svm/_base.py:1244: ConvergenceWarning: Liblinear failed to converge, increase the number of iterations.\n",
      "  warnings.warn(\n",
      "/Users/antoneremin/Documents/JupyterNotebooks/python/lib/python3.10/site-packages/sklearn/svm/_base.py:1244: ConvergenceWarning: Liblinear failed to converge, increase the number of iterations.\n",
      "  warnings.warn(\n",
      "/Users/antoneremin/Documents/JupyterNotebooks/python/lib/python3.10/site-packages/sklearn/svm/_base.py:1244: ConvergenceWarning: Liblinear failed to converge, increase the number of iterations.\n",
      "  warnings.warn(\n",
      "/Users/antoneremin/Documents/JupyterNotebooks/python/lib/python3.10/site-packages/sklearn/svm/_base.py:1244: ConvergenceWarning: Liblinear failed to converge, increase the number of iterations.\n",
      "  warnings.warn(\n",
      "/Users/antoneremin/Documents/JupyterNotebooks/python/lib/python3.10/site-packages/sklearn/svm/_base.py:1244: ConvergenceWarning: Liblinear failed to converge, increase the number of iterations.\n",
      "  warnings.warn(\n",
      "/Users/antoneremin/Documents/JupyterNotebooks/python/lib/python3.10/site-packages/sklearn/svm/_base.py:1244: ConvergenceWarning: Liblinear failed to converge, increase the number of iterations.\n",
      "  warnings.warn(\n",
      "/Users/antoneremin/Documents/JupyterNotebooks/python/lib/python3.10/site-packages/sklearn/svm/_base.py:1244: ConvergenceWarning: Liblinear failed to converge, increase the number of iterations.\n",
      "  warnings.warn(\n",
      "/Users/antoneremin/Documents/JupyterNotebooks/python/lib/python3.10/site-packages/sklearn/svm/_base.py:1244: ConvergenceWarning: Liblinear failed to converge, increase the number of iterations.\n",
      "  warnings.warn(\n",
      "/Users/antoneremin/Documents/JupyterNotebooks/python/lib/python3.10/site-packages/sklearn/svm/_base.py:1244: ConvergenceWarning: Liblinear failed to converge, increase the number of iterations.\n",
      "  warnings.warn(\n",
      "/Users/antoneremin/Documents/JupyterNotebooks/python/lib/python3.10/site-packages/sklearn/svm/_base.py:1244: ConvergenceWarning: Liblinear failed to converge, increase the number of iterations.\n",
      "  warnings.warn(\n",
      "/Users/antoneremin/Documents/JupyterNotebooks/python/lib/python3.10/site-packages/sklearn/svm/_base.py:1244: ConvergenceWarning: Liblinear failed to converge, increase the number of iterations.\n",
      "  warnings.warn(\n",
      "/Users/antoneremin/Documents/JupyterNotebooks/python/lib/python3.10/site-packages/sklearn/svm/_base.py:1244: ConvergenceWarning: Liblinear failed to converge, increase the number of iterations.\n",
      "  warnings.warn(\n",
      "/Users/antoneremin/Documents/JupyterNotebooks/python/lib/python3.10/site-packages/sklearn/svm/_base.py:1244: ConvergenceWarning: Liblinear failed to converge, increase the number of iterations.\n",
      "  warnings.warn(\n",
      "/Users/antoneremin/Documents/JupyterNotebooks/python/lib/python3.10/site-packages/sklearn/svm/_base.py:1244: ConvergenceWarning: Liblinear failed to converge, increase the number of iterations.\n",
      "  warnings.warn(\n",
      "/Users/antoneremin/Documents/JupyterNotebooks/python/lib/python3.10/site-packages/sklearn/svm/_base.py:1244: ConvergenceWarning: Liblinear failed to converge, increase the number of iterations.\n",
      "  warnings.warn(\n",
      "/Users/antoneremin/Documents/JupyterNotebooks/python/lib/python3.10/site-packages/sklearn/svm/_base.py:1244: ConvergenceWarning: Liblinear failed to converge, increase the number of iterations.\n",
      "  warnings.warn(\n",
      "/Users/antoneremin/Documents/JupyterNotebooks/python/lib/python3.10/site-packages/sklearn/svm/_base.py:1244: ConvergenceWarning: Liblinear failed to converge, increase the number of iterations.\n",
      "  warnings.warn(\n",
      "/Users/antoneremin/Documents/JupyterNotebooks/python/lib/python3.10/site-packages/sklearn/svm/_base.py:1244: ConvergenceWarning: Liblinear failed to converge, increase the number of iterations.\n",
      "  warnings.warn(\n",
      "/Users/antoneremin/Documents/JupyterNotebooks/python/lib/python3.10/site-packages/sklearn/svm/_base.py:1244: ConvergenceWarning: Liblinear failed to converge, increase the number of iterations.\n",
      "  warnings.warn(\n",
      "/Users/antoneremin/Documents/JupyterNotebooks/python/lib/python3.10/site-packages/sklearn/svm/_base.py:1244: ConvergenceWarning: Liblinear failed to converge, increase the number of iterations.\n",
      "  warnings.warn(\n",
      "/Users/antoneremin/Documents/JupyterNotebooks/python/lib/python3.10/site-packages/sklearn/svm/_base.py:1244: ConvergenceWarning: Liblinear failed to converge, increase the number of iterations.\n",
      "  warnings.warn(\n",
      "/Users/antoneremin/Documents/JupyterNotebooks/python/lib/python3.10/site-packages/sklearn/svm/_base.py:1244: ConvergenceWarning: Liblinear failed to converge, increase the number of iterations.\n",
      "  warnings.warn(\n",
      "/Users/antoneremin/Documents/JupyterNotebooks/python/lib/python3.10/site-packages/sklearn/svm/_base.py:1244: ConvergenceWarning: Liblinear failed to converge, increase the number of iterations.\n",
      "  warnings.warn(\n",
      "/Users/antoneremin/Documents/JupyterNotebooks/python/lib/python3.10/site-packages/sklearn/svm/_base.py:1244: ConvergenceWarning: Liblinear failed to converge, increase the number of iterations.\n",
      "  warnings.warn(\n",
      "/Users/antoneremin/Documents/JupyterNotebooks/python/lib/python3.10/site-packages/sklearn/svm/_base.py:1244: ConvergenceWarning: Liblinear failed to converge, increase the number of iterations.\n",
      "  warnings.warn(\n",
      "/Users/antoneremin/Documents/JupyterNotebooks/python/lib/python3.10/site-packages/sklearn/svm/_base.py:1244: ConvergenceWarning: Liblinear failed to converge, increase the number of iterations.\n",
      "  warnings.warn(\n",
      "/Users/antoneremin/Documents/JupyterNotebooks/python/lib/python3.10/site-packages/sklearn/svm/_base.py:1244: ConvergenceWarning: Liblinear failed to converge, increase the number of iterations.\n",
      "  warnings.warn(\n",
      "/Users/antoneremin/Documents/JupyterNotebooks/python/lib/python3.10/site-packages/sklearn/svm/_base.py:1244: ConvergenceWarning: Liblinear failed to converge, increase the number of iterations.\n",
      "  warnings.warn(\n",
      "/Users/antoneremin/Documents/JupyterNotebooks/python/lib/python3.10/site-packages/sklearn/svm/_base.py:1244: ConvergenceWarning: Liblinear failed to converge, increase the number of iterations.\n",
      "  warnings.warn(\n",
      "/Users/antoneremin/Documents/JupyterNotebooks/python/lib/python3.10/site-packages/sklearn/svm/_base.py:1244: ConvergenceWarning: Liblinear failed to converge, increase the number of iterations.\n",
      "  warnings.warn(\n",
      "/Users/antoneremin/Documents/JupyterNotebooks/python/lib/python3.10/site-packages/sklearn/svm/_base.py:1244: ConvergenceWarning: Liblinear failed to converge, increase the number of iterations.\n",
      "  warnings.warn(\n",
      "/Users/antoneremin/Documents/JupyterNotebooks/python/lib/python3.10/site-packages/sklearn/svm/_base.py:1244: ConvergenceWarning: Liblinear failed to converge, increase the number of iterations.\n",
      "  warnings.warn(\n",
      "/Users/antoneremin/Documents/JupyterNotebooks/python/lib/python3.10/site-packages/sklearn/svm/_base.py:1244: ConvergenceWarning: Liblinear failed to converge, increase the number of iterations.\n",
      "  warnings.warn(\n",
      "/Users/antoneremin/Documents/JupyterNotebooks/python/lib/python3.10/site-packages/sklearn/svm/_base.py:1244: ConvergenceWarning: Liblinear failed to converge, increase the number of iterations.\n",
      "  warnings.warn(\n",
      "/Users/antoneremin/Documents/JupyterNotebooks/python/lib/python3.10/site-packages/sklearn/svm/_base.py:1244: ConvergenceWarning: Liblinear failed to converge, increase the number of iterations.\n",
      "  warnings.warn(\n",
      "/Users/antoneremin/Documents/JupyterNotebooks/python/lib/python3.10/site-packages/sklearn/svm/_base.py:1244: ConvergenceWarning: Liblinear failed to converge, increase the number of iterations.\n",
      "  warnings.warn(\n",
      "/Users/antoneremin/Documents/JupyterNotebooks/python/lib/python3.10/site-packages/sklearn/svm/_base.py:1244: ConvergenceWarning: Liblinear failed to converge, increase the number of iterations.\n",
      "  warnings.warn(\n",
      "/Users/antoneremin/Documents/JupyterNotebooks/python/lib/python3.10/site-packages/sklearn/svm/_base.py:1244: ConvergenceWarning: Liblinear failed to converge, increase the number of iterations.\n",
      "  warnings.warn(\n",
      "/Users/antoneremin/Documents/JupyterNotebooks/python/lib/python3.10/site-packages/sklearn/svm/_base.py:1244: ConvergenceWarning: Liblinear failed to converge, increase the number of iterations.\n",
      "  warnings.warn(\n",
      "/Users/antoneremin/Documents/JupyterNotebooks/python/lib/python3.10/site-packages/sklearn/svm/_base.py:1244: ConvergenceWarning: Liblinear failed to converge, increase the number of iterations.\n",
      "  warnings.warn(\n",
      "/Users/antoneremin/Documents/JupyterNotebooks/python/lib/python3.10/site-packages/sklearn/svm/_base.py:1244: ConvergenceWarning: Liblinear failed to converge, increase the number of iterations.\n",
      "  warnings.warn(\n",
      "/Users/antoneremin/Documents/JupyterNotebooks/python/lib/python3.10/site-packages/sklearn/svm/_base.py:1244: ConvergenceWarning: Liblinear failed to converge, increase the number of iterations.\n",
      "  warnings.warn(\n",
      "/Users/antoneremin/Documents/JupyterNotebooks/python/lib/python3.10/site-packages/sklearn/svm/_base.py:1244: ConvergenceWarning: Liblinear failed to converge, increase the number of iterations.\n",
      "  warnings.warn(\n",
      "/Users/antoneremin/Documents/JupyterNotebooks/python/lib/python3.10/site-packages/sklearn/svm/_base.py:1244: ConvergenceWarning: Liblinear failed to converge, increase the number of iterations.\n",
      "  warnings.warn(\n",
      "/Users/antoneremin/Documents/JupyterNotebooks/python/lib/python3.10/site-packages/sklearn/svm/_base.py:1244: ConvergenceWarning: Liblinear failed to converge, increase the number of iterations.\n",
      "  warnings.warn(\n",
      "/Users/antoneremin/Documents/JupyterNotebooks/python/lib/python3.10/site-packages/sklearn/svm/_base.py:1244: ConvergenceWarning: Liblinear failed to converge, increase the number of iterations.\n",
      "  warnings.warn(\n",
      "/Users/antoneremin/Documents/JupyterNotebooks/python/lib/python3.10/site-packages/sklearn/svm/_base.py:1244: ConvergenceWarning: Liblinear failed to converge, increase the number of iterations.\n",
      "  warnings.warn(\n",
      "/Users/antoneremin/Documents/JupyterNotebooks/python/lib/python3.10/site-packages/sklearn/svm/_base.py:1244: ConvergenceWarning: Liblinear failed to converge, increase the number of iterations.\n",
      "  warnings.warn(\n",
      "/Users/antoneremin/Documents/JupyterNotebooks/python/lib/python3.10/site-packages/sklearn/svm/_base.py:1244: ConvergenceWarning: Liblinear failed to converge, increase the number of iterations.\n",
      "  warnings.warn(\n",
      "/Users/antoneremin/Documents/JupyterNotebooks/python/lib/python3.10/site-packages/sklearn/svm/_base.py:1244: ConvergenceWarning: Liblinear failed to converge, increase the number of iterations.\n",
      "  warnings.warn(\n",
      "/Users/antoneremin/Documents/JupyterNotebooks/python/lib/python3.10/site-packages/sklearn/svm/_base.py:1244: ConvergenceWarning: Liblinear failed to converge, increase the number of iterations.\n",
      "  warnings.warn(\n",
      "/Users/antoneremin/Documents/JupyterNotebooks/python/lib/python3.10/site-packages/sklearn/svm/_base.py:1244: ConvergenceWarning: Liblinear failed to converge, increase the number of iterations.\n",
      "  warnings.warn(\n",
      "/Users/antoneremin/Documents/JupyterNotebooks/python/lib/python3.10/site-packages/sklearn/svm/_base.py:1244: ConvergenceWarning: Liblinear failed to converge, increase the number of iterations.\n",
      "  warnings.warn(\n",
      "/Users/antoneremin/Documents/JupyterNotebooks/python/lib/python3.10/site-packages/sklearn/svm/_base.py:1244: ConvergenceWarning: Liblinear failed to converge, increase the number of iterations.\n",
      "  warnings.warn(\n",
      "/Users/antoneremin/Documents/JupyterNotebooks/python/lib/python3.10/site-packages/sklearn/svm/_base.py:1244: ConvergenceWarning: Liblinear failed to converge, increase the number of iterations.\n",
      "  warnings.warn(\n",
      "/Users/antoneremin/Documents/JupyterNotebooks/python/lib/python3.10/site-packages/sklearn/svm/_base.py:1244: ConvergenceWarning: Liblinear failed to converge, increase the number of iterations.\n",
      "  warnings.warn(\n",
      "/Users/antoneremin/Documents/JupyterNotebooks/python/lib/python3.10/site-packages/sklearn/svm/_base.py:1244: ConvergenceWarning: Liblinear failed to converge, increase the number of iterations.\n",
      "  warnings.warn(\n",
      "/Users/antoneremin/Documents/JupyterNotebooks/python/lib/python3.10/site-packages/sklearn/svm/_base.py:1244: ConvergenceWarning: Liblinear failed to converge, increase the number of iterations.\n",
      "  warnings.warn(\n",
      "/Users/antoneremin/Documents/JupyterNotebooks/python/lib/python3.10/site-packages/sklearn/svm/_base.py:1244: ConvergenceWarning: Liblinear failed to converge, increase the number of iterations.\n",
      "  warnings.warn(\n",
      "/Users/antoneremin/Documents/JupyterNotebooks/python/lib/python3.10/site-packages/sklearn/svm/_base.py:1244: ConvergenceWarning: Liblinear failed to converge, increase the number of iterations.\n",
      "  warnings.warn(\n",
      "/Users/antoneremin/Documents/JupyterNotebooks/python/lib/python3.10/site-packages/sklearn/svm/_base.py:1244: ConvergenceWarning: Liblinear failed to converge, increase the number of iterations.\n",
      "  warnings.warn(\n",
      "/Users/antoneremin/Documents/JupyterNotebooks/python/lib/python3.10/site-packages/sklearn/svm/_base.py:1244: ConvergenceWarning: Liblinear failed to converge, increase the number of iterations.\n",
      "  warnings.warn(\n",
      "/Users/antoneremin/Documents/JupyterNotebooks/python/lib/python3.10/site-packages/sklearn/svm/_base.py:1244: ConvergenceWarning: Liblinear failed to converge, increase the number of iterations.\n",
      "  warnings.warn(\n",
      "/Users/antoneremin/Documents/JupyterNotebooks/python/lib/python3.10/site-packages/sklearn/svm/_base.py:1244: ConvergenceWarning: Liblinear failed to converge, increase the number of iterations.\n",
      "  warnings.warn(\n",
      "/Users/antoneremin/Documents/JupyterNotebooks/python/lib/python3.10/site-packages/sklearn/svm/_base.py:1244: ConvergenceWarning: Liblinear failed to converge, increase the number of iterations.\n",
      "  warnings.warn(\n",
      "/Users/antoneremin/Documents/JupyterNotebooks/python/lib/python3.10/site-packages/sklearn/svm/_base.py:1244: ConvergenceWarning: Liblinear failed to converge, increase the number of iterations.\n",
      "  warnings.warn(\n",
      "/Users/antoneremin/Documents/JupyterNotebooks/python/lib/python3.10/site-packages/sklearn/svm/_base.py:1244: ConvergenceWarning: Liblinear failed to converge, increase the number of iterations.\n",
      "  warnings.warn(\n",
      "/Users/antoneremin/Documents/JupyterNotebooks/python/lib/python3.10/site-packages/sklearn/svm/_base.py:1244: ConvergenceWarning: Liblinear failed to converge, increase the number of iterations.\n",
      "  warnings.warn(\n",
      "/Users/antoneremin/Documents/JupyterNotebooks/python/lib/python3.10/site-packages/sklearn/svm/_base.py:1244: ConvergenceWarning: Liblinear failed to converge, increase the number of iterations.\n",
      "  warnings.warn(\n",
      "/Users/antoneremin/Documents/JupyterNotebooks/python/lib/python3.10/site-packages/sklearn/svm/_base.py:1244: ConvergenceWarning: Liblinear failed to converge, increase the number of iterations.\n",
      "  warnings.warn(\n",
      "/Users/antoneremin/Documents/JupyterNotebooks/python/lib/python3.10/site-packages/sklearn/svm/_base.py:1244: ConvergenceWarning: Liblinear failed to converge, increase the number of iterations.\n",
      "  warnings.warn(\n",
      "/Users/antoneremin/Documents/JupyterNotebooks/python/lib/python3.10/site-packages/sklearn/svm/_base.py:1244: ConvergenceWarning: Liblinear failed to converge, increase the number of iterations.\n",
      "  warnings.warn(\n",
      "/Users/antoneremin/Documents/JupyterNotebooks/python/lib/python3.10/site-packages/sklearn/svm/_base.py:1244: ConvergenceWarning: Liblinear failed to converge, increase the number of iterations.\n",
      "  warnings.warn(\n",
      "/Users/antoneremin/Documents/JupyterNotebooks/python/lib/python3.10/site-packages/sklearn/svm/_base.py:1244: ConvergenceWarning: Liblinear failed to converge, increase the number of iterations.\n",
      "  warnings.warn(\n",
      "/Users/antoneremin/Documents/JupyterNotebooks/python/lib/python3.10/site-packages/sklearn/svm/_base.py:1244: ConvergenceWarning: Liblinear failed to converge, increase the number of iterations.\n",
      "  warnings.warn(\n",
      "/Users/antoneremin/Documents/JupyterNotebooks/python/lib/python3.10/site-packages/sklearn/svm/_base.py:1244: ConvergenceWarning: Liblinear failed to converge, increase the number of iterations.\n",
      "  warnings.warn(\n",
      "/Users/antoneremin/Documents/JupyterNotebooks/python/lib/python3.10/site-packages/sklearn/svm/_base.py:1244: ConvergenceWarning: Liblinear failed to converge, increase the number of iterations.\n",
      "  warnings.warn(\n",
      "/Users/antoneremin/Documents/JupyterNotebooks/python/lib/python3.10/site-packages/sklearn/svm/_base.py:1244: ConvergenceWarning: Liblinear failed to converge, increase the number of iterations.\n",
      "  warnings.warn(\n",
      "/Users/antoneremin/Documents/JupyterNotebooks/python/lib/python3.10/site-packages/sklearn/svm/_base.py:1244: ConvergenceWarning: Liblinear failed to converge, increase the number of iterations.\n",
      "  warnings.warn(\n"
     ]
    },
    {
     "data": {
      "text/html": [
       "<style>#sk-container-id-1 {color: black;background-color: white;}#sk-container-id-1 pre{padding: 0;}#sk-container-id-1 div.sk-toggleable {background-color: white;}#sk-container-id-1 label.sk-toggleable__label {cursor: pointer;display: block;width: 100%;margin-bottom: 0;padding: 0.3em;box-sizing: border-box;text-align: center;}#sk-container-id-1 label.sk-toggleable__label-arrow:before {content: \"▸\";float: left;margin-right: 0.25em;color: #696969;}#sk-container-id-1 label.sk-toggleable__label-arrow:hover:before {color: black;}#sk-container-id-1 div.sk-estimator:hover label.sk-toggleable__label-arrow:before {color: black;}#sk-container-id-1 div.sk-toggleable__content {max-height: 0;max-width: 0;overflow: hidden;text-align: left;background-color: #f0f8ff;}#sk-container-id-1 div.sk-toggleable__content pre {margin: 0.2em;color: black;border-radius: 0.25em;background-color: #f0f8ff;}#sk-container-id-1 input.sk-toggleable__control:checked~div.sk-toggleable__content {max-height: 200px;max-width: 100%;overflow: auto;}#sk-container-id-1 input.sk-toggleable__control:checked~label.sk-toggleable__label-arrow:before {content: \"▾\";}#sk-container-id-1 div.sk-estimator input.sk-toggleable__control:checked~label.sk-toggleable__label {background-color: #d4ebff;}#sk-container-id-1 div.sk-label input.sk-toggleable__control:checked~label.sk-toggleable__label {background-color: #d4ebff;}#sk-container-id-1 input.sk-hidden--visually {border: 0;clip: rect(1px 1px 1px 1px);clip: rect(1px, 1px, 1px, 1px);height: 1px;margin: -1px;overflow: hidden;padding: 0;position: absolute;width: 1px;}#sk-container-id-1 div.sk-estimator {font-family: monospace;background-color: #f0f8ff;border: 1px dotted black;border-radius: 0.25em;box-sizing: border-box;margin-bottom: 0.5em;}#sk-container-id-1 div.sk-estimator:hover {background-color: #d4ebff;}#sk-container-id-1 div.sk-parallel-item::after {content: \"\";width: 100%;border-bottom: 1px solid gray;flex-grow: 1;}#sk-container-id-1 div.sk-label:hover label.sk-toggleable__label {background-color: #d4ebff;}#sk-container-id-1 div.sk-serial::before {content: \"\";position: absolute;border-left: 1px solid gray;box-sizing: border-box;top: 0;bottom: 0;left: 50%;z-index: 0;}#sk-container-id-1 div.sk-serial {display: flex;flex-direction: column;align-items: center;background-color: white;padding-right: 0.2em;padding-left: 0.2em;position: relative;}#sk-container-id-1 div.sk-item {position: relative;z-index: 1;}#sk-container-id-1 div.sk-parallel {display: flex;align-items: stretch;justify-content: center;background-color: white;position: relative;}#sk-container-id-1 div.sk-item::before, #sk-container-id-1 div.sk-parallel-item::before {content: \"\";position: absolute;border-left: 1px solid gray;box-sizing: border-box;top: 0;bottom: 0;left: 50%;z-index: -1;}#sk-container-id-1 div.sk-parallel-item {display: flex;flex-direction: column;z-index: 1;position: relative;background-color: white;}#sk-container-id-1 div.sk-parallel-item:first-child::after {align-self: flex-end;width: 50%;}#sk-container-id-1 div.sk-parallel-item:last-child::after {align-self: flex-start;width: 50%;}#sk-container-id-1 div.sk-parallel-item:only-child::after {width: 0;}#sk-container-id-1 div.sk-dashed-wrapped {border: 1px dashed gray;margin: 0 0.4em 0.5em 0.4em;box-sizing: border-box;padding-bottom: 0.4em;background-color: white;}#sk-container-id-1 div.sk-label label {font-family: monospace;font-weight: bold;display: inline-block;line-height: 1.2em;}#sk-container-id-1 div.sk-label-container {text-align: center;}#sk-container-id-1 div.sk-container {/* jupyter's `normalize.less` sets `[hidden] { display: none; }` but bootstrap.min.css set `[hidden] { display: none !important; }` so we also need the `!important` here to be able to override the default hidden behavior on the sphinx rendered scikit-learn.org. See: https://github.com/scikit-learn/scikit-learn/issues/21755 */display: inline-block !important;position: relative;}#sk-container-id-1 div.sk-text-repr-fallback {display: none;}</style><div id=\"sk-container-id-1\" class=\"sk-top-container\"><div class=\"sk-text-repr-fallback\"><pre>GridSearchCV(cv=10,\n",
       "             estimator=Pipeline(steps=[(&#x27;preprocesser&#x27;,\n",
       "                                        ColumnTransformer(transformers=[(&#x27;pipeline-1&#x27;,\n",
       "                                                                         Pipeline(steps=[(&#x27;simpleimputer&#x27;,\n",
       "                                                                                          SimpleImputer()),\n",
       "                                                                                         (&#x27;robustscaler&#x27;,\n",
       "                                                                                          RobustScaler())]),\n",
       "                                                                         [&#x27;ClientPeriod&#x27;,\n",
       "                                                                          &#x27;MonthlySpending&#x27;,\n",
       "                                                                          &#x27;TotalSpent&#x27;]),\n",
       "                                                                        (&#x27;pipeline-2&#x27;,\n",
       "                                                                         Pipeline(steps=[(&#x27;onehotencoder&#x27;,\n",
       "                                                                                          OneHotEncoder(handle_unknown=&#x27;ignore&#x27;))]),\n",
       "                                                                         [&#x27;Sex&#x27;,\n",
       "                                                                          &#x27;IsSeniorCitiz...\n",
       "                                                                          &#x27;IsBillingPaperless&#x27;,\n",
       "                                                                          &#x27;PaymentMethod&#x27;])])),\n",
       "                                       (&#x27;classifier&#x27;,\n",
       "                                        LogisticRegression(dual=True,\n",
       "                                                           random_state=42))]),\n",
       "             n_jobs=-1,\n",
       "             param_grid=[{&#x27;classifier__C&#x27;: [0.001, 0.01, 0.1, 1.0, 10.0, 100.0,\n",
       "                                            500.0, 1000.0],\n",
       "                          &#x27;classifier__max_iter&#x27;: [1000, 2000, 5000, 10000],\n",
       "                          &#x27;classifier__penalty&#x27;: [&#x27;l1&#x27;, &#x27;l2&#x27;, &#x27;elasticnet&#x27;],\n",
       "                          &#x27;classifier__solver&#x27;: [&#x27;newton-cg&#x27;, &#x27;liblinear&#x27;,\n",
       "                                                 &#x27;sag&#x27;, &#x27;saga&#x27;]}],\n",
       "             scoring=&#x27;roc_auc&#x27;)</pre><b>In a Jupyter environment, please rerun this cell to show the HTML representation or trust the notebook. <br />On GitHub, the HTML representation is unable to render, please try loading this page with nbviewer.org.</b></div><div class=\"sk-container\" hidden><div class=\"sk-item sk-dashed-wrapped\"><div class=\"sk-label-container\"><div class=\"sk-label sk-toggleable\"><input class=\"sk-toggleable__control sk-hidden--visually\" id=\"sk-estimator-id-1\" type=\"checkbox\" ><label for=\"sk-estimator-id-1\" class=\"sk-toggleable__label sk-toggleable__label-arrow\">GridSearchCV</label><div class=\"sk-toggleable__content\"><pre>GridSearchCV(cv=10,\n",
       "             estimator=Pipeline(steps=[(&#x27;preprocesser&#x27;,\n",
       "                                        ColumnTransformer(transformers=[(&#x27;pipeline-1&#x27;,\n",
       "                                                                         Pipeline(steps=[(&#x27;simpleimputer&#x27;,\n",
       "                                                                                          SimpleImputer()),\n",
       "                                                                                         (&#x27;robustscaler&#x27;,\n",
       "                                                                                          RobustScaler())]),\n",
       "                                                                         [&#x27;ClientPeriod&#x27;,\n",
       "                                                                          &#x27;MonthlySpending&#x27;,\n",
       "                                                                          &#x27;TotalSpent&#x27;]),\n",
       "                                                                        (&#x27;pipeline-2&#x27;,\n",
       "                                                                         Pipeline(steps=[(&#x27;onehotencoder&#x27;,\n",
       "                                                                                          OneHotEncoder(handle_unknown=&#x27;ignore&#x27;))]),\n",
       "                                                                         [&#x27;Sex&#x27;,\n",
       "                                                                          &#x27;IsSeniorCitiz...\n",
       "                                                                          &#x27;IsBillingPaperless&#x27;,\n",
       "                                                                          &#x27;PaymentMethod&#x27;])])),\n",
       "                                       (&#x27;classifier&#x27;,\n",
       "                                        LogisticRegression(dual=True,\n",
       "                                                           random_state=42))]),\n",
       "             n_jobs=-1,\n",
       "             param_grid=[{&#x27;classifier__C&#x27;: [0.001, 0.01, 0.1, 1.0, 10.0, 100.0,\n",
       "                                            500.0, 1000.0],\n",
       "                          &#x27;classifier__max_iter&#x27;: [1000, 2000, 5000, 10000],\n",
       "                          &#x27;classifier__penalty&#x27;: [&#x27;l1&#x27;, &#x27;l2&#x27;, &#x27;elasticnet&#x27;],\n",
       "                          &#x27;classifier__solver&#x27;: [&#x27;newton-cg&#x27;, &#x27;liblinear&#x27;,\n",
       "                                                 &#x27;sag&#x27;, &#x27;saga&#x27;]}],\n",
       "             scoring=&#x27;roc_auc&#x27;)</pre></div></div></div><div class=\"sk-parallel\"><div class=\"sk-parallel-item\"><div class=\"sk-item\"><div class=\"sk-label-container\"><div class=\"sk-label sk-toggleable\"><input class=\"sk-toggleable__control sk-hidden--visually\" id=\"sk-estimator-id-2\" type=\"checkbox\" ><label for=\"sk-estimator-id-2\" class=\"sk-toggleable__label sk-toggleable__label-arrow\">estimator: Pipeline</label><div class=\"sk-toggleable__content\"><pre>Pipeline(steps=[(&#x27;preprocesser&#x27;,\n",
       "                 ColumnTransformer(transformers=[(&#x27;pipeline-1&#x27;,\n",
       "                                                  Pipeline(steps=[(&#x27;simpleimputer&#x27;,\n",
       "                                                                   SimpleImputer()),\n",
       "                                                                  (&#x27;robustscaler&#x27;,\n",
       "                                                                   RobustScaler())]),\n",
       "                                                  [&#x27;ClientPeriod&#x27;,\n",
       "                                                   &#x27;MonthlySpending&#x27;,\n",
       "                                                   &#x27;TotalSpent&#x27;]),\n",
       "                                                 (&#x27;pipeline-2&#x27;,\n",
       "                                                  Pipeline(steps=[(&#x27;onehotencoder&#x27;,\n",
       "                                                                   OneHotEncoder(handle_unknown=&#x27;ignore&#x27;))]),\n",
       "                                                  [&#x27;Sex&#x27;, &#x27;IsSeniorCitizen&#x27;,\n",
       "                                                   &#x27;HasPartner&#x27;, &#x27;HasChild&#x27;,\n",
       "                                                   &#x27;HasPhoneService&#x27;,\n",
       "                                                   &#x27;HasMultiplePhoneNumbers&#x27;,\n",
       "                                                   &#x27;HasInternetService&#x27;,\n",
       "                                                   &#x27;HasOnlineSecurityService&#x27;,\n",
       "                                                   &#x27;HasOnlineBackup&#x27;,\n",
       "                                                   &#x27;HasDeviceProtection&#x27;,\n",
       "                                                   &#x27;HasTechSupportAccess&#x27;,\n",
       "                                                   &#x27;HasOnlineTV&#x27;,\n",
       "                                                   &#x27;HasMovieSubscription&#x27;,\n",
       "                                                   &#x27;HasContractPhone&#x27;,\n",
       "                                                   &#x27;IsBillingPaperless&#x27;,\n",
       "                                                   &#x27;PaymentMethod&#x27;])])),\n",
       "                (&#x27;classifier&#x27;, LogisticRegression(dual=True, random_state=42))])</pre></div></div></div><div class=\"sk-serial\"><div class=\"sk-item\"><div class=\"sk-serial\"><div class=\"sk-item sk-dashed-wrapped\"><div class=\"sk-label-container\"><div class=\"sk-label sk-toggleable\"><input class=\"sk-toggleable__control sk-hidden--visually\" id=\"sk-estimator-id-3\" type=\"checkbox\" ><label for=\"sk-estimator-id-3\" class=\"sk-toggleable__label sk-toggleable__label-arrow\">preprocesser: ColumnTransformer</label><div class=\"sk-toggleable__content\"><pre>ColumnTransformer(transformers=[(&#x27;pipeline-1&#x27;,\n",
       "                                 Pipeline(steps=[(&#x27;simpleimputer&#x27;,\n",
       "                                                  SimpleImputer()),\n",
       "                                                 (&#x27;robustscaler&#x27;,\n",
       "                                                  RobustScaler())]),\n",
       "                                 [&#x27;ClientPeriod&#x27;, &#x27;MonthlySpending&#x27;,\n",
       "                                  &#x27;TotalSpent&#x27;]),\n",
       "                                (&#x27;pipeline-2&#x27;,\n",
       "                                 Pipeline(steps=[(&#x27;onehotencoder&#x27;,\n",
       "                                                  OneHotEncoder(handle_unknown=&#x27;ignore&#x27;))]),\n",
       "                                 [&#x27;Sex&#x27;, &#x27;IsSeniorCitizen&#x27;, &#x27;HasPartner&#x27;,\n",
       "                                  &#x27;HasChild&#x27;, &#x27;HasPhoneService&#x27;,\n",
       "                                  &#x27;HasMultiplePhoneNumbers&#x27;,\n",
       "                                  &#x27;HasInternetService&#x27;,\n",
       "                                  &#x27;HasOnlineSecurityService&#x27;, &#x27;HasOnlineBackup&#x27;,\n",
       "                                  &#x27;HasDeviceProtection&#x27;, &#x27;HasTechSupportAccess&#x27;,\n",
       "                                  &#x27;HasOnlineTV&#x27;, &#x27;HasMovieSubscription&#x27;,\n",
       "                                  &#x27;HasContractPhone&#x27;, &#x27;IsBillingPaperless&#x27;,\n",
       "                                  &#x27;PaymentMethod&#x27;])])</pre></div></div></div><div class=\"sk-parallel\"><div class=\"sk-parallel-item\"><div class=\"sk-item\"><div class=\"sk-label-container\"><div class=\"sk-label sk-toggleable\"><input class=\"sk-toggleable__control sk-hidden--visually\" id=\"sk-estimator-id-4\" type=\"checkbox\" ><label for=\"sk-estimator-id-4\" class=\"sk-toggleable__label sk-toggleable__label-arrow\">pipeline-1</label><div class=\"sk-toggleable__content\"><pre>[&#x27;ClientPeriod&#x27;, &#x27;MonthlySpending&#x27;, &#x27;TotalSpent&#x27;]</pre></div></div></div><div class=\"sk-serial\"><div class=\"sk-item\"><div class=\"sk-serial\"><div class=\"sk-item\"><div class=\"sk-estimator sk-toggleable\"><input class=\"sk-toggleable__control sk-hidden--visually\" id=\"sk-estimator-id-5\" type=\"checkbox\" ><label for=\"sk-estimator-id-5\" class=\"sk-toggleable__label sk-toggleable__label-arrow\">SimpleImputer</label><div class=\"sk-toggleable__content\"><pre>SimpleImputer()</pre></div></div></div><div class=\"sk-item\"><div class=\"sk-estimator sk-toggleable\"><input class=\"sk-toggleable__control sk-hidden--visually\" id=\"sk-estimator-id-6\" type=\"checkbox\" ><label for=\"sk-estimator-id-6\" class=\"sk-toggleable__label sk-toggleable__label-arrow\">RobustScaler</label><div class=\"sk-toggleable__content\"><pre>RobustScaler()</pre></div></div></div></div></div></div></div></div><div class=\"sk-parallel-item\"><div class=\"sk-item\"><div class=\"sk-label-container\"><div class=\"sk-label sk-toggleable\"><input class=\"sk-toggleable__control sk-hidden--visually\" id=\"sk-estimator-id-7\" type=\"checkbox\" ><label for=\"sk-estimator-id-7\" class=\"sk-toggleable__label sk-toggleable__label-arrow\">pipeline-2</label><div class=\"sk-toggleable__content\"><pre>[&#x27;Sex&#x27;, &#x27;IsSeniorCitizen&#x27;, &#x27;HasPartner&#x27;, &#x27;HasChild&#x27;, &#x27;HasPhoneService&#x27;, &#x27;HasMultiplePhoneNumbers&#x27;, &#x27;HasInternetService&#x27;, &#x27;HasOnlineSecurityService&#x27;, &#x27;HasOnlineBackup&#x27;, &#x27;HasDeviceProtection&#x27;, &#x27;HasTechSupportAccess&#x27;, &#x27;HasOnlineTV&#x27;, &#x27;HasMovieSubscription&#x27;, &#x27;HasContractPhone&#x27;, &#x27;IsBillingPaperless&#x27;, &#x27;PaymentMethod&#x27;]</pre></div></div></div><div class=\"sk-serial\"><div class=\"sk-item\"><div class=\"sk-serial\"><div class=\"sk-item\"><div class=\"sk-estimator sk-toggleable\"><input class=\"sk-toggleable__control sk-hidden--visually\" id=\"sk-estimator-id-8\" type=\"checkbox\" ><label for=\"sk-estimator-id-8\" class=\"sk-toggleable__label sk-toggleable__label-arrow\">OneHotEncoder</label><div class=\"sk-toggleable__content\"><pre>OneHotEncoder(handle_unknown=&#x27;ignore&#x27;)</pre></div></div></div></div></div></div></div></div></div></div><div class=\"sk-item\"><div class=\"sk-estimator sk-toggleable\"><input class=\"sk-toggleable__control sk-hidden--visually\" id=\"sk-estimator-id-9\" type=\"checkbox\" ><label for=\"sk-estimator-id-9\" class=\"sk-toggleable__label sk-toggleable__label-arrow\">LogisticRegression</label><div class=\"sk-toggleable__content\"><pre>LogisticRegression(dual=True, random_state=42)</pre></div></div></div></div></div></div></div></div></div></div></div></div>"
      ],
      "text/plain": [
       "GridSearchCV(cv=10,\n",
       "             estimator=Pipeline(steps=[('preprocesser',\n",
       "                                        ColumnTransformer(transformers=[('pipeline-1',\n",
       "                                                                         Pipeline(steps=[('simpleimputer',\n",
       "                                                                                          SimpleImputer()),\n",
       "                                                                                         ('robustscaler',\n",
       "                                                                                          RobustScaler())]),\n",
       "                                                                         ['ClientPeriod',\n",
       "                                                                          'MonthlySpending',\n",
       "                                                                          'TotalSpent']),\n",
       "                                                                        ('pipeline-2',\n",
       "                                                                         Pipeline(steps=[('onehotencoder',\n",
       "                                                                                          OneHotEncoder(handle_unknown='ignore'))]),\n",
       "                                                                         ['Sex',\n",
       "                                                                          'IsSeniorCitiz...\n",
       "                                                                          'IsBillingPaperless',\n",
       "                                                                          'PaymentMethod'])])),\n",
       "                                       ('classifier',\n",
       "                                        LogisticRegression(dual=True,\n",
       "                                                           random_state=42))]),\n",
       "             n_jobs=-1,\n",
       "             param_grid=[{'classifier__C': [0.001, 0.01, 0.1, 1.0, 10.0, 100.0,\n",
       "                                            500.0, 1000.0],\n",
       "                          'classifier__max_iter': [1000, 2000, 5000, 10000],\n",
       "                          'classifier__penalty': ['l1', 'l2', 'elasticnet'],\n",
       "                          'classifier__solver': ['newton-cg', 'liblinear',\n",
       "                                                 'sag', 'saga']}],\n",
       "             scoring='roc_auc')"
      ]
     },
     "execution_count": 16,
     "metadata": {},
     "output_type": "execute_result"
    }
   ],
   "source": [
    "# Pipeline для преобразования столбцов\n",
    "numeric_transformer = make_pipeline(SimpleImputer(strategy='mean'), RobustScaler())\n",
    "categorical_transformer = make_pipeline(OneHotEncoder(handle_unknown='ignore'))\n",
    "columns_transformer = make_column_transformer(\n",
    "    (numeric_transformer, num_cols),\n",
    "    (categorical_transformer, cat_cols))\n",
    "\n",
    "pipeline = Pipeline(steps=[(\"preprocesser\", columns_transformer), \n",
    "                           (\"classifier\", LogisticRegression(dual = True, random_state = 42))])\n",
    "\n",
    "# Сетка гиперпараметров для подбора лучшей модели\n",
    "param_grid = [\n",
    "    {\n",
    "        \"classifier__C\": [0.001, 0.01, 0.1, 1.0, 10.0, 100.0, 500.0, 1000.0],\n",
    "        'classifier__solver': ['newton-cg', 'liblinear', 'sag', 'saga'],\n",
    "        'classifier__max_iter' : [1000, 2000, 5000, 10000],\n",
    "        'classifier__penalty': ['l1','l2','elasticnet']\n",
    "    }\n",
    "]\n",
    "\n",
    "basic_logistic_regression_gs = GridSearchCV(pipeline, param_grid, cv=10, verbose=0, n_jobs=-1, scoring='roc_auc')\n",
    "basic_logistic_regression_gs.fit(data[feature_cols], data[target_col])"
   ]
  },
  {
   "cell_type": "markdown",
   "metadata": {
    "id": "uVahy6JKEEZQ"
   },
   "source": [
    "Выпишите какое лучшее качество и с какими параметрами вам удалось получить"
   ]
  },
  {
   "cell_type": "code",
   "execution_count": 17,
   "metadata": {
    "id": "36729TOQEEZR"
   },
   "outputs": [
    {
     "name": "stdout",
     "output_type": "stream",
     "text": [
      "Значения лучших параметров: {'classifier__C': 100.0, 'classifier__max_iter': 10000, 'classifier__penalty': 'l2', 'classifier__solver': 'liblinear'}\n",
      "Лучшее качество на кросс валидации: 0.84435\n"
     ]
    }
   ],
   "source": [
    "print(f\"Значения лучших параметров: {basic_logistic_regression_gs.best_params_}\")\n",
    "print(f\"Лучшее качество на кросс валидации: {basic_logistic_regression_gs.best_score_:.5f}\")"
   ]
  },
  {
   "cell_type": "markdown",
   "metadata": {
    "id": "BlTeVy7fEEZR"
   },
   "source": [
    "## Применение градиентного бустинга (2 балла)\n",
    "\n",
    "Если вы хотите получить баллы за точный ответ, то стоит попробовать градиентный бустинг. Часто градиентный бустинг с параметрами по умолчанию даст вам 80% результата за 0% усилий.\n",
    "\n",
    "Мы будем использовать catboost, поэтому нам не надо кодировать категориальные признаки. Catboost сделает это сам (в .fit() надо передать cat_features=cat_cols). А численные признаки нормировать для моделей, основанных на деревьях не нужно.\n",
    "\n",
    "1) Разделите выборку на train/valid. Протестируйте catboost cо стандартными параметрами.\n",
    "\n",
    "2) Протестируйте разные занчения параметра количества деревьев и learning_rate'а и выберите лучшую по метрике ROC-AUC комбинацию. \n",
    "\n",
    "(Дополнительно) Есть некоторые сложности с тем, чтобы использовать CatBoostClassifier вместе с GridSearchCV, поэтому мы не просим использовать кроссвалидацию. Но можете попробовать)"
   ]
  },
  {
   "cell_type": "code",
   "execution_count": null,
   "metadata": {
    "id": "Fioxxlp-EEZS"
   },
   "outputs": [],
   "source": [
    "# С помощью GridSearchCV подберем оптимальные параметры для CatboostClassifier\n",
    "from catboost import CatBoostClassifier    \n",
    "\n",
    "basic_catboost_model = CatBoostClassifier(cat_features=cat_cols, silent=True, random_seed=42)\n",
    "parameters = {'depth': [1, 2, 3, 5],\n",
    "              'learning_rate' : [0.04, 0.05, 0.1, 0.2],\n",
    "              'iterations'    : [100, 250, 500, 1000]\n",
    "              }\n",
    "\n",
    "basic_catboost_gs = GridSearchCV(estimator=basic_catboost_model, param_grid = parameters, cv = 10, n_jobs=-1, scoring='roc_auc')\n",
    "basic_catboost_gs.fit(data[feature_cols], data[target_col])"
   ]
  },
  {
   "cell_type": "code",
   "execution_count": null,
   "metadata": {},
   "outputs": [],
   "source": [
    "print(f\"Значения лучших параметров для модели CatBoost Classifier: {basic_catboost_gs.best_params_}\")\n",
    "print(f\"Лучшее качество на кросс валидации для модели CatBoost Classifier: {basic_catboost_gs.best_score_:.5f}\")"
   ]
  },
  {
   "cell_type": "markdown",
   "metadata": {
    "id": "dDMXbvNZEEZV"
   },
   "source": [
    "# Предсказания"
   ]
  },
  {
   "cell_type": "code",
   "execution_count": null,
   "metadata": {},
   "outputs": [],
   "source": [
    "# Сохраним результат значения модели CatBoost\n",
    "X_test = pd.read_csv('./test.csv')\n",
    "# Заменяем пустые строки на медианное значение из \n",
    "X_test[\"TotalSpent\"] = X_test[\"TotalSpent\"].apply(lambda x: None if x == \" \" else float(x))\n",
    "\n",
    "submission = pd.read_csv('./submission.csv')\n",
    "submission['Churn'] = basic_catboost_gs.predict_proba(X_test)[:,1]# best_model.predict_proba(X_test) / best_model.predict(X_test)\n",
    "submission.to_csv('./basic_catboost_submission.csv', index=False)"
   ]
  },
  {
   "cell_type": "markdown",
   "metadata": {},
   "source": [
    "# Метрика на Kaggle\n",
    "\n",
    "Данный способ решения дает: 0.85143 на платформе Kaggle. Ниже попробуем его улучшить добавить кое какие трюки"
   ]
  },
  {
   "cell_type": "markdown",
   "metadata": {},
   "source": [
    "Прежде чем начать улучшать метрики модели, посмотрим на такой параметр как \"Feature Importance\" и посмотрим какие же из признков вносят наибольший вклад в итоговый результат модели. Для этого обучим еще раз модель CatBoost с уже известными самыми оптимальными параметрами с предыдущего шага."
   ]
  },
  {
   "cell_type": "code",
   "execution_count": null,
   "metadata": {},
   "outputs": [],
   "source": [
    "basic_catboost =  CatBoostClassifier(cat_features=cat_cols, \n",
    "                                     depth=3,\n",
    "                                     iterations=250,\n",
    "                                     learning_rate=0.04,\n",
    "                                     silent=True, \n",
    "                                     random_seed=42)\n",
    "basic_catboost.fit(data[feature_cols], data[target_col])"
   ]
  },
  {
   "cell_type": "code",
   "execution_count": null,
   "metadata": {},
   "outputs": [],
   "source": [
    "feature_importance = basic_catboost.feature_importances_\n",
    "sorted_idx = np.argsort(feature_importance)\n",
    "fig = plt.figure(figsize=(12, 6))\n",
    "plt.barh(range(len(sorted_idx)), feature_importance[sorted_idx], align='center')\n",
    "plt.yticks(range(len(sorted_idx)), np.array(X_test.columns)[sorted_idx])\n",
    "plt.title('Feature Importance')"
   ]
  },
  {
   "cell_type": "markdown",
   "metadata": {},
   "source": [
    "Заметим что признаки \"HasContractPhone\" и \"ClientPeriod\" дают наибольший вклад в итоговый результат модели."
   ]
  },
  {
   "cell_type": "markdown",
   "metadata": {},
   "source": [
    "# Дополнительные методы для улучшения модели\n",
    "\n",
    "Попробуем улучшить нашу модель следующим образом.\n",
    "1. Добавим категориальные фичи для числовых признаков. На графиках выше явно видны \"хвосты\" поэтому стоит попробовать дополнительные категориальные признаки того, что значение принадлежит одному из хвостов;\n",
    "2. Для категориального признака \"HasContractPhone\" при значении параметра \"Two year\" практически гарантированно определяет ответ, поэтому внесем дополнительный признак isPhoneContractTwoYear\n",
    "3. Мы обучим 3 модели, Лог Регрессию на всех данных, Лог Регрессию только на числовых признаках и CatBoost и поверх этой модели мы обучим CatBoost, таким образом мы применим технику стекинга, в надежде получить еще более лучший результат."
   ]
  },
  {
   "cell_type": "code",
   "execution_count": null,
   "metadata": {},
   "outputs": [],
   "source": [
    "# Метод для получения новых фичей.\n",
    "def add_new_features(original_df):\n",
    "    def set_interval_client(x):\n",
    "        if x < 3:\n",
    "            return 'min'\n",
    "        elif 3 <= x <= 65:\n",
    "            return 'medium'\n",
    "        else:\n",
    "            return 'max'\n",
    "    \n",
    "    # Устанавливаем значения None, для строковых значений в поле TotalSpent\n",
    "    original_df[\"TotalSpent\"] = original_df[\"TotalSpent\"].apply(lambda x: None if x == \" \" else float(x))\n",
    "    \n",
    "    # Добавляем фичу, которая нам будет показывать в какой из интервалов попадает значение из колонки ClientPeriod\n",
    "    original_df[\"ClientPeriod_categ\"] = original_df[\"ClientPeriod\"].apply(set_interval_client)\n",
    "    \n",
    "    # Добавляем категориальную фичу для поля TotalSpent\n",
    "    original_df[\"isLowerTotalSpent\"] = original_df[\"TotalSpent\"].apply(lambda x: True if x < 300 else False)\n",
    "    \n",
    "    # Добавляем категориальную фичу для поля MonthlySpending\n",
    "    original_df[\"isLowerMonthlySpending\"] = original_df[\"MonthlySpending\"].apply(lambda x: True if x < 22 else False)\n",
    "    \n",
    "    # Добавляем категориальную фичу для поля HasContractPhone так как для значений \"Two year\" почти всегда получается 0 класс.\n",
    "    original_df[\"isTwoYearContractPhone\"] = original_df[\"HasContractPhone\"].apply(lambda x: True if x == \"Two year\" else False)\n",
    "    \n",
    "    return original_df"
   ]
  },
  {
   "cell_type": "code",
   "execution_count": null,
   "metadata": {},
   "outputs": [],
   "source": [
    "# Повторно считываем исходные данные\n",
    "original_data = pd.read_csv('./train.csv')\n",
    "original_data = add_new_features(original_data)"
   ]
  },
  {
   "cell_type": "code",
   "execution_count": null,
   "metadata": {},
   "outputs": [],
   "source": [
    "all_categ_features = [\"ClientPeriod_categ\", \"isLowerTotalSpent\", \"isLowerMonthlySpending\", \"isTwoYearContractPhone\"] + cat_cols"
   ]
  },
  {
   "cell_type": "code",
   "execution_count": null,
   "metadata": {},
   "outputs": [],
   "source": [
    "# Повторяем обучение тех же самых моделей и вновь запускаем поиск оптимальных гиперпараметров"
   ]
  },
  {
   "cell_type": "markdown",
   "metadata": {},
   "source": [
    "### LogisticRegression на всех столбцах"
   ]
  },
  {
   "cell_type": "code",
   "execution_count": null,
   "metadata": {},
   "outputs": [],
   "source": [
    "# Pipeline для преобразования столбцов\n",
    "improved_numeric_transformer = make_pipeline(SimpleImputer(strategy='mean'), RobustScaler())\n",
    "improved_categorical_transformer = make_pipeline(OneHotEncoder(handle_unknown='ignore'))\n",
    "improved_columns_transformer = make_column_transformer(\n",
    "    (numeric_transformer, num_cols),\n",
    "    (categorical_transformer, all_categ_features))\n",
    "\n",
    "improved_pipeline = Pipeline(steps=[(\"preprocesser\", improved_columns_transformer), \n",
    "                           (\"classifier\", LogisticRegression(dual = True, random_state = 42))])\n",
    "\n",
    "# Сетка гиперпараметров для подбора лучшей модели\n",
    "param_grid = [\n",
    "    {\n",
    "        \"classifier__C\": [0.001, 0.01, 0.1, 1.0, 10.0, 100.0, 500.0, 1000.0],\n",
    "        'classifier__solver': ['newton-cg', 'liblinear', 'sag', 'saga'],\n",
    "        'classifier__max_iter' : [1000, 5000, 10000, 20000],\n",
    "        'classifier__penalty': ['l1','l2','elasticnet']\n",
    "    }\n",
    "]\n",
    "\n",
    "logistic_regression_all_columns = GridSearchCV(improved_pipeline, param_grid, cv=10, verbose=0, n_jobs=-1, scoring='roc_auc')\n",
    "logistic_regression_all_columns.fit(original_data[num_cols+all_categ_features], original_data[target_col])"
   ]
  },
  {
   "cell_type": "markdown",
   "metadata": {},
   "source": [
    "## Замечание 6\n",
    "\n",
    "Предыдущее значение метрики было 0.84449 тогда как для новой модели у нас 0.84929. Те для LogisticRegression мы добавив несколько новых \n",
    "столбцов докинули: 0.0048"
   ]
  },
  {
   "cell_type": "markdown",
   "metadata": {},
   "source": [
    "### LogisticRegression только на числовых признаках"
   ]
  },
  {
   "cell_type": "code",
   "execution_count": null,
   "metadata": {},
   "outputs": [],
   "source": [
    "# Pipeline для преобразования столбцов\n",
    "only_numeric_improved_transformer = make_pipeline(SimpleImputer(strategy='mean'), RobustScaler())\n",
    "only_numeric_improved_columns_transformer = make_column_transformer(\n",
    "    (only_numeric_improved_transformer, num_cols))\n",
    "\n",
    "only_numeric_pipeline = Pipeline(steps=[(\"preprocesser\", only_numeric_improved_columns_transformer), \n",
    "                           (\"classifier\", LogisticRegression(dual = True, random_state = 42))])\n",
    "\n",
    "# Сетка гиперпараметров для подбора лучшей модели\n",
    "param_grid = [\n",
    "    {\n",
    "        \"classifier__C\": [0.001, 0.01, 0.1, 1.0, 10.0, 100.0, 500.0, 1000.0],\n",
    "        'classifier__solver': ['newton-cg', 'liblinear', 'sag', 'saga'],\n",
    "        'classifier__max_iter' : [1000, 5000, 10000],\n",
    "        'classifier__penalty': ['l1','l2','elasticnet']\n",
    "    }\n",
    "]\n",
    "\n",
    "logistic_regression_only_numeric = GridSearchCV(only_numeric_pipeline, param_grid, cv=10, verbose=0, n_jobs=-1, scoring='roc_auc')\n",
    "logistic_regression_only_numeric.fit(original_data[num_cols], original_data[target_col])"
   ]
  },
  {
   "cell_type": "markdown",
   "metadata": {},
   "source": [
    "### CatBoost только на всех столбцах"
   ]
  },
  {
   "cell_type": "code",
   "execution_count": null,
   "metadata": {},
   "outputs": [],
   "source": [
    "# С помощью GridSearchCV подберем оптимальные параметры для CatboostClassifier\n",
    "improved_model = CatBoostClassifier(cat_features=all_categ_features, silent=True, random_seed=42)\n",
    "improved_parameters = {'depth': [1, 3, 5, 10],\n",
    "              'learning_rate' : [0.01, 0.04, 0.05, 0.08, 0.1, 0.2, 0.3],\n",
    "              'iterations'    : [50, 100, 250, 500, 800]\n",
    "              }\n",
    "\n",
    "cat_boost_all_columns = GridSearchCV(estimator=improved_model, param_grid = improved_parameters, cv = 10, n_jobs=-1, scoring='roc_auc')\n",
    "cat_boost_all_columns.fit(original_data[num_cols+all_categ_features], original_data[target_col])"
   ]
  },
  {
   "cell_type": "code",
   "execution_count": null,
   "metadata": {},
   "outputs": [],
   "source": [
    "print(f\"Значения лучших параметров для логистической регрессии с новыми фичами: {logistic_regression_all_columns.best_params_}\")\n",
    "print(f\"Лучшее качество на кросс валидации для логистической регрессии с новыми фичами: {logistic_regression_all_columns.best_score_:.5f}\")"
   ]
  },
  {
   "cell_type": "code",
   "execution_count": null,
   "metadata": {},
   "outputs": [],
   "source": [
    "print(f\"Значения лучших параметров для логистической регрессии только на числовых столбцах: {logistic_regression_only_numeric.best_params_}\")\n",
    "print(f\"Лучшее качество на кросс валидации для логистической регрессии только на числовых столбцах: {logistic_regression_only_numeric.best_score_:.5f}\")"
   ]
  },
  {
   "cell_type": "code",
   "execution_count": null,
   "metadata": {},
   "outputs": [],
   "source": [
    "print(f\"Значения лучших параметров для модели CatBoost Classifier с новыми фичами: {cat_boost_all_columns.best_params_}\")\n",
    "print(f\"Лучшее качество на кросс валидации для модели CatBoost Classifier с новыми фичами: {cat_boost_all_columns.best_score_:.5f}\")"
   ]
  },
  {
   "cell_type": "code",
   "execution_count": null,
   "metadata": {},
   "outputs": [],
   "source": [
    "from sklearn.ensemble import StackingClassifier\n",
    "from sklearn.tree import DecisionTreeClassifier\n",
    "\n",
    "numeric_transformer = make_pipeline(SimpleImputer(strategy='mean'), RobustScaler())\n",
    "categorical_transformer = make_pipeline(OneHotEncoder(handle_unknown='ignore'))\n",
    "all_columns_transformer = make_column_transformer(\n",
    "    (numeric_transformer, num_cols),\n",
    "    (categorical_transformer, all_categ_features))\n",
    "only_numeric_columns_transformer = make_column_transformer((numeric_transformer, num_cols))\n",
    "\n",
    "\n",
    "estimators = [\n",
    "('log_reg_all_columns', make_pipeline(all_columns_transformer, LogisticRegression(\n",
    "                                C=500.0, \n",
    "                                max_iter=5000, \n",
    "                                penalty='l2', \n",
    "                                solver='liblinear',\n",
    "                                dual = True, \n",
    "                                random_state = 42))),\n",
    "('cat_boost', CatBoostClassifier(cat_features=all_categ_features,\n",
    "                                 depth=1,\n",
    "                                 iterations=500,\n",
    "                                 learning_rate=0.05,\n",
    "                                 silent=True,\n",
    "                                 random_seed=42)),\n",
    "('log_reg_only_numeric', make_pipeline(only_numeric_columns_transformer, LogisticRegression(\n",
    "                                 C=1000.0, \n",
    "                                 max_iter=5000, \n",
    "                                 penalty='l2', \n",
    "                                 solver='liblinear',\n",
    "                                 dual = True, \n",
    "                                 random_state = 42)))]\n",
    "\n",
    "stacking_model = StackingClassifier(estimators=estimators, final_estimator=CatBoostClassifier(silent=True, random_seed=42))\n",
    "param_grid = {'stack_method': ['auto', 'predict_proba', 'decision_function', 'predict']}\n",
    "\n",
    "stacking_model = GridSearchCV(estimator=stacking_model, param_grid=param_grid, cv = 10, n_jobs=-1, scoring='roc_auc')\n",
    "stacking_model.fit(original_data[num_cols+all_categ_features], original_data[target_col])"
   ]
  },
  {
   "cell_type": "code",
   "execution_count": null,
   "metadata": {},
   "outputs": [],
   "source": [
    "print(f\"Значения лучших параметров для модели Stacking с новыми фичами: {stacking_model.best_params_}\")\n",
    "print(f\"Лучшее качество на кросс валидации для модели Stacking с новыми фичами: {stacking_model.best_score_:.5f}\")"
   ]
  },
  {
   "cell_type": "markdown",
   "metadata": {},
   "source": [
    "# Заключение\n",
    "\n",
    "1. При анализе исходных данных было обнаружено, что None значений нет, однако в столбцах с числовыми значениями были строки с пробелом, данные проблемы бывают в прод системах. Для удобство работы с ними, было принято решение заменить их на None, это позволит обрабатывать их стандартными методами.\n",
    "2. В распределениях некоторых параметров были интересные закономерности, например были сильные хвосты, те много значений вокруг примерно одного значения и небольшое количество вокруг других значений. Также одно из значений категориальной переменной фактически определяло ответ, что делало данное значение довольно сильно скореллированным с ответом.\n",
    "3. Были попробованы 2е базовые модели это Логистическая регрессия и Бустинг на деревьях (Catboost). Бустинг с небольшими усилиями показывал гораздо выше качество в отличае от логистической регрессии и при этом предобработка данных практически не требуется. Что делает данную модель отличной для старта.\n",
    "4. Лучшая модель оказалась Бустингом с добавлением небольшого числа фичей, основанной на некоторых особенностях в данных.\n",
    "5. Был попробован стекинг из моделей, однако по факту он показал себя только хуже, нежели просто бустинг."
   ]
  },
  {
   "cell_type": "code",
   "execution_count": null,
   "metadata": {},
   "outputs": [],
   "source": []
  }
 ],
 "metadata": {
  "colab": {
   "authorship_tag": "ABX9TyNLhaHLxDgfaE0WjMnuolO1",
   "provenance": []
  },
  "kernelspec": {
   "display_name": "Python 3 (ipykernel)",
   "language": "python",
   "name": "python3"
  },
  "language_info": {
   "codemirror_mode": {
    "name": "ipython",
    "version": 3
   },
   "file_extension": ".py",
   "mimetype": "text/x-python",
   "name": "python",
   "nbconvert_exporter": "python",
   "pygments_lexer": "ipython3",
   "version": "3.10.6"
  }
 },
 "nbformat": 4,
 "nbformat_minor": 4
}
